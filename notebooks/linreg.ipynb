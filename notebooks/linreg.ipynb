{
 "cells": [
  {
   "cell_type": "code",
   "execution_count": 2,
   "metadata": {
    "collapsed": true
   },
   "outputs": [],
   "source": [
    "import pandas as pd\n",
    "import numpy as np\n",
    "import sklearn as sk\n",
    "import matplotlib.pyplot as plt\n",
    "from scipy.stats import pearsonr"
   ]
  },
  {
   "cell_type": "markdown",
   "metadata": {},
   "source": [
    "Retrieve master data set"
   ]
  },
  {
   "cell_type": "code",
   "execution_count": 9,
   "metadata": {},
   "outputs": [
    {
     "name": "stdout",
     "output_type": "stream",
     "text": [
      "Index([u'Adm_1', u'Adm_2', u'Adm_3', u'Adm_4', u'Vol', u'Vol_in', u'Vol_out',\n       u'Vol_self', u'Dur', u'Dur_in', u'Dur_out', u'Dur_self', u'Entropy',\n       u'Med_degree', u'Pagerank', u'EigenvectorCentrality',\n       u'Degree_centrality', u'Introversion', u'BloodPos', u'BloodNeg',\n       u'BloodTotal', u'BloodPosRate', u'RapidPos', u'RapidNeg', u'RapidTot',\n       u'RapidPosRate', u'HIVPos', u'HIVNeg', u'HIVTotal', u'HIVPosRate',\n       u'ChildrenBorn', u'ChildrenDied', u'DeathRate', u'HealthAccessProblem',\n       u'HealthAccessNoProblem', u'HealthAccessOther',\n       u'HealthAccessTotalProblems', u'HealthAccessDifficulty', u'UrbRur',\n       u'Capital', u'Poverty', u'Z_Med', u'Pop_1km'],\n      dtype='object')\n"
     ]
    }
   ],
   "source": [
    "data = pd.DataFrame(pd.read_csv('data/processed/civ/master.csv'))\n",
    "print data.columns"
   ]
  },
  {
   "cell_type": "code",
   "execution_count": null,
   "metadata": {},
   "outputs": [],
   "source": [
    "X = data['']"
   ]
  },
  {
   "cell_type": "code",
   "execution_count": 6,
   "metadata": {},
   "outputs": [],
   "source": [
    ""
   ]
  },
  {
   "cell_type": "code",
   "execution_count": null,
   "metadata": {},
   "outputs": [],
   "source": [
    ""
   ]
  }
 ],
 "metadata": {
  "kernelspec": {
   "display_name": "Python 2",
   "language": "python",
   "name": "python2"
  },
  "language_info": {
   "codemirror_mode": {
    "name": "ipython",
    "version": 2.0
   },
   "file_extension": ".py",
   "mimetype": "text/x-python",
   "name": "python",
   "nbconvert_exporter": "python",
   "pygments_lexer": "ipython2",
   "version": "2.7.6"
  }
 },
 "nbformat": 4,
 "nbformat_minor": 0
}