{
 "cells": [
  {
   "cell_type": "code",
   "execution_count": null,
   "metadata": {
    "collapsed": true
   },
   "outputs": [],
   "source": [
    "    for i in ['Adm_1', 'Adm_2', 'Adm_3', 'Adm_4']:\n",
    "        cdr = cdr_dhs.groupby(i)['Vol', 'Vol_in', 'Vol_out'].sum().reset_index()\n",
    "        cdr_2 = cdr_dhs.groupby(i)['Entropy', 'Med_degree', 'Pagerank', 'Introversion'].mean().reset_index()\n",
    "        cdr_3 = cdr.merge(cdr_2, on=i)\n",
    "        dhs = cdr_dhs.groupby(i)['BloodPosRate', 'RapidPosRate', 'DeathRate'].median().reset_index()\n",
    "        cdr_dhs_2 = cdr_3.merge(dhs, on=i)\n",
    "\n",
    "        for j in ['Vol', 'Vol_in', 'Vol_out', 'Entropy', 'Med_degree', 'Pagerank', 'Introversion']:\n",
    "            for k in ['BloodPosRate', 'DeathRate']:\n",
    "                a = np.array(cdr_dhs_2[j])\n",
    "                b = np.array(cdr_dhs_2[k])\n",
    "\n",
    "                outliers = np.where(a > 0)\n",
    "                a = a[outliers]\n",
    "                b = b[outliers]\n",
    "\n",
    "                outliers2 = np.where(b > 0)\n",
    "                a = a[outliers2]\n",
    "                b = b[outliers2]\n",
    "\n",
    "                a = a[~is_outlier(a)]\n",
    "                b = b[~is_outlier(a)]\n",
    "\n",
    "                a = a[~is_outlier(b)]\n",
    "                b = b[~is_outlier(b)]\n",
    "\n",
    "                print a, b\n",
    "\n",
    "                print i, j, k\n",
    "\n",
    "                print pearsonr(a, b)\n",
    "                plt.scatter(a, b)\n",
    "                plt.show()\n",
    "\n",
    "                print pearsonr(a, b)\n",
    "                plt.scatter(np.log(a), b)\n",
    "                plt.show()"
   ]
  }
 ],
 "metadata": {
  "kernelspec": {
   "display_name": "Python 2",
   "language": "python",
   "name": "python2"
  },
  "language_info": {
   "codemirror_mode": {
    "name": "ipython",
    "version": 2.0
   },
   "file_extension": ".py",
   "mimetype": "text/x-python",
   "name": "python",
   "nbconvert_exporter": "python",
   "pygments_lexer": "ipython2",
   "version": "2.7.6"
  }
 },
 "nbformat": 4,
 "nbformat_minor": 0
}