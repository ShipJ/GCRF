{
 "cells": [
  {
   "cell_type": "markdown",
   "metadata": {
    "collapsed": true
   },
   "source": [
    "First I load the relevant Python libraries, and load the DHS and CDR data"
   ]
  },
  {
   "cell_type": "code",
   "execution_count": 49,
   "metadata": {},
   "outputs": [],
   "source": [
    "import pandas as pd\n",
    "import numpy as np\n",
    "from scipy.stats.stats import pearsonr\n",
    "import matplotlib.pyplot as plt\n",
    "\n",
    "path = \"/Users/JackShipway/Desktop/UCLProject\"\n",
    "\n",
    "# DHS data\n",
    "dhs = pd.DataFrame(pd.read_csv('DHSData.csv'))\n",
    "\n",
    "# CDR data - Activity\n",
    "activity_adm_1 = pd.DataFrame(pd.read_csv(path+\"/CorrelationAnalysis/activity_1.csv\"))\n",
    "activity_adm_2 = pd.DataFrame(pd.read_csv(path+\"/CorrelationAnalysis/activity_2.csv\"))\n",
    "activity_adm_3 = pd.DataFrame(pd.read_csv(path+\"/CorrelationAnalysis/activity_3.csv\"))\n",
    "activity_adm_4 = pd.DataFrame(pd.read_csv(path+\"/CorrelationAnalysis/activity_4.csv\"))\n",
    "\n",
    "# CDR data - Entropy\n",
    "entropy_adm_1 = pd.DataFrame(pd.read_csv(path+\"/Project1-Health/entropy_adm_1.csv\"))\n",
    "entropy_adm_2 = pd.DataFrame(pd.read_csv(path+\"/Project1-Health/entropy_adm_2.csv\"))\n",
    "entropy_adm_3 = pd.DataFrame(pd.read_csv(path+\"/Project1-Health/entropy_adm_3.csv\"))\n",
    "entropy_adm_4 = pd.DataFrame(pd.read_csv(path+\"/Project1-Health/entropy_adm_4.csv\"))"
   ]
  },
  {
   "cell_type": "markdown",
   "metadata": {},
   "source": [
    "Now I extract the relevant Malaria metrics from the DHS data, and take the mean over each administrative region"
   ]
  },
  {
   "cell_type": "code",
   "execution_count": 50,
   "metadata": {},
   "outputs": [],
   "source": [
    "malaria_adm_1 = dhs.groupby('Adm_1')['MalariaPerPop'].mean().reset_index()\n",
    "malaria_adm_2 = dhs.groupby('Adm_2')['MalariaPerPop'].mean().reset_index()\n",
    "malaria_adm_3 = dhs.groupby('Adm_3')['MalariaPerPop'].mean().reset_index()\n",
    "malaria_adm_4 = dhs.groupby('Adm_4')['MalariaPerPop'].mean().reset_index()"
   ]
  },
  {
   "cell_type": "markdown",
   "metadata": {},
   "source": [
    "For levels 3 and 4, there are missing data for the corresponding DHS values, so we remove the corresponding CDR data"
   ]
  },
  {
   "cell_type": "code",
   "execution_count": 51,
   "metadata": {},
   "outputs": [],
   "source": [
    "for i in np.setdiff1d(activity_adm_3['Adm_3'], dhs.groupby('Adm_3')['MalariaPerPop'].mean().reset_index()['Adm_3']):\n",
    "    activity_adm_3 = activity_adm_3[activity_adm_3['Adm_3'] != i]\n",
    "    entropy_adm_3 = entropy_adm_3[entropy_adm_3['Adm_3'] != i]\n",
    "    \n",
    "for i in np.setdiff1d(activity_adm_4['Adm_4'], dhs.groupby('Adm_4')['MalariaPerPop'].mean().reset_index()['Adm_4']):\n",
    "    activity_adm_4 = activity_adm_4[activity_adm_4['Adm_4'] != i]\n",
    "    entropy_adm_4 = entropy_adm_4[entropy_adm_4['Adm_4'] != i]\n",
    "\n",
    "for i in np.setdiff1d(dhs.groupby('Adm_4')['MalariaPerPop'].mean().reset_index()['Adm_4'], activity_adm_4['Adm_4']):\n",
    "    malaria_adm_4 = malaria_adm_4[malaria_adm_4['Adm_4'] != i]"
   ]
  },
  {
   "cell_type": "markdown",
   "metadata": {},
   "source": [
    "For each administrative level, first take a look at the scatter plot to determine outliers"
   ]
  },
  {
   "cell_type": "code",
   "execution_count": 84,
   "metadata": {},
   "outputs": [],
   "source": [
    "plt.scatter(np.array(activity_adm_1['Vol']), np.array(malaria_adm_1['MalariaPerPop']))\n",
    "plt.show()\n",
    "plt.scatter(np.array(activity_adm_2['Vol']), np.array(malaria_adm_2['MalariaPerPop']))\n",
    "plt.show()\n",
    "plt.scatter(np.array(activity_adm_3['Vol']), np.array(malaria_adm_3['MalariaPerPop']))\n",
    "plt.show()\n",
    "plt.scatter(np.array(activity_adm_4['Vol']), np.array(malaria_adm_4['MalariaPerPop']))\n",
    "plt.show()\n",
    "\n",
    "plt.scatter(np.array(entropy_adm_1['Entropy']), np.array(malaria_adm_1['MalariaPerPop']))\n",
    "plt.show()\n",
    "plt.scatter(np.array(entropy_adm_2['Entropy']), np.array(malaria_adm_2['MalariaPerPop']))\n",
    "plt.show()\n",
    "plt.scatter(np.array(entropy_adm_3['Entropy']), np.array(malaria_adm_3['MalariaPerPop']))\n",
    "plt.show()\n",
    "plt.scatter(np.array(entropy_adm_4['Entropy']), np.array(malaria_adm_4['MalariaPerPop']))\n",
    "plt.show()"
   ]
  },
  {
   "cell_type": "markdown",
   "metadata": {},
   "source": [
    "Remove outliers, and re-plot"
   ]
  },
  {
   "cell_type": "code",
   "execution_count": 91,
   "metadata": {},
   "outputs": [],
   "source": [
    "# Entropy - Adm_1\n",
    "entropy_outliers_1 = np.intersect1d(np.where(entropy_adm_1['Entropy'] > 150000), np.where(entropy_adm_1['Entropy'] < 1500000))\n",
    "plt.scatter(np.array(entropy_adm_1['Entropy']), np.array(malaria_adm_1['MalariaPerPop']), c='r')\n",
    "plt.scatter(np.array(entropy_adm_1['Entropy'])[entropy_outliers_1], np.array(malaria_adm_1['MalariaPerPop'])[entropy_outliers_1], c='b')\n",
    "plt.show()\n",
    "plt.scatter(np.array(entropy_adm_1['Entropy'])[entropy_outliers_1], np.array(malaria_adm_1['MalariaPerPop'])[entropy_outliers_1])\n",
    "plt.show()\n",
    "\n",
    "# Entropy - Adm_2\n",
    "entropy_outliers_2 = np.intersect1d(np.where(entropy_adm_2['Entropy'] < 400000), np.where(entropy_adm_2['Entropy'] > 40000))\n",
    "plt.scatter(np.array(entropy_adm_2['Entropy']), np.array(malaria_adm_2['MalariaPerPop']), c='r')\n",
    "plt.scatter(np.array(entropy_adm_2['Entropy'])[entropy_outliers_2], np.array(malaria_adm_2['MalariaPerPop'])[entropy_outliers_2])\n",
    "plt.show()\n",
    "plt.scatter(np.array(entropy_adm_2['Entropy'])[entropy_outliers_2], np.array(malaria_adm_2['MalariaPerPop'])[entropy_outliers_2])\n",
    "plt.show()"
   ]
  },
  {
   "cell_type": "markdown",
   "metadata": {},
   "source": [
    "Compute Log of activity, and re-plot"
   ]
  },
  {
   "cell_type": "code",
   "execution_count": 97,
   "metadata": {},
   "outputs": [],
   "source": [
    "# Log Entropy - Adm_1]\n",
    "log_entropy_outliers_1 = np.intersect1d(np.where(np.log(entropy_adm_1['Entropy']) > 12), np.where(entropy_adm_1['Entropy'] < 14.5))\n",
    "plt.scatter(np.log(np.array(entropy_adm_1['Entropy'])), np.array(malaria_adm_1['MalariaPerPop']), c='r')\n",
    "plt.scatter(np.log(np.array(entropy_adm_1['Entropy'])[entropy_outliers_1]), np.array(malaria_adm_1['MalariaPerPop'])[entropy_outliers_1], c='b')\n",
    "plt.show()\n",
    "\n",
    "# Log Entropy - Adm_2\n",
    "plt.scatter(np.log(np.array(entropy_adm_2['Entropy'])), np.array(malaria_adm_2['MalariaPerPop']))\n",
    "plt.show()\n",
    "log_entropy_outliers_2 = np.where(entropy_adm_2['Entropy'] < 1500000)\n",
    "plt.scatter(np.log(np.array(entropy_adm_2['Entropy'])[log_entropy_outliers_2]), np.array(malaria_adm_2['MalariaPerPop'])[log_entropy_outliers_2])\n",
    "plt.show()"
   ]
  },
  {
   "cell_type": "markdown",
   "metadata": {},
   "source": [
    "Compute the PMCC"
   ]
  },
  {
   "cell_type": "code",
   "execution_count": 83,
   "metadata": {},
   "outputs": [
    {
     "name": "stdout",
     "output_type": "stream",
     "text": [
      "(-0.82190221906172267, 0.0019089460123217345)\n(-0.85359046310972087, 0.00082958250817005837)\n(-0.44736927319657804, 0.010250183181427001)\n(-0.49222544091474013, 0.0042142222527266045)\n"
     ]
    }
   ],
   "source": [
    "print pearsonr(np.log(np.array(entropy_adm_1['Entropy'])[entropy_outliers_1]), np.array(malaria_adm_1['MalariaPerPop'])[entropy_outliers_1])\n",
    "print pearsonr(np.log(np.array(entropy_adm_2['Entropy'])[entropy_outliers_2]), np.array(malaria_adm_2['MalariaPerPop'])[entropy_outliers_2])"
   ]
  },
  {
   "cell_type": "code",
   "execution_count": 54,
   "metadata": {},
   "outputs": [],
   "source": [
    ""
   ]
  },
  {
   "cell_type": "code",
   "execution_count": 54,
   "metadata": {},
   "outputs": [],
   "source": [
    ""
   ]
  },
  {
   "cell_type": "code",
   "execution_count": null,
   "metadata": {},
   "outputs": [],
   "source": [
    ""
   ]
  }
 ],
 "metadata": {
  "kernelspec": {
   "display_name": "Python 2",
   "language": "python",
   "name": "python2"
  },
  "language_info": {
   "codemirror_mode": {
    "name": "ipython",
    "version": 2.0
   },
   "file_extension": ".py",
   "mimetype": "text/x-python",
   "name": "python",
   "nbconvert_exporter": "python",
   "pygments_lexer": "ipython2",
   "version": "2.7.6"
  }
 },
 "nbformat": 4,
 "nbformat_minor": 0
}