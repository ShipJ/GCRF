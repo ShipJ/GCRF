{
 "cells": [
  {
   "cell_type": "code",
   "execution_count": 78,
   "metadata": {
    "collapsed": true
   },
   "outputs": [
    {
     "ename": "SystemExit",
     "evalue": "",
     "traceback": [
      "An exception has occurred, use %tb to see the full traceback.\n",
      "\u001b[0;31mSystemExit\u001b[0m\n"
     ],
     "output_type": "error"
    },
    {
     "name": "stderr",
     "output_type": "stream",
     "text": [
      "/Library/Python/2.7/site-packages/IPython/core/interactiveshell.py:2889: UserWarning: To exit: use 'exit', 'quit', or Ctrl-D.\n  warn(\"To exit: use 'exit', 'quit', or Ctrl-D.\", stacklevel=1)\n"
     ]
    }
   ],
   "source": [
    "import pandas as pd\n",
    "import numpy as np\n",
    "import sys\n",
    "from scipy.stats.stats import pearsonr\n",
    "import matplotlib.pyplot as plt\n",
    "\n",
    "dhs = pd.DataFrame(pd.read_csv('DHSData.csv'))\n",
    "\n",
    "activity_adm_2 = pd.DataFrame(pd.read_csv('activity_2.csv'))\n",
    "malaria_adm_2 = dhs.groupby('Adm_2')['MalariaPerPop'].mean().reset_index()\n",
    "\n",
    "plt.scatter(np.array(np.log10(activity_adm_2['Vol'])) / max(np.array(np.log10(activity_adm_2['Vol']))),\n",
    "            np.array(np.log10(malaria_adm_2['MalariaPerPop'])) / max(np.array(np.log10(malaria_adm_2['MalariaPerPop']))))\n",
    "plt.show()\n",
    "\n",
    "\n",
    "sys.exit()\n",
    "\n",
    "\n",
    "\n",
    "\n",
    "\n",
    "\n",
    "\n",
    "activity_adm_3 = pd.DataFrame(pd.read_csv('activity_3.csv'))\n",
    "malaria_adm_3 = dhs.groupby('Adm_3')['MalariaPerPop'].mean().reset_index()\n",
    "for i in np.setdiff1d(activity_adm_3['Adm_3'], dhs.groupby('Adm_3')['MalariaPerPop'].mean().reset_index()['Adm_3']):\n",
    "    activity_adm_3 = activity_adm_3[activity_adm_3['Adm_3'] != i]\n",
    "\n",
    "\n",
    "# # outliers = np.intersect1d(np.where(np.array(activity_adm_3['Vol'] / max(activity_adm_3['Vol'])) < 0.6), np.where(malaria_adm_3['MalariaPerPop'] > 0))\n",
    "# outliers = np.where(malaria_adm_3['MalariaPerPop'] > 0)\n",
    "#\n",
    "# plt.scatter(np.array(np.log10(activity_adm_3['Vol']))[outliers] / max(np.array(np.log10(activity_adm_3['Vol']))[outliers]),\n",
    "#             np.array(np.log10(malaria_adm_3['MalariaPerPop']))[outliers] / max(np.array(np.log10(malaria_adm_3['MalariaPerPop']))[outliers]))\n",
    "# plt.show()\n",
    "#\n",
    "# print pearsonr(np.array(np.log10(activity_adm_3['Vol']))[outliers], np.array(np.log10(malaria_adm_3['MalariaPerPop']))[outliers])\n",
    "\n",
    "activity_adm_4 = pd.DataFrame(pd.read_csv('activity_4.csv'))\n",
    "malaria_adm_4 = dhs.groupby('Adm_4')['MalariaPerPop'].mean().reset_index()\n",
    "''' align adm_4'''\n",
    "for i in np.setdiff1d(activity_adm_4['Adm_4'], dhs.groupby('Adm_4')['MalariaPerPop'].mean().reset_index()['Adm_4']):\n",
    "    activity_adm_4 = activity_adm_4[activity_adm_4['Adm_4'] != i]\n",
    "\n",
    "for i in np.setdiff1d(dhs.groupby('Adm_4')['MalariaPerPop'].mean().reset_index()['Adm_4'], activity_adm_4['Adm_4']):\n",
    "    malaria_adm_4 = malaria_adm_4[malaria_adm_4['Adm_4'] != i]\n",
    "\n",
    "outliers = np.where(malaria_adm_4['MalariaPerPop'] > 0)\n",
    "plt.scatter(np.array(np.log10(activity_adm_4['Vol']))[outliers] / max(np.array(np.log10(activity_adm_4['Vol']))[outliers]),\n",
    "            np.array(np.log10(malaria_adm_4['MalariaPerPop']))[outliers] / max(np.array(np.log10(malaria_adm_4['MalariaPerPop']))[outliers]))\n",
    "plt.show()"
   ]
  },
  {
   "cell_type": "code",
   "execution_count": 74,
   "metadata": {},
   "outputs": [],
   "source": [
    ""
   ]
  },
  {
   "cell_type": "code",
   "execution_count": 53,
   "metadata": {},
   "outputs": [],
   "source": [
    ""
   ]
  },
  {
   "cell_type": "code",
   "execution_count": null,
   "metadata": {},
   "outputs": [],
   "source": [
    ""
   ]
  }
 ],
 "metadata": {
  "kernelspec": {
   "display_name": "Python 2",
   "language": "python",
   "name": "python2"
  },
  "language_info": {
   "codemirror_mode": {
    "name": "ipython",
    "version": 2.0
   },
   "file_extension": ".py",
   "mimetype": "text/x-python",
   "name": "python",
   "nbconvert_exporter": "python",
   "pygments_lexer": "ipython2",
   "version": "2.7.6"
  }
 },
 "nbformat": 4,
 "nbformat_minor": 0
}