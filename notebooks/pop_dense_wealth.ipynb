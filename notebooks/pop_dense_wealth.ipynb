{
 "cells": [
  {
   "cell_type": "code",
   "execution_count": 11,
   "metadata": {
    "collapsed": true
   },
   "outputs": [],
   "source": [
    "import pandas as pd\n",
    "import numpy as np\n",
    "import matplotlib.pyplot as plt\n",
    "from scipy.stats import pearsonr"
   ]
  },
  {
   "cell_type": "code",
   "execution_count": 12,
   "metadata": {},
   "outputs": [],
   "source": [
    "old_dhs = pd.DataFrame(pd.read_csv('data/processed/civ/dhs/wealth/DHSData.csv'))\n",
    "cdr = pd.DataFrame(pd.read_csv('data/processed/civ/master_pop.csv'))\n",
    "dhs = pd.DataFrame(pd.read_csv('data/processed/civ/master.csv'))"
   ]
  },
  {
   "cell_type": "code",
   "execution_count": 21,
   "metadata": {},
   "outputs": [],
   "source": [
    "compare = pd.DataFrame()\n",
    "old = old_dhs.groupby('Adm_4')['Pop_1km'].median().reset_index()\n",
    "compare['pop_dense'] = np.log(old['Pop_1km'])\n",
    "\n",
    "cdr['log_pop_dense'] = np.log(cdr['Pop_2010']/cdr['Area(km^2)'])\n",
    "new = cdr.groupby('Adm_4')['log_pop_dense'].median().reset_index()\n",
    "compare['log_pop_dense'] = new['log_pop_dense']\n",
    "\n",
    "\n",
    "\n",
    "\n",
    "\n",
    "\n",
    "\n",
    "\n",
    "plt.scatter(range(len(compare)), compare['log_pop_dense'])\n",
    "plt.scatter(range(len(compare)), compare['pop_dense'], c='r')\n",
    "plt.show()\n",
    "\n",
    "\n",
    "\n",
    "\n",
    "\n",
    "\n",
    "\n",
    "\n",
    "\n",
    "\n",
    "# dhs['log_pop_1km'] = np.log(dhs['Pop_1km'])\n",
    "# dhs = dhs.groupby('Adm_1')['log_pop_1km'].mean()\n",
    "# \n",
    "# pop_density = cdr[['Adm_1', 'Pop_2010',\n",
    "#                    'Area(km^2)', 'Entropy']].groupby('Adm_1')['Pop_2010',\n",
    "#                                                    'Area(km^2)', 'Entropy'].sum().reset_index()\n",
    "# pop_density['log_pop_density'] = np.log10(pop_density['Pop_2010']/pop_density['Area(km^2)'])\n",
    "# pop_density['entropy'] = pop_density['Entropy']\n",
    "# \n",
    "# bloodPosRate = malaria.groupby('Adm_1')['DeathRate'].mean().reset_index()\n",
    "# \n",
    "# plt.scatter(range(len(pop_density)), np.log(bloodPosRate['DeathRate']))\n",
    "# plt.scatter(range(len(pop_density)), pop_density['entropy'], c='r')\n",
    "# print pearsonr(np.log(bloodPosRate['DeathRate']), pop_density['entropy'])\n",
    "# plt.show()"
   ]
  },
  {
   "cell_type": "code",
   "execution_count": null,
   "metadata": {},
   "outputs": [],
   "source": [
    ""
   ]
  },
  {
   "cell_type": "code",
   "execution_count": null,
   "metadata": {},
   "outputs": [],
   "source": [
    ""
   ]
  },
  {
   "cell_type": "code",
   "execution_count": null,
   "metadata": {},
   "outputs": [],
   "source": [
    ""
   ]
  },
  {
   "cell_type": "code",
   "execution_count": null,
   "metadata": {},
   "outputs": [],
   "source": [
    ""
   ]
  },
  {
   "cell_type": "code",
   "execution_count": null,
   "metadata": {},
   "outputs": [],
   "source": [
    ""
   ]
  },
  {
   "cell_type": "code",
   "execution_count": null,
   "metadata": {},
   "outputs": [],
   "source": [
    ""
   ]
  },
  {
   "cell_type": "code",
   "execution_count": null,
   "metadata": {},
   "outputs": [],
   "source": [
    ""
   ]
  },
  {
   "cell_type": "code",
   "execution_count": null,
   "metadata": {},
   "outputs": [],
   "source": [
    ""
   ]
  },
  {
   "cell_type": "code",
   "execution_count": null,
   "metadata": {},
   "outputs": [],
   "source": [
    ""
   ]
  },
  {
   "cell_type": "code",
   "execution_count": null,
   "metadata": {},
   "outputs": [],
   "source": [
    ""
   ]
  },
  {
   "cell_type": "code",
   "execution_count": null,
   "metadata": {},
   "outputs": [],
   "source": [
    ""
   ]
  },
  {
   "cell_type": "code",
   "execution_count": null,
   "metadata": {},
   "outputs": [],
   "source": [
    ""
   ]
  },
  {
   "cell_type": "code",
   "execution_count": null,
   "metadata": {},
   "outputs": [],
   "source": [
    ""
   ]
  }
 ],
 "metadata": {
  "kernelspec": {
   "display_name": "Python 2",
   "language": "python",
   "name": "python2"
  },
  "language_info": {
   "codemirror_mode": {
    "name": "ipython",
    "version": 2.0
   },
   "file_extension": ".py",
   "mimetype": "text/x-python",
   "name": "python",
   "nbconvert_exporter": "python",
   "pygments_lexer": "ipython2",
   "version": "2.7.6"
  }
 },
 "nbformat": 4,
 "nbformat_minor": 0
}