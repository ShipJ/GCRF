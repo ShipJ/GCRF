{
 "cells": [
  {
   "cell_type": "code",
   "execution_count": 1,
   "metadata": {
    "collapsed": true
   },
   "outputs": [],
   "source": [
    "import pandas as pd\n",
    "import numpy as np\n",
    "import matplotlib.pyplot as plt\n",
    "from scipy.stats import pearsonr"
   ]
  },
  {
   "cell_type": "markdown",
   "metadata": {},
   "source": [
    "Retrieve master data set"
   ]
  },
  {
   "cell_type": "code",
   "execution_count": 9,
   "metadata": {},
   "outputs": [],
   "source": [
    "data = pd.DataFrame(pd.read_csv('data/processed/sen/master.csv'))"
   ]
  },
  {
   "cell_type": "markdown",
   "metadata": {},
   "source": [
    "Loop over aggregation at all administrative levels, comparing all activity metrics, with all dhs metrics "
   ]
  },
  {
   "cell_type": "code",
   "execution_count": 11,
   "metadata": {},
   "outputs": [
    {
     "name": "stdout",
     "output_type": "stream",
     "text": [
      "At administrative level: Adm_4\n\nComparing: Vol\n... with: BloodPosRate\n(-0.14592577913013863, 0.073800548074859529)\n"
     ]
    },
    {
     "name": "stdout",
     "output_type": "stream",
     "text": [
      "... with: RapidPosRate\n(-0.1501408415278204, 0.065757246941670858)\n"
     ]
    },
    {
     "name": "stdout",
     "output_type": "stream",
     "text": [
      "... with: DeathRate\n(-0.20547642917124648, 0.01137307870855286)\n"
     ]
    },
    {
     "name": "stdout",
     "output_type": "stream",
     "text": [
      "Comparing: Vol_in\n... with: BloodPosRate\n(-0.15112702456411592, 0.063982540654333439)\n"
     ]
    },
    {
     "name": "stdout",
     "output_type": "stream",
     "text": [
      "... with: RapidPosRate\n(-0.15575287251696324, 0.056173113819872722)\n"
     ]
    },
    {
     "name": "stdout",
     "output_type": "stream",
     "text": [
      "... with: DeathRate\n(-0.20553124111221729, 0.011350726560949818)\n"
     ]
    },
    {
     "name": "stdout",
     "output_type": "stream",
     "text": [
      "Comparing: Vol_out\n... with: BloodPosRate\n(-0.14564075632791421, 0.074371987256348041)\n"
     ]
    },
    {
     "name": "stdout",
     "output_type": "stream",
     "text": [
      "... with: RapidPosRate\n(-0.15018023507488551, 0.065685593293066627)\n"
     ]
    },
    {
     "name": "stdout",
     "output_type": "stream",
     "text": [
      "... with: DeathRate\n(-0.20469937257663962, 0.011694146637085723)\n"
     ]
    },
    {
     "name": "stdout",
     "output_type": "stream",
     "text": [
      "Comparing: Dur\n... with: BloodPosRate\n(-0.14482836109878608, 0.076020409956033624)\n"
     ]
    },
    {
     "name": "stdout",
     "output_type": "stream",
     "text": [
      "... with: RapidPosRate\n(-0.1503878987964597, 0.065308922382317336)\n"
     ]
    },
    {
     "name": "stdout",
     "output_type": "stream",
     "text": [
      "... with: DeathRate\n(-0.20267593762741004, 0.012567825745780315)\n"
     ]
    },
    {
     "name": "stdout",
     "output_type": "stream",
     "text": [
      "Comparing: Dur_in\n... with: BloodPosRate\n(-0.15306134984425446, 0.060615291329210647)\n"
     ]
    },
    {
     "name": "stdout",
     "output_type": "stream",
     "text": [
      "... with: RapidPosRate\n(-0.15890888453346014, 0.051309707064483102)\n"
     ]
    },
    {
     "name": "stdout",
     "output_type": "stream",
     "text": [
      "... with: DeathRate\n(-0.20421871776807279, 0.011896706237317799)\nComparing: Dur_out\n... with: BloodPosRate\n"
     ]
    },
    {
     "name": "stdout",
     "output_type": "stream",
     "text": [
      "(-0.14048236172393314, 0.085346372261420861)\n... with: RapidPosRate\n(-0.14626117226755037, 0.073132678438994847)\n"
     ]
    },
    {
     "name": "stdout",
     "output_type": "stream",
     "text": [
      "... with: DeathRate\n(-0.20067252719903908, 0.013488696291713002)\n"
     ]
    },
    {
     "name": "stdout",
     "output_type": "stream",
     "text": [
      "Comparing: Entropy\n... with: BloodPosRate\n(-0.088347112236094164, 0.28071392743719836)\n"
     ]
    },
    {
     "name": "stdout",
     "output_type": "stream",
     "text": [
      "... with: RapidPosRate\n(-0.10371178786589937, 0.20506170072198707)\n... with: DeathRate\n(-0.087836722743642293, 0.28351310251052891)\n"
     ]
    },
    {
     "name": "stdout",
     "output_type": "stream",
     "text": [
      "Comparing: Med_degree\n... with: BloodPosRate\n(-0.14560174487457869, 0.074450478609358078)\n"
     ]
    },
    {
     "name": "stdout",
     "output_type": "stream",
     "text": [
      "... with: RapidPosRate\n(-0.15197228834778456, 0.062492766923369428)\n"
     ]
    },
    {
     "name": "stdout",
     "output_type": "stream",
     "text": [
      "... with: DeathRate\n(-0.085491220976541119, 0.29661675204061544)\n"
     ]
    },
    {
     "name": "stdout",
     "output_type": "stream",
     "text": [
      "Comparing: Pagerank\n... with: BloodPosRate\n(-0.17086089517780229, 0.03594256680620956)\n"
     ]
    },
    {
     "name": "stdout",
     "output_type": "stream",
     "text": [
      "... with: RapidPosRate\n(-0.18654643758363773, 0.021822544543258871)\n"
     ]
    },
    {
     "name": "stdout",
     "output_type": "stream",
     "text": [
      "... with: DeathRate\n(-0.19544193296114951, 0.016176312321630883)\n"
     ]
    },
    {
     "name": "stdout",
     "output_type": "stream",
     "text": [
      "Comparing: EigenvectorCentrality\n... with: BloodPosRate\n(-0.16383610072399962, 0.044417889242612286)\n"
     ]
    },
    {
     "name": "stdout",
     "output_type": "stream",
     "text": [
      "... with: RapidPosRate\n(-0.15695135787973838, 0.054283297173365337)\n"
     ]
    },
    {
     "name": "stdout",
     "output_type": "stream",
     "text": [
      "... with: DeathRate\n(-0.22809422870050161, 0.0048503569121514396)\n"
     ]
    },
    {
     "name": "stdout",
     "output_type": "stream",
     "text": [
      "Comparing: Degree_centrality\n... with: BloodPosRate\n(-0.089585440437775568, 0.27399988775865047)\n"
     ]
    },
    {
     "name": "stdout",
     "output_type": "stream",
     "text": [
      "... with: RapidPosRate\n(-0.098990646385903658, 0.22655460083758638)\n"
     ]
    },
    {
     "name": "stdout",
     "output_type": "stream",
     "text": [
      "... with: DeathRate\n(-0.030742833913423005, 0.70786602332667314)\n"
     ]
    },
    {
     "name": "stdout",
     "output_type": "stream",
     "text": [
      "Comparing: Introversion\n... with: BloodPosRate\n(0.091536394601750948, 0.26364407789072675)\n"
     ]
    },
    {
     "name": "stdout",
     "output_type": "stream",
     "text": [
      "... with: RapidPosRate\n(0.064818872820910492, 0.42910693898228436)\n"
     ]
    },
    {
     "name": "stdout",
     "output_type": "stream",
     "text": [
      "... with: DeathRate\n(0.18618059983948707, 0.022087234230419472)\n"
     ]
    }
   ],
   "source": [
    "count = 0\n",
    "for i in ['Adm_4']:\n",
    "    print 'At administrative level: %s\\n' % i\n",
    "    cdr_sum = data.groupby(i)['Vol', 'Vol_in', 'Vol_out',\n",
    "                              'Dur', 'Dur_in', 'Dur_out'].sum().reset_index()\n",
    "    cdr_mean = data.groupby(i)['Entropy', 'Med_degree', 'Pagerank', 'EigenvectorCentrality',\n",
    "                               'Degree_centrality', 'Introversion'].mean().reset_index()\n",
    "    cdr_sum_mean = cdr_sum.merge(cdr_mean, on=i)\n",
    "    dhs_median = data.groupby(i)['BloodPosRate','RapidPosRate', 'DeathRate'].median().reset_index()\n",
    "\n",
    "    cdr_dhs = cdr_sum_mean.merge(dhs_median, on=i)\n",
    "\n",
    "    for j in ['Vol', 'Vol_in', 'Vol_out', 'Dur', 'Dur_in', 'Dur_out',\n",
    "              'Entropy', 'Med_degree', 'Pagerank', 'EigenvectorCentrality',\n",
    "              'Degree_centrality', 'Introversion']:\n",
    "        print 'Comparing: %s' % j\n",
    "        for k in ['BloodPosRate', 'RapidPosRate', 'DeathRate']:\n",
    "            print '... with: %s' % k\n",
    "\n",
    "            a = np.array(cdr_dhs[j])\n",
    "            b = np.array(cdr_dhs[k])\n",
    "\n",
    "            non_neg_a = np.where(a > 0)\n",
    "            a = a[non_neg_a]\n",
    "            b = b[non_neg_a]\n",
    "\n",
    "            # non_neg_b = np.where(b > 0)\n",
    "            # a = a[non_neg_b]\n",
    "            # b = b[non_neg_b]\n",
    "\n",
    "            print pearsonr(a, b)\n",
    "            plt.scatter(np.log(a), b)\n",
    "            plt.show()"
   ]
  },
  {
   "cell_type": "code",
   "execution_count": 6,
   "metadata": {},
   "outputs": [],
   "source": [
    ""
   ]
  },
  {
   "cell_type": "code",
   "execution_count": null,
   "metadata": {},
   "outputs": [],
   "source": [
    ""
   ]
  }
 ],
 "metadata": {
  "kernelspec": {
   "display_name": "Python 2",
   "language": "python",
   "name": "python2"
  },
  "language_info": {
   "codemirror_mode": {
    "name": "ipython",
    "version": 2.0
   },
   "file_extension": ".py",
   "mimetype": "text/x-python",
   "name": "python",
   "nbconvert_exporter": "python",
   "pygments_lexer": "ipython2",
   "version": "2.7.6"
  }
 },
 "nbformat": 4,
 "nbformat_minor": 0
}