{
 "cells": [
  {
   "cell_type": "code",
   "execution_count": 2,
   "metadata": {
    "collapsed": true
   },
   "outputs": [],
   "source": [
    "import pandas as pd\n",
    "import numpy as np\n",
    "import matplotlib.pyplot as plt\n",
    "from scipy.stats import pearsonr"
   ]
  },
  {
   "cell_type": "markdown",
   "metadata": {},
   "source": [
    "Retrieve master data set"
   ]
  },
  {
   "cell_type": "code",
   "execution_count": 3,
   "metadata": {},
   "outputs": [],
   "source": [
    "data = pd.DataFrame(pd.read_csv('data/processed/civ/master.csv'))"
   ]
  },
  {
   "cell_type": "markdown",
   "metadata": {},
   "source": [
    "Loop over aggregation at all administrative levels, comparing all activity metrics, with all dhs metrics "
   ]
  },
  {
   "cell_type": "code",
   "execution_count": 8,
   "metadata": {},
   "outputs": [
    {
     "name": "stdout",
     "output_type": "stream",
     "text": [
      "At administrative level: Adm_4\n\nComparing: Vol\n... with: BloodPosRate\n(-0.046280866240294115, 0.58714070164834387)\n"
     ]
    },
    {
     "name": "stdout",
     "output_type": "stream",
     "text": [
      "... with: RapidPosRate\n(-0.078912550886626007, 0.35404022305962457)\n"
     ]
    },
    {
     "name": "stdout",
     "output_type": "stream",
     "text": [
      "... with: DeathRate\n(-0.048203995795411521, 0.57168422970414301)\n"
     ]
    },
    {
     "name": "stdout",
     "output_type": "stream",
     "text": [
      "... with: HealthAccessDifficulty\n(-0.063666596035795234, 0.4548715454428589)\n"
     ]
    },
    {
     "name": "stdout",
     "output_type": "stream",
     "text": [
      "... with: Poverty\n(-0.14014291665280165, 0.098639071636933681)\n"
     ]
    },
    {
     "name": "stdout",
     "output_type": "stream",
     "text": [
      "... with: Z_Med\n(0.25083751135341309, 0.0027963254356081131)\n"
     ]
    },
    {
     "name": "stdout",
     "output_type": "stream",
     "text": [
      "Comparing: Vol_in\n... with: BloodPosRate\n(-0.0447497847886194, 0.59958136798190997)\n"
     ]
    },
    {
     "name": "stdout",
     "output_type": "stream",
     "text": [
      "... with: RapidPosRate\n(-0.079628430233501038, 0.34967734249435878)\n"
     ]
    },
    {
     "name": "stdout",
     "output_type": "stream",
     "text": [
      "... with: DeathRate\n(-0.049883439013083099, 0.55834487182352155)\n"
     ]
    },
    {
     "name": "stdout",
     "output_type": "stream",
     "text": [
      "... with: HealthAccessDifficulty\n(-0.066081173044717251, 0.43791348092668614)\n"
     ]
    },
    {
     "name": "stdout",
     "output_type": "stream",
     "text": [
      "... with: Poverty\n(-0.14165430678137717, 0.095022480702093765)\n"
     ]
    },
    {
     "name": "stdout",
     "output_type": "stream",
     "text": [
      "... with: Z_Med\n(0.25132879936308661, 0.0027414498920325329)\n"
     ]
    },
    {
     "name": "stdout",
     "output_type": "stream",
     "text": [
      "Comparing: Vol_out\n... with: BloodPosRate\n(-0.045082167336289281, 0.59687060561919902)\n"
     ]
    },
    {
     "name": "stdout",
     "output_type": "stream",
     "text": [
      "... with: RapidPosRate\n(-0.079096785533442029, 0.35291417918819012)\n"
     ]
    },
    {
     "name": "stdout",
     "output_type": "stream",
     "text": [
      "... with: DeathRate\n(-0.050849353363595043, 0.55074128175136816)\n"
     ]
    },
    {
     "name": "stdout",
     "output_type": "stream",
     "text": [
      "... with: HealthAccessDifficulty\n(-0.065735502969291176, 0.44031889939857383)\n"
     ]
    },
    {
     "name": "stdout",
     "output_type": "stream",
     "text": [
      "... with: Poverty\n(-0.14022192878566386, 0.098447349797626718)\n"
     ]
    },
    {
     "name": "stdout",
     "output_type": "stream",
     "text": [
      "... with: Z_Med\n(0.2497060502998345, 0.0029264989671157452)\n"
     ]
    },
    {
     "name": "stdout",
     "output_type": "stream",
     "text": [
      "Comparing: Dur\n... with: BloodPosRate\n(-0.046603195526503181, 0.58453678468688119)\n"
     ]
    },
    {
     "name": "stdout",
     "output_type": "stream",
     "text": [
      "... with: RapidPosRate"
     ]
    },
    {
     "name": "stdout",
     "output_type": "stream",
     "text": [
      "\n(-0.080362259649912435, 0.34524025952355786)\n... with: DeathRate\n(-0.050783332905972541, 0.55125938005069774)\n"
     ]
    },
    {
     "name": "stdout",
     "output_type": "stream",
     "text": [
      "... with: HealthAccessDifficulty\n(-0.064303604628977523, 0.4503625203784003)\n... with: Poverty\n(-0.14411807397614293, 0.089353038589697106)"
     ]
    },
    {
     "name": "stdout",
     "output_type": "stream",
     "text": [
      "\n... with: Z_Med\n(0.25581986186417205, 0.0022831287585509067)\n"
     ]
    },
    {
     "name": "stdout",
     "output_type": "stream",
     "text": [
      "Comparing: Dur_in\n... with: BloodPosRate\n(-0.04442613460578914, 0.60222619860171234)\n"
     ]
    },
    {
     "name": "stdout",
     "output_type": "stream",
     "text": [
      "... with: RapidPosRate\n(-0.081144942719671653, 0.34054709973204267)\n"
     ]
    },
    {
     "name": "stdout",
     "output_type": "stream",
     "text": [
      "... with: DeathRate\n(-0.051707240392088433, 0.54403060820495974)\n"
     ]
    },
    {
     "name": "stdout",
     "output_type": "stream",
     "text": [
      "... with: HealthAccessDifficulty\n(-0.066464434679517903, 0.43525523463226723)\n"
     ]
    },
    {
     "name": "stdout",
     "output_type": "stream",
     "text": [
      "... with: Poverty\n(-0.14584731548512014, 0.085537262479335213)\n"
     ]
    },
    {
     "name": "stdout",
     "output_type": "stream",
     "text": [
      "... with: Z_Med\n(0.25688179468427286, 0.0021854525291407148)\n"
     ]
    },
    {
     "name": "stdout",
     "output_type": "stream",
     "text": [
      "Comparing: Dur_out\n... with: BloodPosRate\n(-0.047248482566679843, 0.57933990302971994)\n"
     ]
    },
    {
     "name": "stdout",
     "output_type": "stream",
     "text": [
      "... with: RapidPosRate\n(-0.080027447711447527, 0.34726026987965886)\n"
     ]
    },
    {
     "name": "stdout",
     "output_type": "stream",
     "text": [
      "... with: DeathRate\n(-0.052528917102067536, 0.53764112173531275)\n"
     ]
    },
    {
     "name": "stdout",
     "output_type": "stream",
     "text": [
      "... with: HealthAccessDifficulty\n(-0.064620276249078512, 0.44813033348547271)\n"
     ]
    },
    {
     "name": "stdout",
     "output_type": "stream",
     "text": [
      "... with: Poverty\n(-0.1432868533812566, 0.09123486425775694)\n"
     ]
    },
    {
     "name": "stdout",
     "output_type": "stream",
     "text": [
      "... with: Z_Med\n(0.25434955513963908, 0.00242489840546232)\n"
     ]
    },
    {
     "name": "stdout",
     "output_type": "stream",
     "text": [
      "Comparing: Entropy\n... with: BloodPosRate\n(-0.004351894997865785, 0.95930089585568712)\n"
     ]
    },
    {
     "name": "stdout",
     "output_type": "stream",
     "text": [
      "... with: RapidPosRate\n(-0.18461781617401421, 0.028988014948030119)\n"
     ]
    },
    {
     "name": "stdout",
     "output_type": "stream",
     "text": [
      "... with: DeathRate\n(-0.06887612031326007, 0.41874084870190287)\n"
     ]
    },
    {
     "name": "stdout",
     "output_type": "stream",
     "text": [
      "... with: HealthAccessDifficulty\n(-0.19866303320499967, 0.018620510517284725)\n"
     ]
    },
    {
     "name": "stdout",
     "output_type": "stream",
     "text": [
      "... with: Poverty\n(-0.24985864341150135, 0.0029086299160340947)\n"
     ]
    },
    {
     "name": "stdout",
     "output_type": "stream",
     "text": [
      "... with: Z_Med\n(0.3327394532456926, 5.8994071230305696e-05)\n"
     ]
    },
    {
     "name": "stdout",
     "output_type": "stream",
     "text": [
      "Comparing: Med_degree\n... with: BloodPosRate\n(-0.015610100893584295, 0.8547537478780467)\n"
     ]
    },
    {
     "name": "stdout",
     "output_type": "stream",
     "text": [
      "... with: RapidPosRate\n(-0.1640888810392466, 0.052712194930550703)\n"
     ]
    },
    {
     "name": "stdout",
     "output_type": "stream",
     "text": [
      "... with: DeathRate\n(-0.094071613549563934, 0.26892359640126801)\n"
     ]
    },
    {
     "name": "stdout",
     "output_type": "stream",
     "text": [
      "... with: HealthAccessDifficulty\n(-0.19450751871055844, 0.02128728029126277)\n"
     ]
    },
    {
     "name": "stdout",
     "output_type": "stream",
     "text": [
      "... with: Poverty\n(-0.27115988949763942, 0.0011928795112863245)\n"
     ]
    },
    {
     "name": "stdout",
     "output_type": "stream",
     "text": [
      "... with: Z_Med\n(0.3506122250650015, 2.1672884424762361e-05)\n"
     ]
    },
    {
     "name": "stdout",
     "output_type": "stream",
     "text": [
      "Comparing: Pagerank\n... with: BloodPosRate\n(-0.006618532969628054, 0.93813806051544346)\n"
     ]
    },
    {
     "name": "stdout",
     "output_type": "stream",
     "text": [
      "... with: RapidPosRate\n(-0.12086479366819067, 0.15488389909326764)\n"
     ]
    },
    {
     "name": "stdout",
     "output_type": "stream",
     "text": [
      "... with: DeathRate\n(-0.1218169558782259, 0.15163485737333207)\n"
     ]
    },
    {
     "name": "stdout",
     "output_type": "stream",
     "text": [
      "... with: HealthAccessDifficulty\n(-0.18078351609361895, 0.032555168185349932)\n"
     ]
    },
    {
     "name": "stdout",
     "output_type": "stream",
     "text": [
      "... with: Poverty\n(-0.26440292638350277, 0.0015951925269427972)\n"
     ]
    },
    {
     "name": "stdout",
     "output_type": "stream",
     "text": [
      "... with: Z_Med\n(0.34223756816632539, 3.4913848978732472e-05)\n"
     ]
    },
    {
     "name": "stdout",
     "output_type": "stream",
     "text": [
      "Comparing: Introversion\n... with: BloodPosRate\n(0.010716903153034731, 0.8999924734829543)\n"
     ]
    },
    {
     "name": "stdout",
     "output_type": "stream",
     "text": [
      "... with: RapidPosRate\n(-0.015317103965992614, 0.85745082321155153)\n... with: DeathRate\n"
     ]
    },
    {
     "name": "stdout",
     "output_type": "stream",
     "text": [
      "(0.061890894692945592, 0.46757255934225317)\n... with: HealthAccessDifficulty\n(-0.047858547117471062, 0.57444650524229279)\n"
     ]
    },
    {
     "name": "stdout",
     "output_type": "stream",
     "text": [
      "... with: Poverty\n(0.01469570929213963, 0.86317625597833236)\n"
     ]
    },
    {
     "name": "stdout",
     "output_type": "stream",
     "text": [
      "... with: Z_Med\n(0.035699258672312099, 0.67540188729854944)\n"
     ]
    }
   ],
   "source": [
    "count = 0\n",
    "for i in ['Adm_4']:\n",
    "    print 'At administrative level: %s\\n' % i\n",
    "    cdr_sum = data.groupby(i)['Vol', 'Vol_in', 'Vol_out',\n",
    "                              'Dur', 'Dur_in', 'Dur_out'].sum().reset_index()\n",
    "    cdr_mean = data.groupby(i)['Entropy', 'Med_degree',\n",
    "                               'Pagerank', 'Introversion'].mean().reset_index()\n",
    "    cdr_sum_mean = cdr_sum.merge(cdr_mean, on=i)\n",
    "    dhs_median = data.groupby(i)['BloodPosRate','RapidPosRate','HIVPosRate','DeathRate',\n",
    "                                 'HealthAccessDifficulty','Poverty','Z_Med'].median().reset_index()\n",
    "\n",
    "    cdr_dhs = cdr_sum_mean.merge(dhs_median, on=i)\n",
    "\n",
    "    for j in ['Vol', 'Vol_in', 'Vol_out', 'Dur', 'Dur_in', 'Dur_out',\n",
    "              'Entropy', 'Med_degree', 'Pagerank', 'Introversion']:\n",
    "        print 'Comparing: %s' % j\n",
    "        for k in ['BloodPosRate', 'RapidPosRate', 'DeathRate',\n",
    "                  'HealthAccessDifficulty','Poverty','Z_Med']:\n",
    "            print '... with: %s' % k\n",
    "\n",
    "            a = np.array(cdr_dhs[j])\n",
    "            b = np.array(cdr_dhs[k])\n",
    "\n",
    "            non_neg_a = np.where(a > 0)\n",
    "            a = a[non_neg_a]\n",
    "            b = b[non_neg_a]\n",
    "\n",
    "            # non_neg_b = np.where(b > 0)\n",
    "            # a = a[non_neg_b]\n",
    "            # b = b[non_neg_b]\n",
    "\n",
    "            print pearsonr(a, b)\n",
    "            plt.scatter(np.log(a), b)\n",
    "            plt.show()"
   ]
  },
  {
   "cell_type": "code",
   "execution_count": 6,
   "metadata": {},
   "outputs": [],
   "source": [
    ""
   ]
  },
  {
   "cell_type": "code",
   "execution_count": null,
   "metadata": {},
   "outputs": [],
   "source": [
    ""
   ]
  }
 ],
 "metadata": {
  "kernelspec": {
   "display_name": "Python 2",
   "language": "python",
   "name": "python2"
  },
  "language_info": {
   "codemirror_mode": {
    "name": "ipython",
    "version": 2.0
   },
   "file_extension": ".py",
   "mimetype": "text/x-python",
   "name": "python",
   "nbconvert_exporter": "python",
   "pygments_lexer": "ipython2",
   "version": "2.7.6"
  }
 },
 "nbformat": 4,
 "nbformat_minor": 0
}