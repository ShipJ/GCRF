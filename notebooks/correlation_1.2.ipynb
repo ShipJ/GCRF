{
 "cells": [
  {
   "cell_type": "code",
   "execution_count": 3,
   "metadata": {
    "collapsed": true
   },
   "outputs": [],
   "source": [
    "import pandas as pd\n",
    "import numpy as np\n",
    "import matplotlib.pyplot as plt\n",
    "from scipy.stats import pearsonr,spearmanr"
   ]
  },
  {
   "cell_type": "markdown",
   "metadata": {},
   "source": [
    "Retrieve master data set"
   ]
  },
  {
   "cell_type": "code",
   "execution_count": 4,
   "metadata": {},
   "outputs": [],
   "source": [
    "data = pd.DataFrame(pd.read_csv('data/processed/sen/master.csv'))"
   ]
  },
  {
   "cell_type": "markdown",
   "metadata": {},
   "source": [
    "Loop over aggregation at all administrative levels, comparing all activity metrics, with all dhs metrics "
   ]
  },
  {
   "cell_type": "code",
   "execution_count": 6,
   "metadata": {},
   "outputs": [
    {
     "name": "stdout",
     "output_type": "stream",
     "text": [
      "At administrative level: Adm_4\n\nComparing: Vol\n... with: BloodPosRate\n(-0.14592577913013863, 0.073800548074859529)\nSpearmanrResult(correlation=-0.33892924343430503, pvalue=2.0726841034463553e-05) \n\n... with: RapidPosRate\n(-0.1501408415278204, 0.065757246941670858)\nSpearmanrResult(correlation=-0.3507951735623388, pvalue=1.0055259269265922e-05) \n\n... with: DeathRate\n(-0.20547642917124648, 0.01137307870855286)\nSpearmanrResult(correlation=-0.19246595039028366, pvalue=0.017904478181316383) \n\nComparing: Vol_in\n... with: BloodPosRate\n(-0.15112702456411592, 0.063982540654333439)\nSpearmanrResult(correlation=-0.34235512046371447, pvalue=1.6871037559904346e-05) \n\n... with: RapidPosRate\n(-0.15575287251696324, 0.056173113819872722)\nSpearmanrResult(correlation=-0.35512071703763903, pvalue=7.6680200281074058e-06) \n\n... with: DeathRate\n(-0.20553124111221729, 0.011350726560949818)\nSpearmanrResult(correlation=-0.19271865388195841, pvalue=0.017751754706100346) \n\nComparing: Vol_out\n... with: BloodPosRate\n(-0.14564075632791421, 0.074371987256348041)\nSpearmanrResult(correlation=-0.32909582392420206, pvalue=3.69256595015154e-05) \n\n... with: RapidPosRate\n(-0.15018023507488551, 0.065685593293066627)\nSpearmanrResult(correlation=-0.34826627117899944, pvalue=1.1760207636919256e-05) \n\n... with: DeathRate\n(-0.20469937257663962, 0.011694146637085723)\nSpearmanrResult(correlation=-0.19076673725660873, pvalue=0.018961309503874958) \n\nComparing: Dur\n... with: BloodPosRate\n(-0.14482836109878608, 0.076020409956033624)\nSpearmanrResult(correlation=-0.33703715355200736, pvalue=2.3198180535287167e-05) \n\n... with: RapidPosRate\n(-0.1503878987964597, 0.065308922382317336)\nSpearmanrResult(correlation=-0.3548466192318499, pvalue=7.8017766691641003e-06) \n\n... with: DeathRate\n(-0.20267593762741004, 0.012567825745780315)\nSpearmanrResult(correlation=-0.19186469035836792, pvalue=0.018272442952538357) \n\nComparing: Dur_in\n... with: BloodPosRate\n(-0.15306134984425446, 0.060615291329210647)\nSpearmanrResult(correlation=-0.35104658096401431, pvalue=9.8991741494908786e-06) \n\n... with: RapidPosRate\n(-0.15890888453346014, 0.051309707064483102)\nSpearmanrResult(correlation=-0.36225926427162208, pvalue=4.8598065124667443e-06) \n\n... with: DeathRate\n(-0.20421871776807279, 0.011896706237317799)\nSpearmanrResult(correlation=-0.19605085440666253, pvalue=0.015841169596480853) \n\nComparing: Dur_out\n... with: BloodPosRate\n(-0.14048236172393314, 0.085346372261420861)\nSpearmanrResult(correlation=-0.32199891536236136, pvalue=5.534519457790499e-05) \n\n... with: RapidPosRate\n(-0.14626117226755037, 0.073132678438994847)\nSpearmanrResult(correlation=-0.34327048854355779, pvalue=1.5961685196897266e-05) \n\n... with: DeathRate\n(-0.20067252719903908, 0.013488696291713002)\nSpearmanrResult(correlation=-0.18587126064892368, pvalue=0.022313198622499097) \n\nComparing: Entropy\n... with: BloodPosRate\n(-0.088347112236094164, 0.28071392743719836)\nSpearmanrResult(correlation=-0.1544242881898738, pvalue=0.058331114560701051) \n\n... with: RapidPosRate\n(-0.10371178786589937, 0.20506170072198707)\nSpearmanrResult(correlation=-0.19242466251962595, pvalue=0.017929538839012101) \n\n... with: DeathRate\n(-0.087836722743642293, 0.28351310251052891)\nSpearmanrResult(correlation=-0.007147151857642013, pvalue=0.93059443858715596) \n\nComparing: Med_degree\n... with: BloodPosRate\n(-0.14560174487457869, 0.074450478609358078)\nSpearmanrResult(correlation=-0.22644732863751263, pvalue=0.0051751840878056701) \n\n... with: RapidPosRate\n(-0.15197228834778456, 0.062492766923369428)\nSpearmanrResult(correlation=-0.26627901582547003, pvalue=0.00095052771130728776) \n\n... with: DeathRate\n(-0.085491220976541119, 0.29661675204061544)\nSpearmanrResult(correlation=-0.0339633492810845, pvalue=0.67887410739140541) \n\nComparing: Pagerank\n... with: BloodPosRate\n(-0.17086089517780229, 0.03594256680620956)\nSpearmanrResult(correlation=-0.21417703146061878, pvalue=0.0082735663914148567) \n\n... with: RapidPosRate\n(-0.18654643758363773, 0.021822544543258871)\nSpearmanrResult(correlation=-0.25831817517411954, pvalue=0.001362775723982452) \n\n... with: DeathRate\n(-0.19544193296114951, 0.016176312321630883)\nSpearmanrResult(correlation=-0.11207138438369356, pvalue=0.17067678643890535) \n\nComparing: EigenvectorCentrality\n... with: BloodPosRate\n(-0.16383610072399962, 0.044417889242612286)\nSpearmanrResult(correlation=-0.33113039676552108, pvalue=3.2819806616633979e-05) \n\n... with: RapidPosRate\n(-0.15695135787973838, 0.054283297173365337)\nSpearmanrResult(correlation=-0.34065955688987287, pvalue=1.8685964177770964e-05) \n\n... with: DeathRate\n(-0.22809422870050161, 0.0048503569121514396)\nSpearmanrResult(correlation=-0.238733345541876, pvalue=0.0031568853860910015) \n\nComparing: Degree_centrality\n... with: BloodPosRate\n(-0.089585440437775568, 0.27399988775865047)\nSpearmanrResult(correlation=-0.15140909733646701, pvalue=0.063482194166367217) \n\n... with: RapidPosRate\n(-0.098990646385903658, 0.22655460083758638)\nSpearmanrResult(correlation=-0.19212055400517375, pvalue=0.018115063652414724) \n\n... with: DeathRate\n(-0.030742833913423005, 0.70786602332667314)\nSpearmanrResult(correlation=0.021237549996885045, pvalue=0.7957649075636859) \n\nComparing: Introversion\n... with: BloodPosRate\n(0.091536394601750948, 0.26364407789072675)\nSpearmanrResult(correlation=0.097341005063145733, pvalue=0.23442689136169056) \n\n... with: RapidPosRate\n(0.064818872820910492, 0.42910693898228436)\nSpearmanrResult(correlation=0.00012204354856305167, pvalue=0.99881335944332894) \n\n... with: DeathRate\n(0.18618059983948707, 0.022087234230419472)\nSpearmanrResult(correlation=0.19629484398483121, pvalue=0.015708586684885638) \n\n"
     ]
    }
   ],
   "source": [
    "count = 0\n",
    "for i in ['Adm_4']:\n",
    "    print 'At administrative level: %s\\n' % i\n",
    "    cdr_sum = data.groupby(i)['Vol', 'Vol_in', 'Vol_out',\n",
    "                              'Dur', 'Dur_in', 'Dur_out'].sum().reset_index()\n",
    "    cdr_mean = data.groupby(i)['Entropy', 'Med_degree', 'Pagerank', 'EigenvectorCentrality',\n",
    "                               'Degree_centrality', 'Introversion'].mean().reset_index()\n",
    "    cdr_sum_mean = cdr_sum.merge(cdr_mean, on=i)\n",
    "    dhs_median = data.groupby(i)['BloodPosRate','RapidPosRate', 'DeathRate'].median().reset_index()\n",
    "\n",
    "    cdr_dhs = cdr_sum_mean.merge(dhs_median, on=i)\n",
    "\n",
    "    for j in ['Vol', 'Vol_in', 'Vol_out', 'Dur', 'Dur_in', 'Dur_out',\n",
    "              'Entropy', 'Med_degree', 'Pagerank', 'EigenvectorCentrality',\n",
    "              'Degree_centrality', 'Introversion']:\n",
    "        print 'Comparing: %s' % j\n",
    "        for k in ['BloodPosRate', 'RapidPosRate', 'DeathRate']:\n",
    "            print '... with: %s' % k\n",
    "\n",
    "            a = np.array(cdr_dhs[j])\n",
    "            b = np.array(cdr_dhs[k])\n",
    "\n",
    "            non_neg_a = np.where(a > 0)\n",
    "            a = a[non_neg_a]\n",
    "            b = b[non_neg_a]\n",
    "\n",
    "            # non_neg_b = np.where(b > 0)\n",
    "            # a = a[non_neg_b]\n",
    "            # b = b[non_neg_b]\n",
    "\n",
    "            print pearsonr(a, b)\n",
    "            print spearmanr(a, b), '\\n'"
   ]
  },
  {
   "cell_type": "code",
   "execution_count": 6,
   "metadata": {},
   "outputs": [],
   "source": [
    ""
   ]
  },
  {
   "cell_type": "code",
   "execution_count": null,
   "metadata": {},
   "outputs": [],
   "source": [
    ""
   ]
  }
 ],
 "metadata": {
  "kernelspec": {
   "display_name": "Python 2",
   "language": "python",
   "name": "python2"
  },
  "language_info": {
   "codemirror_mode": {
    "name": "ipython",
    "version": 2.0
   },
   "file_extension": ".py",
   "mimetype": "text/x-python",
   "name": "python",
   "nbconvert_exporter": "python",
   "pygments_lexer": "ipython2",
   "version": "2.7.6"
  }
 },
 "nbformat": 4,
 "nbformat_minor": 0
}