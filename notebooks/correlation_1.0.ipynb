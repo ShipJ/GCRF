{
 "cells": [
  {
   "cell_type": "markdown",
   "metadata": {
    "collapsed": true
   },
   "source": [
    ""
   ]
  },
  {
   "cell_type": "markdown",
   "metadata": {},
   "source": [
    "Do something useful"
   ]
  },
  {
   "cell_type": "code",
   "execution_count": 5,
   "metadata": {},
   "outputs": [],
   "source": [
    "import pandas as pd\n",
    "import numpy as np\n",
    "import matplotlib.pyplot as plt\n",
    "import sys\n",
    "from src.config import config\n",
    "from scipy.stats import pearsonr"
   ]
  },
  {
   "cell_type": "markdown",
   "metadata": {},
   "source": [
    "Load data prepared for correlation testing"
   ]
  },
  {
   "cell_type": "code",
   "execution_count": 6,
   "metadata": {},
   "outputs": [],
   "source": [
    "cdr_dhs = pd.DataFrame(pd.read_csv('data/processed/civ/correlation_data.csv'))"
   ]
  },
  {
   "cell_type": "code",
   "execution_count": 7,
   "metadata": {},
   "outputs": [
    {
     "name": "stdout",
     "output_type": "stream",
     "text": [
      "Adm_1 Vol BloodPosRate\n(-0.23775721287948454, 0.41307070579346461)\n"
     ]
    },
    {
     "name": "stdout",
     "output_type": "stream",
     "text": [
      "(-0.23775721287948454, 0.41307070579346461)\n"
     ]
    },
    {
     "name": "stdout",
     "output_type": "stream",
     "text": [
      "Adm_1 Vol RapidPosRate\n(-0.71976413228947855, 0.0037027517382417891)\n"
     ]
    },
    {
     "name": "stdout",
     "output_type": "stream",
     "text": [
      "(-0.71976413228947855, 0.0037027517382417891)\n"
     ]
    },
    {
     "name": "stdout",
     "output_type": "stream",
     "text": [
      "Adm_1 Vol DeathRate\n(-0.16702771482976114, 0.56818442992673068)\n"
     ]
    },
    {
     "name": "stdout",
     "output_type": "stream",
     "text": [
      "(-0.16702771482976114, 0.56818442992673068)\n"
     ]
    },
    {
     "name": "stdout",
     "output_type": "stream",
     "text": [
      "Adm_1 Vol HIVPosRate\n(-0.0050861511111032782, 0.98623222360333895)\n"
     ]
    },
    {
     "name": "stdout",
     "output_type": "stream",
     "text": [
      "(-0.0050861511111032782, 0.98623222360333895)\n"
     ]
    },
    {
     "name": "stdout",
     "output_type": "stream",
     "text": [
      "Adm_1 Vol HealthAccessDifficulty\n(-0.29640732295245753, 0.30347237554960288)\n"
     ]
    },
    {
     "name": "stdout",
     "output_type": "stream",
     "text": [
      "(-0.29640732295245753, 0.30347237554960288)\n"
     ]
    },
    {
     "name": "stdout",
     "output_type": "stream",
     "text": [
      "Adm_1 Vol_in BloodPosRate\n(-0.22181265937898229, 0.44597742680351538)\n"
     ]
    },
    {
     "name": "stdout",
     "output_type": "stream",
     "text": [
      "(-0.22181265937898229, 0.44597742680351538)\n"
     ]
    },
    {
     "name": "stdout",
     "output_type": "stream",
     "text": [
      "Adm_1 Vol_in RapidPosRate\n(-0.70813778053990395, 0.0045950213202433808)\n"
     ]
    },
    {
     "name": "stdout",
     "output_type": "stream",
     "text": [
      "(-0.70813778053990395, 0.0045950213202433808)\n"
     ]
    },
    {
     "name": "stdout",
     "output_type": "stream",
     "text": [
      "Adm_1 Vol_in DeathRate"
     ]
    },
    {
     "name": "stdout",
     "output_type": "stream",
     "text": [
      "\n(-0.18008362393807503, 0.53785508786099445)\n(-0.18008362393807503, 0.53785508786099445)\n"
     ]
    },
    {
     "name": "stdout",
     "output_type": "stream",
     "text": [
      "Adm_1 Vol_in HIVPosRate\n(0.0045311324928604723, 0.98773450245613525)\n"
     ]
    },
    {
     "name": "stdout",
     "output_type": "stream",
     "text": [
      "(0.0045311324928604723, 0.98773450245613525)\n"
     ]
    },
    {
     "name": "stdout",
     "output_type": "stream",
     "text": [
      "Adm_1 Vol_in HealthAccessDifficulty\n(-0.30172454623249323, 0.29446250043076938)\n"
     ]
    },
    {
     "name": "stdout",
     "output_type": "stream",
     "text": [
      "(-0.30172454623249323, 0.29446250043076938)\n"
     ]
    },
    {
     "name": "stdout",
     "output_type": "stream",
     "text": [
      "Adm_1 Vol_out BloodPosRate\n(-0.22251600001065541, 0.44449918248381559)\n"
     ]
    },
    {
     "name": "stdout",
     "output_type": "stream",
     "text": [
      "(-0.22251600001065541, 0.44449918248381559)\n"
     ]
    },
    {
     "name": "stdout",
     "output_type": "stream",
     "text": [
      "Adm_1 Vol_out RapidPosRate\n(-0.70723910872703821, 0.0046704210108774466)\n"
     ]
    },
    {
     "name": "stdout",
     "output_type": "stream",
     "text": [
      "(-0.70723910872703821, 0.0046704210108774466)\nAdm_1 Vol_out DeathRate\n"
     ]
    },
    {
     "name": "stdout",
     "output_type": "stream",
     "text": [
      "(-0.18055460041085575, 0.53677436660424804)\n(-0.18055460041085575, 0.53677436660424804)\n"
     ]
    },
    {
     "name": "stdout",
     "output_type": "stream",
     "text": [
      "Adm_1 Vol_out HIVPosRate\n(0.0056622708185019655, 0.9846728749734841)\n"
     ]
    },
    {
     "name": "stdout",
     "output_type": "stream",
     "text": [
      "(0.0056622708185019655, 0.9846728749734841)\n"
     ]
    },
    {
     "name": "stdout",
     "output_type": "stream",
     "text": [
      "Adm_1 Vol_out HealthAccessDifficulty\n(-0.29937937054464392, 0.29841693375437178)\n"
     ]
    },
    {
     "name": "stdout",
     "output_type": "stream",
     "text": [
      "(-0.29937937054464392, 0.29841693375437178)\n"
     ]
    },
    {
     "name": "stdout",
     "output_type": "stream",
     "text": [
      "Adm_1 Entropy BloodPosRate\n(0.51104719168660906, 0.061816485717265092)\n(0.51104719168660906, 0.061816485717265092)\n"
     ]
    },
    {
     "name": "stdout",
     "output_type": "stream",
     "text": [
      "Adm_1 Entropy RapidPosRate\n(-0.23048802547446787, 0.42791506618814507)\n"
     ]
    },
    {
     "name": "stdout",
     "output_type": "stream",
     "text": [
      "(-0.23048802547446787, 0.42791506618814507)\n"
     ]
    },
    {
     "name": "stdout",
     "output_type": "stream",
     "text": [
      "Adm_1 Entropy DeathRate\n(-0.5801943451430146, 0.029620334238472382)\n"
     ]
    },
    {
     "name": "stdout",
     "output_type": "stream",
     "text": [
      "(-0.5801943451430146, 0.029620334238472382)\nAdm_1 Entropy HIVPosRate\n(0.32531408040433241, 0.25639781239973669)"
     ]
    },
    {
     "name": "stdout",
     "output_type": "stream",
     "text": [
      "\n(0.32531408040433241, 0.25639781239973669)\n"
     ]
    },
    {
     "name": "stdout",
     "output_type": "stream",
     "text": [
      "Adm_1 Entropy HealthAccessDifficulty\n(-0.26083439313949697, 0.36774982345995771)\n"
     ]
    },
    {
     "name": "stdout",
     "output_type": "stream",
     "text": [
      "(-0.26083439313949697, 0.36774982345995771)\n"
     ]
    },
    {
     "name": "stdout",
     "output_type": "stream",
     "text": [
      "Adm_1 Med_degree BloodPosRate\n(0.59982526161489813, 0.023359242875229027)\n"
     ]
    },
    {
     "name": "stdout",
     "output_type": "stream",
     "text": [
      "(0.59982526161489813, 0.023359242875229027)\n"
     ]
    },
    {
     "name": "stdout",
     "output_type": "stream",
     "text": [
      "Adm_1 Med_degree RapidPosRate\n(-0.19916531575192134, 0.4948476833414015)\n"
     ]
    },
    {
     "name": "stdout",
     "output_type": "stream",
     "text": [
      "(-0.19916531575192134, 0.4948476833414015)\n"
     ]
    },
    {
     "name": "stdout",
     "output_type": "stream",
     "text": [
      "Adm_1 Med_degree DeathRate\n(-0.60348713725675285, 0.022311277030105912)\n"
     ]
    },
    {
     "name": "stdout",
     "output_type": "stream",
     "text": [
      "(-0.60348713725675285, 0.022311277030105912)\n"
     ]
    },
    {
     "name": "stdout",
     "output_type": "stream",
     "text": [
      "Adm_1 Med_degree HIVPosRate\n(0.18743871204445789, 0.52108711518611717)\n"
     ]
    },
    {
     "name": "stdout",
     "output_type": "stream",
     "text": [
      "(0.18743871204445789, 0.52108711518611717)\n"
     ]
    },
    {
     "name": "stdout",
     "output_type": "stream",
     "text": [
      "Adm_1 Med_degree HealthAccessDifficulty\n(-0.14512891418333393, 0.62057938011285285)\n"
     ]
    },
    {
     "name": "stdout",
     "output_type": "stream",
     "text": [
      "(-0.14512891418333393, 0.62057938011285285)\n"
     ]
    },
    {
     "name": "stdout",
     "output_type": "stream",
     "text": [
      "Adm_1 Pagerank BloodPosRate\n"
     ]
    },
    {
     "name": "stdout",
     "output_type": "stream",
     "text": [
      "(0.55629075084416901, 0.038838646130208716)\n(0.55629075084416901, 0.038838646130208716)\n"
     ]
    },
    {
     "name": "stdout",
     "output_type": "stream",
     "text": [
      "Adm_1 Pagerank RapidPosRate\n(-0.25974108250221006, 0.36983383149766158)\n"
     ]
    },
    {
     "name": "stdout",
     "output_type": "stream",
     "text": [
      "(-0.25974108250221006, 0.36983383149766158)\n"
     ]
    },
    {
     "name": "stdout",
     "output_type": "stream",
     "text": [
      "Adm_1 Pagerank DeathRate\n(-0.56852709410126812, 0.033889072547161656)\n"
     ]
    },
    {
     "name": "stdout",
     "output_type": "stream",
     "text": [
      "(-0.56852709410126812, 0.033889072547161656)\n"
     ]
    },
    {
     "name": "stdout",
     "output_type": "stream",
     "text": [
      "Adm_1 Pagerank HIVPosRate\n(0.23126243423941653, 0.42632095864158448)\n"
     ]
    },
    {
     "name": "stdout",
     "output_type": "stream",
     "text": [
      "(0.23126243423941653, 0.42632095864158448)\n"
     ]
    },
    {
     "name": "stdout",
     "output_type": "stream",
     "text": [
      "Adm_1 Pagerank HealthAccessDifficulty\n(-0.25452959637946848, 0.3798548356382116)\n"
     ]
    },
    {
     "name": "stdout",
     "output_type": "stream",
     "text": [
      "(-0.25452959637946848, 0.3798548356382116)\nAdm_1 Introversion BloodPosRate\n(0.20670900423748634, 0.47829960829388507)\n"
     ]
    },
    {
     "name": "stdout",
     "output_type": "stream",
     "text": [
      "(0.20670900423748634, 0.47829960829388507)\n"
     ]
    },
    {
     "name": "stdout",
     "output_type": "stream",
     "text": [
      "Adm_1 Introversion RapidPosRate\n(0.39756916816221671, 0.15921750210917085)\n(0.39756916816221671, 0.15921750210917085)\n"
     ]
    },
    {
     "name": "stdout",
     "output_type": "stream",
     "text": [
      "Adm_1 Introversion DeathRate\n(-0.15747675330627817, 0.59080978578593357)\n"
     ]
    },
    {
     "name": "stdout",
     "output_type": "stream",
     "text": [
      "(-0.15747675330627817, 0.59080978578593357)\n"
     ]
    },
    {
     "name": "stdout",
     "output_type": "stream",
     "text": [
      "Adm_1 Introversion HIVPosRate\n(0.38103485070994347, 0.17889728599251667)\n"
     ]
    },
    {
     "name": "stdout",
     "output_type": "stream",
     "text": [
      "(0.38103485070994347, 0.17889728599251667)\n"
     ]
    },
    {
     "name": "stdout",
     "output_type": "stream",
     "text": [
      "Adm_1 Introversion HealthAccessDifficulty\n(-0.20294720973924757, 0.48651857375240803)\n"
     ]
    },
    {
     "name": "stdout",
     "output_type": "stream",
     "text": [
      "(-0.20294720973924757, 0.48651857375240803)\n"
     ]
    },
    {
     "name": "stdout",
     "output_type": "stream",
     "text": [
      "Adm_2 Vol BloodPosRate\n(-0.094896834221567722, 0.59936833283490187)\n"
     ]
    },
    {
     "name": "stdout",
     "output_type": "stream",
     "text": [
      "(-0.094896834221567722, 0.59936833283490187)\n"
     ]
    },
    {
     "name": "stdout",
     "output_type": "stream",
     "text": [
      "Adm_2 Vol RapidPosRate\n(-0.28422411563074335, 0.10892423793934801)\n"
     ]
    },
    {
     "name": "stdout",
     "output_type": "stream",
     "text": [
      "(-0.28422411563074335, 0.10892423793934801)\n"
     ]
    },
    {
     "name": "stdout",
     "output_type": "stream",
     "text": [
      "Adm_2 Vol DeathRate\n(-0.11194566168325269, 0.53510157760555077)\n"
     ]
    },
    {
     "name": "stdout",
     "output_type": "stream",
     "text": [
      "(-0.11194566168325269, 0.53510157760555077)\n"
     ]
    },
    {
     "name": "stdout",
     "output_type": "stream",
     "text": [
      "Adm_2 Vol HIVPosRate\n(-0.058642403671020742, 0.75400770049078703)\n"
     ]
    },
    {
     "name": "stdout",
     "output_type": "stream",
     "text": [
      "(-0.058642403671020742, 0.75400770049078703)\n"
     ]
    },
    {
     "name": "stdout",
     "output_type": "stream",
     "text": [
      "Adm_2 Vol HealthAccessDifficulty\n(-0.15256673017815686, 0.39665312516699847)\n"
     ]
    },
    {
     "name": "stdout",
     "output_type": "stream",
     "text": [
      "(-0.15256673017815686, 0.39665312516699847)\n"
     ]
    },
    {
     "name": "stdout",
     "output_type": "stream",
     "text": [
      "Adm_2 Vol_in BloodPosRate\n(-0.085352996878608381, 0.63673171603312317)\n"
     ]
    },
    {
     "name": "stdout",
     "output_type": "stream",
     "text": [
      "(-0.085352996878608381, 0.63673171603312317)\n"
     ]
    },
    {
     "name": "stdout",
     "output_type": "stream",
     "text": [
      "Adm_2 Vol_in RapidPosRate\n(-0.27902623614047195, 0.11583604655099793)\n"
     ]
    },
    {
     "name": "stdout",
     "output_type": "stream",
     "text": [
      "(-0.27902623614047195, 0.11583604655099793)\nAdm_2 Vol_in DeathRate\n"
     ]
    },
    {
     "name": "stdout",
     "output_type": "stream",
     "text": [
      "(-0.11963589620935564, 0.50723799075662312)\n(-0.11963589620935564, 0.50723799075662312)\n"
     ]
    },
    {
     "name": "stdout",
     "output_type": "stream",
     "text": [
      "Adm_2 Vol_in HIVPosRate\n(-0.056607318707322045, 0.76229619074165367)\n"
     ]
    },
    {
     "name": "stdout",
     "output_type": "stream",
     "text": [
      "(-0.056607318707322045, 0.76229619074165367)\n"
     ]
    },
    {
     "name": "stdout",
     "output_type": "stream",
     "text": [
      "Adm_2 Vol_in HealthAccessDifficulty\n(-0.15719312412115308, 0.38231610144998396)\n(-0.15719312412115308, 0.38231610144998396)\n"
     ]
    },
    {
     "name": "stdout",
     "output_type": "stream",
     "text": [
      "Adm_2 Vol_out BloodPosRate\n(-0.087390628214035704, 0.62867628668068209)\n"
     ]
    },
    {
     "name": "stdout",
     "output_type": "stream",
     "text": [
      "(-0.087390628214035704, 0.62867628668068209)\n"
     ]
    },
    {
     "name": "stdout",
     "output_type": "stream",
     "text": [
      "Adm_2 Vol_out RapidPosRate\n(-0.27932718041079169, 0.1154271476675177)\n"
     ]
    },
    {
     "name": "stdout",
     "output_type": "stream",
     "text": [
      "(-0.27932718041079169, 0.1154271476675177)\n"
     ]
    },
    {
     "name": "stdout",
     "output_type": "stream",
     "text": [
      "Adm_2 Vol_out DeathRate\n(-0.12156663976475789, 0.50035815235732595)\n"
     ]
    },
    {
     "name": "stdout",
     "output_type": "stream",
     "text": [
      "(-0.12156663976475789, 0.50035815235732595)\nAdm_2 Vol_out HIVPosRate\n(-0.05442273749067144, 0.77122235362310887)\n"
     ]
    },
    {
     "name": "stdout",
     "output_type": "stream",
     "text": [
      "(-0.05442273749067144, 0.77122235362310887)\n"
     ]
    },
    {
     "name": "stdout",
     "output_type": "stream",
     "text": [
      "Adm_2 Vol_out HealthAccessDifficulty\n(-0.15723470418111549, 0.38218863267664627)\n"
     ]
    },
    {
     "name": "stdout",
     "output_type": "stream",
     "text": [
      "(-0.15723470418111549, 0.38218863267664627)\n"
     ]
    },
    {
     "name": "stdout",
     "output_type": "stream",
     "text": [
      "Adm_2 Entropy BloodPosRate\n(0.32180144180541526, 0.067812394789817432)\n"
     ]
    },
    {
     "name": "stdout",
     "output_type": "stream",
     "text": [
      "(0.32180144180541526, 0.067812394789817432)\nAdm_2 Entropy RapidPosRate"
     ]
    },
    {
     "name": "stdout",
     "output_type": "stream",
     "text": [
      "\n(-0.10277481935107603, 0.56925958258807419)\n(-0.10277481935107603, 0.56925958258807419)\n"
     ]
    },
    {
     "name": "stdout",
     "output_type": "stream",
     "text": [
      "Adm_2 Entropy DeathRate\n(-0.26487958565539488, 0.13630266721238907)\n"
     ]
    },
    {
     "name": "stdout",
     "output_type": "stream",
     "text": [
      "(-0.26487958565539488, 0.13630266721238907)\n"
     ]
    },
    {
     "name": "stdout",
     "output_type": "stream",
     "text": [
      "Adm_2 Entropy HIVPosRate\n(0.4397855904439873, 0.013300487175562835)\n"
     ]
    },
    {
     "name": "stdout",
     "output_type": "stream",
     "text": [
      "(0.4397855904439873, 0.013300487175562835)\n"
     ]
    },
    {
     "name": "stdout",
     "output_type": "stream",
     "text": [
      "Adm_2 Entropy HealthAccessDifficulty\n(-0.18613431828921589, 0.29967540165841844)\n"
     ]
    },
    {
     "name": "stdout",
     "output_type": "stream",
     "text": [
      "(-0.18613431828921589, 0.29967540165841844)\n"
     ]
    },
    {
     "name": "stdout",
     "output_type": "stream",
     "text": [
      "Adm_2 Med_degree BloodPosRate\n(0.33226462830425585, 0.058866553065052431)\n"
     ]
    },
    {
     "name": "stdout",
     "output_type": "stream",
     "text": [
      "(0.33226462830425585, 0.058866553065052431)\n"
     ]
    },
    {
     "name": "stdout",
     "output_type": "stream",
     "text": [
      "Adm_2 Med_degree RapidPosRate\n(-0.036829869801461877, 0.83875793836597956)\n"
     ]
    },
    {
     "name": "stdout",
     "output_type": "stream",
     "text": [
      "(-0.036829869801461877, 0.83875793836597956)\n"
     ]
    },
    {
     "name": "stdout",
     "output_type": "stream",
     "text": [
      "Adm_2 Med_degree DeathRate\n(-0.32072292024873211, 0.068791816371517933)\n"
     ]
    },
    {
     "name": "stdout",
     "output_type": "stream",
     "text": [
      "(-0.32072292024873211, 0.068791816371517933)\n"
     ]
    },
    {
     "name": "stdout",
     "output_type": "stream",
     "text": [
      "Adm_2 Med_degree HIVPosRate\n(0.36947120786975773, 0.040794390239823272)"
     ]
    },
    {
     "name": "stdout",
     "output_type": "stream",
     "text": [
      "\n(0.36947120786975773, 0.040794390239823272)\nAdm_2 Med_degree HealthAccessDifficulty\n(-0.13493451398350245, 0.45404662818498709)\n"
     ]
    },
    {
     "name": "stdout",
     "output_type": "stream",
     "text": [
      "(-0.13493451398350245, 0.45404662818498709)\n"
     ]
    },
    {
     "name": "stdout",
     "output_type": "stream",
     "text": [
      "Adm_2 Pagerank BloodPosRate\n(0.32520647566773431, 0.064791625644930004)\n(0.32520647566773431, 0.064791625644930004)\n"
     ]
    },
    {
     "name": "stdout",
     "output_type": "stream",
     "text": [
      "Adm_2 Pagerank RapidPosRate\n(0.03585764314168581, 0.84296097158455097)\n"
     ]
    },
    {
     "name": "stdout",
     "output_type": "stream",
     "text": [
      "(0.03585764314168581, 0.84296097158455097)\n"
     ]
    },
    {
     "name": "stdout",
     "output_type": "stream",
     "text": [
      "Adm_2 Pagerank DeathRate\n(-0.41560168340226544, 0.016157828928467163)\n"
     ]
    },
    {
     "name": "stdout",
     "output_type": "stream",
     "text": [
      "(-0.41560168340226544, 0.016157828928467163)\n"
     ]
    },
    {
     "name": "stdout",
     "output_type": "stream",
     "text": [
      "Adm_2 Pagerank HIVPosRate\n(0.27049749764446285, 0.14108222701784384)\n"
     ]
    },
    {
     "name": "stdout",
     "output_type": "stream",
     "text": [
      "(0.27049749764446285, 0.14108222701784384)\n"
     ]
    },
    {
     "name": "stdout",
     "output_type": "stream",
     "text": [
      "Adm_2 Pagerank HealthAccessDifficulty\n(-0.21884285119274835, 0.22111039126661863)\n"
     ]
    },
    {
     "name": "stdout",
     "output_type": "stream",
     "text": [
      "(-0.21884285119274835, 0.22111039126661863)\n"
     ]
    },
    {
     "name": "stdout",
     "output_type": "stream",
     "text": [
      "Adm_2 Introversion BloodPosRate\n(0.1030412000853597, 0.56825362924671174)\n"
     ]
    },
    {
     "name": "stdout",
     "output_type": "stream",
     "text": [
      "(0.1030412000853597, 0.56825362924671174)\n"
     ]
    },
    {
     "name": "stdout",
     "output_type": "stream",
     "text": [
      "Adm_2 Introversion RapidPosRate\n(0.11123656376045725, 0.53770722473821775)\n"
     ]
    },
    {
     "name": "stdout",
     "output_type": "stream",
     "text": [
      "(0.11123656376045725, 0.53770722473821775)\n"
     ]
    },
    {
     "name": "stdout",
     "output_type": "stream",
     "text": [
      "Adm_2 Introversion DeathRate\n(-0.070293075368473096, 0.69748739913867897)"
     ]
    },
    {
     "name": "stdout",
     "output_type": "stream",
     "text": [
      "\n(-0.070293075368473096, 0.69748739913867897)\n"
     ]
    },
    {
     "name": "stdout",
     "output_type": "stream",
     "text": [
      "Adm_2 Introversion HIVPosRate\n(0.44072586425837174, 0.013081988883006828)\n(0.44072586425837174, 0.013081988883006828)\n"
     ]
    },
    {
     "name": "stdout",
     "output_type": "stream",
     "text": [
      "Adm_2 Introversion HealthAccessDifficulty\n(-0.19020744074830201, 0.28903329253474908)\n"
     ]
    },
    {
     "name": "stdout",
     "output_type": "stream",
     "text": [
      "(-0.19020744074830201, 0.28903329253474908)\n"
     ]
    },
    {
     "name": "stdout",
     "output_type": "stream",
     "text": [
      "Adm_3 Vol BloodPosRate\n(-0.12113663580772902, 0.28136528258094134)\n"
     ]
    },
    {
     "name": "stdout",
     "output_type": "stream",
     "text": [
      "(-0.12113663580772902, 0.28136528258094134)\n"
     ]
    },
    {
     "name": "stdout",
     "output_type": "stream",
     "text": [
      "Adm_3 Vol RapidPosRate\n(-0.16927566169215769, 0.10102366195156048)\n"
     ]
    },
    {
     "name": "stdout",
     "output_type": "stream",
     "text": [
      "(-0.16927566169215769, 0.10102366195156048)\n"
     ]
    },
    {
     "name": "stdout",
     "output_type": "stream",
     "text": [
      "Adm_3 Vol DeathRate\n(-0.039233944426142066, 0.69687791978253966)\n"
     ]
    },
    {
     "name": "stdout",
     "output_type": "stream",
     "text": [
      "(-0.039233944426142066, 0.69687791978253966)\n"
     ]
    },
    {
     "name": "stdout",
     "output_type": "stream",
     "text": [
      "Adm_3 Vol HIVPosRate\n(-0.057410621285411072, 0.63687490156353255)\n"
     ]
    },
    {
     "name": "stdout",
     "output_type": "stream",
     "text": [
      "(-0.057410621285411072, 0.63687490156353255)\n"
     ]
    },
    {
     "name": "stdout",
     "output_type": "stream",
     "text": [
      "Adm_3 Vol HealthAccessDifficulty\n(-0.065574071048890625, 0.51471725614635633)\n"
     ]
    },
    {
     "name": "stdout",
     "output_type": "stream",
     "text": [
      "(-0.065574071048890625, 0.51471725614635633)\n"
     ]
    },
    {
     "name": "stdout",
     "output_type": "stream",
     "text": [
      "Adm_3 Vol_in BloodPosRate\n(-0.12078967377447408, 0.28275587648762363)\n(-0.12078967377447408, 0.28275587648762363)\n"
     ]
    },
    {
     "name": "stdout",
     "output_type": "stream",
     "text": [
      "Adm_3 Vol_in RapidPosRate\n(-0.17035692298649877, 0.09883222905807125)\n"
     ]
    },
    {
     "name": "stdout",
     "output_type": "stream",
     "text": [
      "(-0.17035692298649877, 0.09883222905807125)\n"
     ]
    },
    {
     "name": "stdout",
     "output_type": "stream",
     "text": [
      "Adm_3 Vol_in DeathRate\n(-0.041681108363423897, 0.67897968169005896)\n"
     ]
    },
    {
     "name": "stdout",
     "output_type": "stream",
     "text": [
      "(-0.041681108363423897, 0.67897968169005896)\n"
     ]
    },
    {
     "name": "stdout",
     "output_type": "stream",
     "text": [
      "Adm_3 Vol_in HIVPosRate\n(-0.058292930905042596, 0.63169678353395686)"
     ]
    },
    {
     "name": "stdout",
     "output_type": "stream",
     "text": [
      "\n(-0.058292930905042596, 0.63169678353395686)\n"
     ]
    },
    {
     "name": "stdout",
     "output_type": "stream",
     "text": [
      "Adm_3 Vol_in HealthAccessDifficulty\n(-0.067667532560234112, 0.50135660575148477)\n"
     ]
    },
    {
     "name": "stdout",
     "output_type": "stream",
     "text": [
      "(-0.067667532560234112, 0.50135660575148477)\n"
     ]
    },
    {
     "name": "stdout",
     "output_type": "stream",
     "text": [
      "Adm_3 Vol_out BloodPosRate\n(-0.12069475109180841, 0.28313711301376326)\n"
     ]
    },
    {
     "name": "stdout",
     "output_type": "stream",
     "text": [
      "(-0.12069475109180841, 0.28313711301376326)\n"
     ]
    },
    {
     "name": "stdout",
     "output_type": "stream",
     "text": [
      "Adm_3 Vol_out RapidPosRate\n(-0.16975018328621266, 0.10005728772556483)\n"
     ]
    },
    {
     "name": "stdout",
     "output_type": "stream",
     "text": [
      "(-0.16975018328621266, 0.10005728772556483)\n"
     ]
    },
    {
     "name": "stdout",
     "output_type": "stream",
     "text": [
      "Adm_3 Vol_out DeathRate\n(-0.042499287861825927, 0.67303456880587198)\n"
     ]
    },
    {
     "name": "stdout",
     "output_type": "stream",
     "text": [
      "(-0.042499287861825927, 0.67303456880587198)\nAdm_3 Vol_out HIVPosRate\n"
     ]
    },
    {
     "name": "stdout",
     "output_type": "stream",
     "text": [
      "(-0.058368825456087917, 0.63125219137223021)\n(-0.058368825456087917, 0.63125219137223021)\n"
     ]
    },
    {
     "name": "stdout",
     "output_type": "stream",
     "text": [
      "Adm_3 Vol_out HealthAccessDifficulty\n(-0.067139206584736516, 0.50471127426664852)\n"
     ]
    },
    {
     "name": "stdout",
     "output_type": "stream",
     "text": [
      "(-0.067139206584736516, 0.50471127426664852)\n"
     ]
    },
    {
     "name": "stdout",
     "output_type": "stream",
     "text": [
      "Adm_3 Entropy BloodPosRate\n"
     ]
    },
    {
     "name": "stdout",
     "output_type": "stream",
     "text": [
      "(-0.049621673171572116, 0.65999150566969056)\n(-0.049621673171572116, 0.65999150566969056)\nAdm_3 Entropy RapidPosRate\n(-0.14827729751118796, 0.15156189685600924)\n"
     ]
    },
    {
     "name": "stdout",
     "output_type": "stream",
     "text": [
      "(-0.14827729751118796, 0.15156189685600924)\n"
     ]
    },
    {
     "name": "stdout",
     "output_type": "stream",
     "text": [
      "Adm_3 Entropy DeathRate\n(-0.061053832270111109, 0.54417469311339484)\n"
     ]
    },
    {
     "name": "stdout",
     "output_type": "stream",
     "text": [
      "(-0.061053832270111109, 0.54417469311339484)\n"
     ]
    },
    {
     "name": "stdout",
     "output_type": "stream",
     "text": [
      "Adm_3 Entropy HIVPosRate\n(0.17958048845077632, 0.13687033109699129)\n"
     ]
    },
    {
     "name": "stdout",
     "output_type": "stream",
     "text": [
      "(0.17958048845077632, 0.13687033109699129)\n"
     ]
    },
    {
     "name": "stdout",
     "output_type": "stream",
     "text": [
      "Adm_3 Entropy HealthAccessDifficulty\n(-0.17461803147379509, 0.080725734565537)\n"
     ]
    },
    {
     "name": "stdout",
     "output_type": "stream",
     "text": [
      "(-0.17461803147379509, 0.080725734565537)\n"
     ]
    },
    {
     "name": "stdout",
     "output_type": "stream",
     "text": [
      "Adm_3 Med_degree BloodPosRate\n(-0.020781392216328659, 0.85389940974122081)\n"
     ]
    },
    {
     "name": "stdout",
     "output_type": "stream",
     "text": [
      "(-0.020781392216328659, 0.85389940974122081)\nAdm_3 "
     ]
    },
    {
     "name": "stdout",
     "output_type": "stream",
     "text": [
      "Med_degree RapidPosRate\n(-0.1489544288085683, 0.14968104614003627)\n(-0.1489544288085683, 0.14968104614003627)\n"
     ]
    },
    {
     "name": "stdout",
     "output_type": "stream",
     "text": [
      "Adm_3 Med_degree DeathRate\n"
     ]
    },
    {
     "name": "stdout",
     "output_type": "stream",
     "text": [
      "(-0.097369263355226554, 0.33270844726877924)\n(-0.097369263355226554, 0.33270844726877924)\n"
     ]
    },
    {
     "name": "stdout",
     "output_type": "stream",
     "text": [
      "Adm_3 Med_degree HIVPosRate\n(0.16976988554758016, 0.16000817027002828)\n"
     ]
    },
    {
     "name": "stdout",
     "output_type": "stream",
     "text": [
      "(0.16976988554758016, 0.16000817027002828)\n"
     ]
    },
    {
     "name": "stdout",
     "output_type": "stream",
     "text": [
      "Adm_3 Med_degree HealthAccessDifficulty\n(-0.17378521650817305, 0.08220525844425014)\n"
     ]
    },
    {
     "name": "stdout",
     "output_type": "stream",
     "text": [
      "(-0.17378521650817305, 0.08220525844425014)\n"
     ]
    },
    {
     "name": "stdout",
     "output_type": "stream",
     "text": [
      "Adm_3 Pagerank BloodPosRate\n(-0.054603268299705722, 0.62827752320574359)\n"
     ]
    },
    {
     "name": "stdout",
     "output_type": "stream",
     "text": [
      "(-0.054603268299705722, 0.62827752320574359)\n"
     ]
    },
    {
     "name": "stdout",
     "output_type": "stream",
     "text": [
      "Adm_3 Pagerank RapidPosRate\n(-0.14144920741957084, 0.17152795973964036)\n"
     ]
    },
    {
     "name": "stdout",
     "output_type": "stream",
     "text": [
      "(-0.14144920741957084, 0.17152795973964036)\n"
     ]
    },
    {
     "name": "stdout",
     "output_type": "stream",
     "text": [
      "Adm_3 Pagerank DeathRate\n(-0.17463701669882445, 0.080692256584857514)\n"
     ]
    },
    {
     "name": "stdout",
     "output_type": "stream",
     "text": [
      "(-0.17463701669882445, 0.080692256584857514)\n"
     ]
    },
    {
     "name": "stdout",
     "output_type": "stream",
     "text": [
      "Adm_3 Pagerank HIVPosRate\n(0.12265379934667475, 0.31175634449694217)\n"
     ]
    },
    {
     "name": "stdout",
     "output_type": "stream",
     "text": [
      "(0.12265379934667475, 0.31175634449694217)\n"
     ]
    },
    {
     "name": "stdout",
     "output_type": "stream",
     "text": [
      "Adm_3 Pagerank HealthAccessDifficulty\n(-0.20858188616300544, 0.036330253587050387)\n"
     ]
    },
    {
     "name": "stdout",
     "output_type": "stream",
     "text": [
      "(-0.20858188616300544, 0.036330253587050387)\n"
     ]
    },
    {
     "name": "stdout",
     "output_type": "stream",
     "text": [
      "Adm_3 Introversion BloodPosRate\n(0.0019072864264261075, 0.98651736002262636)\n"
     ]
    },
    {
     "name": "stdout",
     "output_type": "stream",
     "text": [
      "(0.0019072864264261075, 0.98651736002262636)\nAdm_3 Introversion RapidPosRate\n(0.01975072485446254, 0.84932768468880115)"
     ]
    },
    {
     "name": "stdout",
     "output_type": "stream",
     "text": [
      "\n(0.01975072485446254, 0.84932768468880115)\n"
     ]
    },
    {
     "name": "stdout",
     "output_type": "stream",
     "text": [
      "Adm_3 Introversion DeathRate\n(0.085787474802668157, 0.39366153484708399)\n"
     ]
    },
    {
     "name": "stdout",
     "output_type": "stream",
     "text": [
      "(0.085787474802668157, 0.39366153484708399)\n"
     ]
    },
    {
     "name": "stdout",
     "output_type": "stream",
     "text": [
      "Adm_3 Introversion HIVPosRate\n(-0.0028560311904896798, 0.98127930859800694)\n"
     ]
    },
    {
     "name": "stdout",
     "output_type": "stream",
     "text": [
      "(-0.0028560311904896798, 0.98127930859800694)\n"
     ]
    },
    {
     "name": "stdout",
     "output_type": "stream",
     "text": [
      "Adm_3 Introversion HealthAccessDifficulty\n(-0.060529032036151197, 0.54764740745295004)\n(-0.060529032036151197, 0.54764740745295004)\n"
     ]
    },
    {
     "name": "stdout",
     "output_type": "stream",
     "text": [
      "Adm_4 Vol BloodPosRate\n(-0.11209736801126531, 0.24584523268740519)\n"
     ]
    },
    {
     "name": "stdout",
     "output_type": "stream",
     "text": [
      "(-0.11209736801126531, 0.24584523268740519)\n"
     ]
    },
    {
     "name": "stdout",
     "output_type": "stream",
     "text": [
      "Adm_4 Vol RapidPosRate\n(-0.11141963574171869, 0.20516144418958546)\n"
     ]
    },
    {
     "name": "stdout",
     "output_type": "stream",
     "text": [
      "(-0.11141963574171869, 0.20516144418958546)\n"
     ]
    },
    {
     "name": "stdout",
     "output_type": "stream",
     "text": [
      "Adm_4 Vol DeathRate\n(-0.052086986644049676, 0.54254785869380262)\n"
     ]
    },
    {
     "name": "stdout",
     "output_type": "stream",
     "text": [
      "(-0.052086986644049676, 0.54254785869380262)\n"
     ]
    },
    {
     "name": "stdout",
     "output_type": "stream",
     "text": [
      "Adm_4 Vol HIVPosRate\n(-0.0030309526018384445, 0.97725235411024292)\n"
     ]
    },
    {
     "name": "stdout",
     "output_type": "stream",
     "text": [
      "(-0.0030309526018384445, 0.97725235411024292)\n"
     ]
    },
    {
     "name": "stdout",
     "output_type": "stream",
     "text": [
      "Adm_4 Vol HealthAccessDifficulty\n(-0.063666596035795234, 0.4548715454428589)\n"
     ]
    },
    {
     "name": "stdout",
     "output_type": "stream",
     "text": [
      "(-0.063666596035795234, 0.4548715454428589)\nAdm_4 Vol_in BloodPosRate\n"
     ]
    },
    {
     "name": "stdout",
     "output_type": "stream",
     "text": [
      "(-0.11169169117504196, 0.24756918341281539)\n(-0.11169169117504196, 0.24756918341281539)\n"
     ]
    },
    {
     "name": "stdout",
     "output_type": "stream",
     "text": [
      "Adm_4 Vol_in RapidPosRate\n(-0.11297790043442782, 0.19885665498375218)\n"
     ]
    },
    {
     "name": "stdout",
     "output_type": "stream",
     "text": [
      "(-0.11297790043442782, 0.19885665498375218)\n"
     ]
    },
    {
     "name": "stdout",
     "output_type": "stream",
     "text": [
      "Adm_4 Vol_in DeathRate\n(-0.054019238195187794, 0.52765634501540593)\n"
     ]
    },
    {
     "name": "stdout",
     "output_type": "stream",
     "text": [
      "(-0.054019238195187794, 0.52765634501540593)\nAdm_4 Vol_in HIVPosRate\n(-0.004008964094766994, 0.96991526923118554)\n"
     ]
    },
    {
     "name": "stdout",
     "output_type": "stream",
     "text": [
      "(-0.004008964094766994, 0.96991526923118554)\n"
     ]
    },
    {
     "name": "stdout",
     "output_type": "stream",
     "text": [
      "Adm_4 Vol_in HealthAccessDifficulty\n(-0.066081173044717251, 0.43791348092668614)\n"
     ]
    },
    {
     "name": "stdout",
     "output_type": "stream",
     "text": [
      "(-0.066081173044717251, 0.43791348092668614)\n"
     ]
    },
    {
     "name": "stdout",
     "output_type": "stream",
     "text": [
      "Adm_4 Vol_out BloodPosRate\n(-0.11181867996539271, 0.24702864135096117)\n"
     ]
    },
    {
     "name": "stdout",
     "output_type": "stream",
     "text": [
      "(-0.11181867996539271, 0.24702864135096117)\n"
     ]
    },
    {
     "name": "stdout",
     "output_type": "stream",
     "text": [
      "Adm_4 Vol_out RapidPosRate\n(-0.11241798576872364, 0.20110577522148065)\n"
     ]
    },
    {
     "name": "stdout",
     "output_type": "stream",
     "text": [
      "(-0.11241798576872364, 0.20110577522148065)\n"
     ]
    },
    {
     "name": "stdout",
     "output_type": "stream",
     "text": [
      "Adm_4 Vol_out DeathRate\n(-0.054978472073574799, 0.52034103770178097)\n"
     ]
    },
    {
     "name": "stdout",
     "output_type": "stream",
     "text": [
      "(-0.054978472073574799, 0.52034103770178097)\n"
     ]
    },
    {
     "name": "stdout",
     "output_type": "stream",
     "text": [
      "Adm_4 Vol_out HIVPosRate\n(-0.0041158915803951304, 0.96911323534327898)\n"
     ]
    },
    {
     "name": "stdout",
     "output_type": "stream",
     "text": [
      "(-0.0041158915803951304, 0.96911323534327898)\n"
     ]
    },
    {
     "name": "stdout",
     "output_type": "stream",
     "text": [
      "Adm_4 Vol_out HealthAccessDifficulty\n(-0.065735502969291176, 0.44031889939857383)\n"
     ]
    },
    {
     "name": "stdout",
     "output_type": "stream",
     "text": [
      "(-0.065735502969291176, 0.44031889939857383)\n"
     ]
    },
    {
     "name": "stdout",
     "output_type": "stream",
     "text": [
      "Adm_4 Entropy BloodPosRate\n(-0.091898287299417999, 0.34191005928046203)\n"
     ]
    },
    {
     "name": "stdout",
     "output_type": "stream",
     "text": [
      "(-0.091898287299417999, 0.34191005928046203)\n"
     ]
    },
    {
     "name": "stdout",
     "output_type": "stream",
     "text": [
      "Adm_4 Entropy RapidPosRate\n(-0.15634506865191936, 0.074540079369265794)\n"
     ]
    },
    {
     "name": "stdout",
     "output_type": "stream",
     "text": [
      "(-0.15634506865191936, 0.074540079369265794)\n"
     ]
    },
    {
     "name": "stdout",
     "output_type": "stream",
     "text": [
      "Adm_4 Entropy DeathRate\n(-0.084342440915366718, 0.32356250808586606)\n"
     ]
    },
    {
     "name": "stdout",
     "output_type": "stream",
     "text": [
      "(-0.084342440915366718, 0.32356250808586606)\n"
     ]
    },
    {
     "name": "stdout",
     "output_type": "stream",
     "text": [
      "Adm_4 Entropy HIVPosRate\n(0.066330072409913621, 0.53217450358693608)\n"
     ]
    },
    {
     "name": "stdout",
     "output_type": "stream",
     "text": [
      "(0.066330072409913621, 0.53217450358693608)\n"
     ]
    },
    {
     "name": "stdout",
     "output_type": "stream",
     "text": [
      "Adm_4 Entropy HealthAccessDifficulty\n(-0.19866303320499967, 0.018620510517284725)\n"
     ]
    },
    {
     "name": "stdout",
     "output_type": "stream",
     "text": [
      "(-0.19866303320499967, 0.018620510517284725)\n"
     ]
    },
    {
     "name": "stdout",
     "output_type": "stream",
     "text": [
      "Adm_4 Med_degree BloodPosRate\n(-0.080242053911517425, 0.40686004272100706)\n"
     ]
    },
    {
     "name": "stdout",
     "output_type": "stream",
     "text": [
      "(-0.080242053911517425, 0.40686004272100706)\n"
     ]
    },
    {
     "name": "stdout",
     "output_type": "stream",
     "text": [
      "Adm_4 Med_degree RapidPosRate\n(-0.15817041208606011, 0.071173538280107446)\n"
     ]
    },
    {
     "name": "stdout",
     "output_type": "stream",
     "text": [
      "(-0.15817041208606011, 0.071173538280107446)\n"
     ]
    },
    {
     "name": "stdout",
     "output_type": "stream",
     "text": [
      "Adm_4 Med_degree DeathRate\n(-0.10565309286856675, 0.21577130771156666)\n"
     ]
    },
    {
     "name": "stdout",
     "output_type": "stream",
     "text": [
      "(-0.10565309286856675, 0.21577130771156666)\n"
     ]
    },
    {
     "name": "stdout",
     "output_type": "stream",
     "text": [
      "Adm_4 Med_degree HIVPosRate\n(0.054488048965949352, 0.60796615554092515)\n"
     ]
    },
    {
     "name": "stdout",
     "output_type": "stream",
     "text": [
      "(0.054488048965949352, 0.60796615554092515)\n"
     ]
    },
    {
     "name": "stdout",
     "output_type": "stream",
     "text": [
      "Adm_4 Med_degree HealthAccessDifficulty\n(-0.19450751871055844, 0.02128728029126277)\n"
     ]
    },
    {
     "name": "stdout",
     "output_type": "stream",
     "text": [
      "(-0.19450751871055844, 0.02128728029126277)\n"
     ]
    },
    {
     "name": "stdout",
     "output_type": "stream",
     "text": [
      "Adm_4 Pagerank BloodPosRate\n(-0.093702270894609849, 0.33247719234017936)\n"
     ]
    },
    {
     "name": "stdout",
     "output_type": "stream",
     "text": [
      "(-0.093702270894609849, 0.33247719234017936)\n"
     ]
    },
    {
     "name": "stdout",
     "output_type": "stream",
     "text": [
      "Adm_4 Pagerank RapidPosRate\n(-0.14385106806595635, 0.10116990951424513)\n"
     ]
    },
    {
     "name": "stdout",
     "output_type": "stream",
     "text": [
      "(-0.14385106806595635, 0.10116990951424513)\n"
     ]
    },
    {
     "name": "stdout",
     "output_type": "stream",
     "text": [
      "Adm_4 Pagerank DeathRate\n(-0.13788135855037378, 0.1055207299244746)\n"
     ]
    },
    {
     "name": "stdout",
     "output_type": "stream",
     "text": [
      "(-0.13788135855037378, 0.1055207299244746)\n"
     ]
    },
    {
     "name": "stdout",
     "output_type": "stream",
     "text": [
      "Adm_4 Pagerank HIVPosRate\n(0.010674338283312997, 0.92000938177224501)\n"
     ]
    },
    {
     "name": "stdout",
     "output_type": "stream",
     "text": [
      "(0.010674338283312997, 0.92000938177224501)\n"
     ]
    },
    {
     "name": "stdout",
     "output_type": "stream",
     "text": [
      "Adm_4 Pagerank HealthAccessDifficulty\n(-0.18078351609361895, 0.032555168185349932)\n"
     ]
    },
    {
     "name": "stdout",
     "output_type": "stream",
     "text": [
      "(-0.18078351609361895, 0.032555168185349932)\n"
     ]
    },
    {
     "name": "stdout",
     "output_type": "stream",
     "text": [
      "Adm_4 Introversion BloodPosRate\n(0.042346530995244477, 0.66195909863148228)\n"
     ]
    },
    {
     "name": "stdout",
     "output_type": "stream",
     "text": [
      "(0.042346530995244477, 0.66195909863148228)\n"
     ]
    },
    {
     "name": "stdout",
     "output_type": "stream",
     "text": [
      "Adm_4 Introversion RapidPosRate\n(0.014029216394324704, 0.87363688639178316)\n"
     ]
    },
    {
     "name": "stdout",
     "output_type": "stream",
     "text": [
      "(0.014029216394324704, 0.87363688639178316)\n"
     ]
    },
    {
     "name": "stdout",
     "output_type": "stream",
     "text": [
      "Adm_4 Introversion DeathRate\n(0.052614149882425687, 0.53846464214288381)\n"
     ]
    },
    {
     "name": "stdout",
     "output_type": "stream",
     "text": [
      "(0.052614149882425687, 0.53846464214288381)\n"
     ]
    },
    {
     "name": "stdout",
     "output_type": "stream",
     "text": [
      "Adm_4 Introversion HIVPosRate\n(0.0024943025225382734, 0.98127916952080796)\n"
     ]
    },
    {
     "name": "stdout",
     "output_type": "stream",
     "text": [
      "(0.0024943025225382734, 0.98127916952080796)\n"
     ]
    },
    {
     "name": "stdout",
     "output_type": "stream",
     "text": [
      "Adm_4 Introversion HealthAccessDifficulty\n(-0.047858547117471062, 0.57444650524229279)\n"
     ]
    },
    {
     "name": "stdout",
     "output_type": "stream",
     "text": [
      "(-0.047858547117471062, 0.57444650524229279)\n"
     ]
    }
   ],
   "source": [
    "# For each Administrative level\n",
    "for i in ['Adm_1', 'Adm_2', 'Adm_3', 'Adm_4']:\n",
    "    cdr_sum = cdr_dhs.groupby(i)['Vol', 'Vol_in', 'Vol_out',\n",
    "                                 'Dur', 'Dur_in', 'Dur_out'].sum().reset_index()\n",
    "    cdr_mean = cdr_dhs.groupby(i)['Entropy', 'Med_degree',\n",
    "                                  'Pagerank', 'Introversion'].median().reset_index()\n",
    "    cdr = cdr_sum.merge(cdr_mean, on=i)\n",
    "    dhs = cdr_dhs.groupby(i)['BloodPosRate', 'RapidPosRate', 'DeathRate',\n",
    "                             'HIVPosRate', 'HealthAccessDifficulty'].mean().reset_index()\n",
    "    data = cdr.merge(dhs, on=i)\n",
    "    for j in ['Vol', 'Vol_in', 'Vol_out', 'Entropy',\n",
    "              'Med_degree', 'Pagerank', 'Introversion']:\n",
    "        for k in ['BloodPosRate', 'RapidPosRate', 'DeathRate',\n",
    "                  'HIVPosRate', 'HealthAccessDifficulty']:\n",
    "            a = np.array(data[j])\n",
    "            b = np.array(data[k])\n",
    "            outliers = np.where(a > 0)\n",
    "            a = a[outliers]\n",
    "            b = b[outliers]\n",
    "            outliers2 = np.where(b > 0)\n",
    "            a = a[outliers2]\n",
    "            b = b[outliers2]\n",
    "            \n",
    "            print i, j, k\n",
    "\n",
    "            print pearsonr(a, b)\n",
    "            plt.scatter(a, b)\n",
    "            plt.show()\n",
    "            print pearsonr(a, b)\n",
    "            plt.scatter(np.log(a), np.log(b))\n",
    "            plt.show()"
   ]
  },
  {
   "cell_type": "code",
   "execution_count": null,
   "metadata": {},
   "outputs": [],
   "source": [
    ""
   ]
  }
 ],
 "metadata": {
  "kernelspec": {
   "display_name": "Python 2",
   "language": "python",
   "name": "python2"
  },
  "language_info": {
   "codemirror_mode": {
    "name": "ipython",
    "version": 2.0
   },
   "file_extension": ".py",
   "mimetype": "text/x-python",
   "name": "python",
   "nbconvert_exporter": "python",
   "pygments_lexer": "ipython2",
   "version": "2.7.6"
  }
 },
 "nbformat": 4,
 "nbformat_minor": 0
}