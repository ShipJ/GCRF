{
 "cells": [
  {
   "cell_type": "code",
   "execution_count": null,
   "metadata": {
    "collapsed": true
   },
   "outputs": [],
   "source": [
    "import numpy as np\n",
    "import pandas as pd\n",
    "import matplotlib.pyplot as plt\n",
    "\n",
    "a = [0.15,0.16,0.18,0.21,0.25,0.3,0.36,0.43,0.51,0.6,0.9]\n",
    "b = [0.8,0.71,0.63,0.56,0.5,0.45,0.41,0.38,0.36,0.35,0.9]\n",
    "\n",
    "plt.scatter(a,b)\n",
    "plt.show()"
   ]
  },
  {
   "cell_type": "code",
   "execution_count": null,
   "metadata": {},
   "outputs": [],
   "source": [
    "a = [0.15,0.16,0.18,0.21,0.25,0.3,0.36,0.43,0.51,0.6,0.9]\n",
    "b = [0.8,0.71,0.63,0.56,0.5,0.45,0.41,0.38,0.36,0.35,0.9]\n",
    "\n",
    "plt.scatter(a,b)\n",
    "plt.show()"
   ]
  }
 ],
 "metadata": {
  "kernelspec": {
   "display_name": "Python 2",
   "language": "python",
   "name": "python2"
  },
  "language_info": {
   "codemirror_mode": {
    "name": "ipython",
    "version": 2.0
   },
   "file_extension": ".py",
   "mimetype": "text/x-python",
   "name": "python",
   "nbconvert_exporter": "python",
   "pygments_lexer": "ipython2",
   "version": "2.7.6"
  }
 },
 "nbformat": 4,
 "nbformat_minor": 0
}