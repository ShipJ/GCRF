{
 "cells": [
  {
   "cell_type": "code",
   "execution_count": 21,
   "metadata": {
    "collapsed": true
   },
   "outputs": [],
   "source": [
    "import pandas as pd\n",
    "import numpy as np\n",
    "from scipy.stats.stats import pearsonr\n",
    "import matplotlib.pyplot as plt\n",
    "plt.rcParams['figure.facecolor'] = 'w'\n",
    "plt.rcParams['axes.grid'] = True\n",
    "plt.rcParams['figure.figsize'] = 9.5,9.5\n",
    "def applyPlotStyle():\n",
    "    plt.xlim([0,1])\n",
    "    plt.ylim([0,1])\n",
    "\n",
    "\n",
    "\n",
    "cdr_path = '/Users/JackShipway/Desktop/UCLProject/Data/IvoryCoast/CDR/StaticMetrics'\n",
    "dhs_path = '/Users/JackShipway/Desktop/UCLProject/Data/IvoryCoast/DHS/Metrics'\n",
    "pop_path = '/Users/JackShipway/Desktop/UCLProject/Data/IvoryCoast/Population'"
   ]
  },
  {
   "cell_type": "markdown",
   "metadata": {},
   "source": [
    "First I'm going to read all of the necessary data sources"
   ]
  },
  {
   "cell_type": "code",
   "execution_count": 22,
   "metadata": {},
   "outputs": [],
   "source": [
    "''' DHS Data '''\n",
    "dhs = pd.DataFrame(pd.read_csv(dhs_path+'/DHSData.csv'))\n",
    "malaria_1 = dhs.groupby('Adm_1')['MalariaPerPop'].mean().reset_index()\n",
    "malaria_2 = dhs.groupby('Adm_2')['MalariaPerPop'].mean().reset_index()\n",
    "malaria_3 = dhs.groupby('Adm_3')['MalariaPerPop'].mean().reset_index()\n",
    "malaria_4 = dhs.groupby('Adm_4')['MalariaPerPop'].mean().reset_index()\n",
    "\n",
    "''' CDR Data '''\n",
    "# Activity\n",
    "activity_1 = pd.DataFrame(pd.read_csv(cdr_path+'/Activity/activity_adm1.csv'))\n",
    "activity_2 = pd.DataFrame(pd.read_csv(cdr_path+'/Activity/activity_adm2.csv'))\n",
    "activity_3 = pd.DataFrame(pd.read_csv(cdr_path+'/Activity/activity_adm3.csv'))\n",
    "activity_4 = pd.DataFrame(pd.read_csv(cdr_path+'/Activity/activity_adm4.csv'))\n",
    "# Entropy\n",
    "entropy_1 = pd.DataFrame(pd.read_csv(cdr_path+'/Entropy/entropy_adm1.csv'))\n",
    "entropy_2 = pd.DataFrame(pd.read_csv(cdr_path+'/Entropy/entropy_adm2.csv'))\n",
    "entropy_3 = pd.DataFrame(pd.read_csv(cdr_path+'/Entropy/entropy_adm3.csv'))\n",
    "entropy_4 = pd.DataFrame(pd.read_csv(cdr_path+'/Entropy/entropy_adm4.csv'))\n",
    "# Median Degree\n",
    "degree_1 = pd.DataFrame(pd.read_csv(cdr_path+'/MedianDegree/Degree/total_deg_adm1.csv'))\n",
    "degree_2 = pd.DataFrame(pd.read_csv(cdr_path+'/MedianDegree/Degree/total_deg_adm2.csv'))\n",
    "degree_3 = pd.DataFrame(pd.read_csv(cdr_path+'/MedianDegree/Degree/total_deg_adm3.csv'))\n",
    "degree_4 = pd.DataFrame(pd.read_csv(cdr_path+'/MedianDegree/Degree/total_deg_adm4.csv'))\n",
    "# Introversion\n",
    "introversion_1 = pd.DataFrame(pd.read_csv(cdr_path+'/Introversion/introversion_adm1.csv'))\n",
    "introversion_2 = pd.DataFrame(pd.read_csv(cdr_path+'/Introversion/introversion_adm2.csv'))\n",
    "introversion_3 = pd.DataFrame(pd.read_csv(cdr_path+'/Introversion/introversion_adm3.csv'))\n",
    "introversion_4 = pd.DataFrame(pd.read_csv(cdr_path+'/Introversion/introversion_adm4.csv'))\n",
    "\n",
    "''' Population Data '''\n",
    "pop = pd.DataFrame(pd.read_csv(pop_path+'/DHS_pop_Adm_1234.csv'))\n",
    "\n",
    "# At level 3 and 4, there are a small number of missing data points, so we remove them\n",
    "for i in np.setdiff1d(activity_3['Adm_3'], malaria_3['Adm_3']):\n",
    "    activity_3 = activity_3[activity_3['Adm_3'] != i]\n",
    "    entropy_3 = entropy_3[entropy_3['Adm_3'] != i]\n",
    "    introversion_3 = introversion_3[introversion_3['Adm_3'] != i]\n",
    "    degree_3 = degree_3[degree_3['Adm_3'] != i]\n",
    "    \n",
    "for j in np.setdiff1d(activity_4['Adm_4'], malaria_4['Adm_4']):\n",
    "    activity_4 = activity_4[activity_4['Adm_4'] != j]\n",
    "    entropy_4 = entropy_4[entropy_4['Adm_4'] != j]\n",
    "    introversion_4 = introversion_4[introversion_4['Adm_4'] != j]\n",
    "    degree_4 = degree_4[degree_4['Adm_4'] != j]\n",
    "for k in np.setdiff1d(malaria_4['Adm_4'], activity_4['Adm_4']):\n",
    "    malaria_4 = malaria_4[malaria_4['Adm_4'] != k]\n",
    "    entropy_4 = entropy_4[entropy_4['Adm_4'] != k]\n",
    "    introversion_4 = introversion_4[introversion_4['Adm_4'] != k]\n",
    "    degree_4 = degree_4[degree_4['Adm_4'] != k]\n",
    "    \n",
    "for l in np.setdiff1d(activity_4['Adm_4'], entropy_4['Adm_4']):\n",
    "    activity_4 = activity_4[activity_4['Adm_4'] != l]\n",
    "    entropy_4 = entropy_4[entropy_4['Adm_4'] != l]\n",
    "    malaria_4 = malaria_4[malaria_4['Adm_4'] != l]\n",
    "    introversion_4 = introversion_4[introversion_4['Adm_4'] != l]\n",
    "    degree_4 = degree_4[degree_4['Adm_4'] != l]\n",
    "    \n",
    "for m in np.setdiff1d(entropy_4['Adm_4'], activity_4['Adm_4']):\n",
    "    activity_4 = activity_4[activity_4['Adm_4'] != m]\n",
    "    malaria_4 = malaria_4[malaria_4['Adm_4'] != m]\n",
    "    entropy_4 = entropy_4[entropy_4['Adm_4'] != m]\n",
    "    introversion_4 = introversion_4[introversion_4['Adm_4'] != m]\n",
    "    degree_4 = degree_4[degree_4['Adm_4'] != m]"
   ]
  },
  {
   "cell_type": "markdown",
   "metadata": {},
   "source": [
    "Now I perform a Pearson's Moment Correlation Coefficient test, and plot the scatter diagrams for each pair of variables, starting with activity"
   ]
  },
  {
   "cell_type": "code",
   "execution_count": 11,
   "metadata": {},
   "outputs": [
    {
     "name": "stdout",
     "output_type": "stream",
     "text": [
      "Activity PMCC:\n(0.26877891802419518, 0.35279831979446102)\n"
     ]
    },
    {
     "name": "stdout",
     "output_type": "stream",
     "text": [
      "(0.17517441103018944, 0.32952744556659719)\n"
     ]
    },
    {
     "name": "stdout",
     "output_type": "stream",
     "text": [
      "(-0.027176865531348054, 0.78733390183220153)\n"
     ]
    },
    {
     "name": "stdout",
     "output_type": "stream",
     "text": [
      "(-0.0082807147730384976, 0.92697400160122712)\n"
     ]
    }
   ],
   "source": [
    "print 'Activity PMCC:'\n",
    "print pearsonr(activity_1['Vol']/max(activity_1['Vol']), malaria_1['MalariaPerPop']/max(malaria_1['MalariaPerPop']))\n",
    "plt.scatter(activity_1['Vol']/max(activity_1['Vol']), malaria_1['MalariaPerPop']/max(malaria_1['MalariaPerPop']))\n",
    "plt.xlabel('Activity Adm_1')\n",
    "plt.ylabel('Malaria Cases Per Person')\n",
    "plt.show()\n",
    "print pearsonr(activity_2['Vol']/max(activity_2['Vol']), malaria_2['MalariaPerPop']/max(malaria_2['MalariaPerPop']))\n",
    "plt.scatter(activity_2['Vol']/max(activity_2['Vol']), malaria_2['MalariaPerPop']/max(malaria_2['MalariaPerPop']))\n",
    "plt.xlabel('Activity Adm_2')\n",
    "plt.ylabel('Malaria Cases Per Person')\n",
    "plt.show()\n",
    "print pearsonr(activity_3['Vol']/max(activity_3['Vol']), malaria_3['MalariaPerPop']/max(malaria_3['MalariaPerPop']))\n",
    "plt.scatter(activity_3['Vol']/max(activity_3['Vol']), malaria_3['MalariaPerPop']/max(malaria_3['MalariaPerPop']))\n",
    "plt.xlabel('Activity Adm_3')\n",
    "plt.ylabel('Malaria Cases Per Person')\n",
    "plt.show()\n",
    "print pearsonr(activity_4['Vol']/max(activity_4['Vol']), malaria_4['MalariaPerPop']/max(malaria_4['MalariaPerPop']))\n",
    "plt.scatter(activity_4['Vol']/max(activity_4['Vol']), malaria_4['MalariaPerPop']/max(malaria_4['MalariaPerPop']))\n",
    "plt.xlabel('Activity Adm_4')\n",
    "plt.ylabel('Malaria Cases Per Person')\n",
    "plt.show()"
   ]
  },
  {
   "cell_type": "markdown",
   "metadata": {},
   "source": [
    "Now the same for Entropy"
   ]
  },
  {
   "cell_type": "code",
   "execution_count": 12,
   "metadata": {},
   "outputs": [
    {
     "name": "stdout",
     "output_type": "stream",
     "text": [
      "Entropy PMCC:\n(-0.45508068532854151, 0.10203841599860207)\n"
     ]
    },
    {
     "name": "stdout",
     "output_type": "stream",
     "text": [
      "(-0.30147342233042052, 0.088197890678931121)\n"
     ]
    },
    {
     "name": "stdout",
     "output_type": "stream",
     "text": [
      "(-0.077745685626964364, 0.43965278761527449)\n"
     ]
    },
    {
     "name": "stdout",
     "output_type": "stream",
     "text": [
      "(-0.055988195216819692, 0.53514907776183085)\n"
     ]
    }
   ],
   "source": [
    "print 'Entropy PMCC:'\n",
    "print pearsonr(entropy_1['Entropy']/max(entropy_1['Entropy']), malaria_1['MalariaPerPop']/max(malaria_1['MalariaPerPop']))\n",
    "plt.scatter(entropy_1['Entropy']/max(entropy_1['Entropy']), malaria_1['MalariaPerPop']/max(malaria_1['MalariaPerPop']))\n",
    "applyPlotStyle()\n",
    "plt.xlabel('Entropy Adm_1')\n",
    "plt.ylabel('Malaria Cases Per Person')\n",
    "plt.show()\n",
    "print pearsonr(entropy_2['Entropy']/max(entropy_2['Entropy']), malaria_2['MalariaPerPop']/max(malaria_2['MalariaPerPop']))\n",
    "plt.scatter(entropy_2['Entropy']/max(entropy_2['Entropy']), malaria_2['MalariaPerPop']/max(malaria_2['MalariaPerPop']))\n",
    "applyPlotStyle()\n",
    "plt.xlabel('Entropy Adm_2')\n",
    "plt.ylabel('Malaria Cases Per Person')\n",
    "plt.show()\n",
    "print pearsonr(entropy_3['Entropy']/max(entropy_3['Entropy']), malaria_3['MalariaPerPop']/max(malaria_3['MalariaPerPop']))\n",
    "plt.scatter(entropy_3['Entropy']/max(entropy_3['Entropy']), malaria_3['MalariaPerPop']/max(malaria_3['MalariaPerPop']))\n",
    "applyPlotStyle()\n",
    "plt.xlabel('Entropy Adm_3')\n",
    "plt.ylabel('Malaria Cases Per Person')\n",
    "plt.show()\n",
    "print pearsonr(entropy_4['Entropy']/max(entropy_4['Entropy']), malaria_4['MalariaPerPop']/max(malaria_4['MalariaPerPop']))\n",
    "plt.scatter(entropy_4['Entropy']/max(entropy_4['Entropy']), malaria_4['MalariaPerPop']/max(malaria_4['MalariaPerPop']))\n",
    "applyPlotStyle()\n",
    "plt.xlabel('Entropy Adm_4')\n",
    "plt.ylabel('Malaria Cases Per Person')\n",
    "plt.show()"
   ]
  },
  {
   "cell_type": "markdown",
   "metadata": {},
   "source": [
    "Now Introversion"
   ]
  },
  {
   "cell_type": "code",
   "execution_count": 13,
   "metadata": {},
   "outputs": [
    {
     "name": "stdout",
     "output_type": "stream",
     "text": [
      "Introversion PMCC:\n(-0.11527126666192086, 0.6947583650387037)\n"
     ]
    },
    {
     "name": "stdout",
     "output_type": "stream",
     "text": [
      "(-0.31614070614078105, 0.073076718352043227)\n"
     ]
    },
    {
     "name": "stdout",
     "output_type": "stream",
     "text": [
      "(-0.10189667219181617, 0.31060933779570499)\n(-0.072328783944782427, 0.42279192305101321)\n"
     ]
    }
   ],
   "source": [
    "print 'Introversion PMCC:'\n",
    "print pearsonr(introversion_1['Introversion']/max(introversion_1['Introversion']), malaria_1['MalariaPerPop']/max(malaria_1['MalariaPerPop']))\n",
    "plt.scatter(introversion_1['Introversion']/max(introversion_1['Introversion']), malaria_1['MalariaPerPop']/max(malaria_1['MalariaPerPop']))\n",
    "plt.xlabel('Median Degree Adm_1')\n",
    "plt.ylabel('Malaria Cases Per Person')\n",
    "plt.show()\n",
    "print pearsonr(introversion_2['Introversion']/max(introversion_1['Introversion']), malaria_2['MalariaPerPop']/max(malaria_2['MalariaPerPop']))\n",
    "plt.scatter(introversion_2['Introversion']/max(introversion_1['Introversion']), malaria_2['MalariaPerPop']/max(malaria_2['MalariaPerPop']))\n",
    "plt.xlabel('Median Degree Adm_2')\n",
    "plt.ylabel('Malaria Cases Per Person')\n",
    "plt.show()\n",
    "print pearsonr(introversion_3['Introversion']/max(introversion_1['Introversion']), malaria_3['MalariaPerPop']/max(malaria_3['MalariaPerPop']))\n",
    "plt.scatter(introversion_3['Introversion']/max(introversion_1['Introversion']), malaria_3['MalariaPerPop']/max(malaria_3['MalariaPerPop']))\n",
    "plt.xlabel('Median Degree Adm_3')\n",
    "plt.ylabel('Malaria Cases Per Person')\n",
    "plt.show()\n",
    "print pearsonr(introversion_4['Introversion']/max(introversion_1['Introversion']), malaria_4['MalariaPerPop']/max(malaria_4['MalariaPerPop']))\n",
    "plt.scatter(introversion_4['Introversion']/max(introversion_1['Introversion']), malaria_4['MalariaPerPop']/max(malaria_4['MalariaPerPop']))\n",
    "plt.xlabel('Median Degree Adm_4')\n",
    "plt.ylabel('Malaria Cases Per Person')\n",
    "plt.show()"
   ]
  },
  {
   "cell_type": "markdown",
   "metadata": {},
   "source": [
    "And finally, median degree"
   ]
  },
  {
   "cell_type": "code",
   "execution_count": 14,
   "metadata": {},
   "outputs": [
    {
     "name": "stdout",
     "output_type": "stream",
     "text": [
      "Median_degree PMCC:\n(-0.45759842154165192, 0.099917824541556038)\n"
     ]
    },
    {
     "name": "stdout",
     "output_type": "stream",
     "text": [
      "(-0.30959743365760128, 0.079551803270562702)\n"
     ]
    },
    {
     "name": "stdout",
     "output_type": "stream",
     "text": [
      "(-0.08213644926841239, 0.41417572424476412)\n"
     ]
    },
    {
     "name": "stdout",
     "output_type": "stream",
     "text": [
      "(-0.053663806270072063, 0.5522576178370755)\n"
     ]
    }
   ],
   "source": [
    "print 'Median_degree PMCC:'\n",
    "print pearsonr(degree_1['Degree']/max(degree_1['Degree']), malaria_1['MalariaPerPop']/max(malaria_1['MalariaPerPop']))\n",
    "plt.scatter(degree_1['Degree']/max(degree_1['Degree']), malaria_1['MalariaPerPop']/max(malaria_1['MalariaPerPop']))\n",
    "plt.xlabel('Median Degree Adm_1')\n",
    "plt.ylabel('Malaria Cases Per Person')\n",
    "plt.show()\n",
    "print pearsonr(degree_2['Degree']/max(degree_2['Degree']), malaria_2['MalariaPerPop']/max(malaria_2['MalariaPerPop']))\n",
    "plt.scatter(degree_2['Degree']/max(degree_2['Degree']), malaria_2['MalariaPerPop']/max(malaria_2['MalariaPerPop']))\n",
    "plt.xlabel('Median Degree Adm_2')\n",
    "plt.ylabel('Malaria Cases Per Person')\n",
    "plt.show()\n",
    "print pearsonr(degree_3['Degree']/max(degree_3['Degree']), malaria_3['MalariaPerPop']/max(malaria_3['MalariaPerPop']))\n",
    "plt.scatter(degree_3['Degree']/max(degree_3['Degree']), malaria_3['MalariaPerPop']/max(malaria_3['MalariaPerPop']))\n",
    "plt.xlabel('Median Degree Adm_3')\n",
    "plt.ylabel('Malaria Cases Per Person')\n",
    "plt.show()\n",
    "print pearsonr(degree_4['Degree']/max(degree_4['Degree']), malaria_4['MalariaPerPop']/max(malaria_4['MalariaPerPop']))\n",
    "plt.scatter(degree_4['Degree']/max(degree_4['Degree']), malaria_4['MalariaPerPop']/max(malaria_4['MalariaPerPop']))\n",
    "plt.xlabel('Median Degree Adm_4')\n",
    "plt.ylabel('Malaria Cases Per Person')\n",
    "plt.show()"
   ]
  },
  {
   "cell_type": "markdown",
   "metadata": {},
   "source": [
    ""
   ]
  },
  {
   "cell_type": "code",
   "execution_count": 15,
   "metadata": {},
   "outputs": [
    {
     "name": "stdout",
     "output_type": "stream",
     "text": [
      "Activity PMCC:\n(-0.01440579972490522, 0.9610165348092965)\n"
     ]
    },
    {
     "name": "stdout",
     "output_type": "stream",
     "text": [
      "(-0.036914564805404421, 0.83839199861773772)\n"
     ]
    },
    {
     "name": "stdout",
     "output_type": "stream",
     "text": [
      "(-0.16419245174310126, 0.10085350048710254)\n"
     ]
    },
    {
     "name": "stdout",
     "output_type": "stream",
     "text": [
      "(-0.12754993340824822, 0.15633039778732305)\n"
     ]
    }
   ],
   "source": [
    "print 'Activity PMCC:'\n",
    "print pearsonr(np.log(activity_1['Vol'])/max(np.log(activity_1['Vol'])), malaria_1['MalariaPerPop']/max(malaria_1['MalariaPerPop']))\n",
    "plt.scatter(np.log(activity_1['Vol'])/max(np.log(activity_1['Vol'])), malaria_1['MalariaPerPop']/max(malaria_1['MalariaPerPop']))\n",
    "plt.xlabel('Log(Activity Adm_1)')\n",
    "plt.ylabel('Malaria Cases Per Person')\n",
    "plt.show()\n",
    "print pearsonr(np.log(activity_2['Vol'])/max(np.log(activity_2['Vol'])), malaria_2['MalariaPerPop']/max(malaria_2['MalariaPerPop']))\n",
    "plt.scatter(np.log(activity_2['Vol'])/max(np.log(activity_2['Vol'])), malaria_2['MalariaPerPop']/max(malaria_2['MalariaPerPop']))\n",
    "plt.xlabel('Log(Activity Adm_2)')\n",
    "plt.ylabel('Malaria Cases Per Person')\n",
    "plt.show()\n",
    "print pearsonr(np.log(activity_3['Vol'])/max(np.log(activity_3['Vol'])), malaria_3['MalariaPerPop']/max(malaria_3['MalariaPerPop']))\n",
    "plt.scatter(np.log(activity_3['Vol'])/max(np.log(activity_3['Vol'])), malaria_3['MalariaPerPop']/max(malaria_3['MalariaPerPop']))\n",
    "plt.xlabel('Log(Activity Adm_3)')\n",
    "plt.ylabel('Malaria Cases Per Person')\n",
    "plt.show()\n",
    "print pearsonr(np.log(activity_4['Vol'])/max(np.log(activity_4['Vol'])), malaria_4['MalariaPerPop']/max(malaria_4['MalariaPerPop']))\n",
    "plt.scatter(np.log(activity_4['Vol'])/max(np.log(activity_4['Vol'])), malaria_4['MalariaPerPop']/max(malaria_4['MalariaPerPop']))\n",
    "plt.xlabel('Log(Activity Adm_4)')\n",
    "plt.ylabel('Malaria Cases Per Person')\n",
    "plt.show()"
   ]
  },
  {
   "cell_type": "code",
   "execution_count": 16,
   "metadata": {},
   "outputs": [
    {
     "name": "stdout",
     "output_type": "stream",
     "text": [
      "Entropy PMCC:\n(-0.38554593538110421, 0.17337973632510248)\n"
     ]
    },
    {
     "name": "stdout",
     "output_type": "stream",
     "text": [
      "(-0.48977003602533792, 0.0038156052097724821)\n"
     ]
    },
    {
     "name": "stdout",
     "output_type": "stream",
     "text": [
      "(-0.20277697139337564, 0.04198217008174978)\n(-0.093091514501827302, 0.3017991555610946)\n"
     ]
    }
   ],
   "source": [
    "print 'Entropy PMCC:'\n",
    "print pearsonr(np.log(entropy_1['Entropy'])/max(np.log(entropy_1['Entropy'])), malaria_1['MalariaPerPop']/max(malaria_1['MalariaPerPop']))\n",
    "plt.scatter(np.log(entropy_1['Entropy'])/max(np.log(entropy_1['Entropy'])), malaria_1['MalariaPerPop']/max(malaria_1['MalariaPerPop']))\n",
    "applyPlotStyle()\n",
    "plt.xlabel('Log(Entropy Adm_1)')\n",
    "plt.ylabel('Malaria Cases Per Person')\n",
    "plt.show()\n",
    "print pearsonr(np.log(entropy_2['Entropy'])/max(np.log(entropy_2['Entropy'])), malaria_2['MalariaPerPop']/max(malaria_2['MalariaPerPop']))\n",
    "plt.scatter(np.log(entropy_2['Entropy'])/max(np.log(entropy_2['Entropy'])), malaria_2['MalariaPerPop']/max(malaria_2['MalariaPerPop']))\n",
    "applyPlotStyle()\n",
    "plt.xlabel('Log(Entropy Adm_2)')\n",
    "plt.ylabel('Malaria Cases Per Person')\n",
    "plt.show()\n",
    "print pearsonr(np.log(entropy_3['Entropy'])/max(np.log(entropy_3['Entropy'])), malaria_3['MalariaPerPop']/max(malaria_3['MalariaPerPop']))\n",
    "plt.scatter(np.log(entropy_3['Entropy'])/max(np.log(entropy_3['Entropy'])), malaria_3['MalariaPerPop']/max(malaria_3['MalariaPerPop']))\n",
    "applyPlotStyle()\n",
    "plt.xlabel('Log(Entropy Adm_3)')\n",
    "plt.ylabel('Malaria Cases Per Person')\n",
    "plt.show()\n",
    "print pearsonr(np.log(entropy_4['Entropy'])/max(np.log(entropy_4['Entropy'])), malaria_4['MalariaPerPop']/max(malaria_4['MalariaPerPop']))\n",
    "plt.scatter(np.log(entropy_4['Entropy'])/max(np.log(entropy_4['Entropy'])), malaria_4['MalariaPerPop']/max(malaria_4['MalariaPerPop']))\n",
    "applyPlotStyle()\n",
    "plt.xlabel('Log(Entropy Adm_4)')\n",
    "plt.ylabel('Malaria Cases Per Person')\n",
    "plt.show()"
   ]
  },
  {
   "cell_type": "code",
   "execution_count": 36,
   "metadata": {},
   "outputs": [
    {
     "name": "stdout",
     "output_type": "stream",
     "text": [
      "Median_degree PMCC:\n(-0.36831739615117176, 0.19505689696966622)\n"
     ]
    },
    {
     "name": "stdout",
     "output_type": "stream",
     "text": [
      "(-0.46017103056806058, 0.0070476464805924281)\n"
     ]
    },
    {
     "name": "stdout",
     "output_type": "stream",
     "text": [
      "(-0.231422447644787, 0.019884401829600218)\n"
     ]
    },
    {
     "name": "stdout",
     "output_type": "stream",
     "text": [
      "(-0.041270498923244171, 0.64768726285487732)\n"
     ]
    }
   ],
   "source": [
    "print 'Median_degree PMCC:'\n",
    "print pearsonr(np.log(degree_1['Degree'])/max(np.log(degree_1['Degree'])), malaria_1['MalariaPerPop']/max(malaria_1['MalariaPerPop']))\n",
    "plt.scatter(np.log(degree_1['Degree'])/max(np.log(degree_1['Degree'])), malaria_1['MalariaPerPop']/max(malaria_1['MalariaPerPop']))\n",
    "applyPlotStyle()\n",
    "plt.xlabel('Log(Median Degree Adm_1)')\n",
    "plt.ylabel('Malaria Cases Per Person')\n",
    "plt.show()\n",
    "print pearsonr(np.log(degree_2['Degree'])/max(np.log(degree_2['Degree'])), malaria_2['MalariaPerPop']/max(malaria_2['MalariaPerPop']))\n",
    "plt.scatter(np.log(degree_2['Degree'])/max(np.log(degree_2['Degree'])), malaria_2['MalariaPerPop']/max(malaria_2['MalariaPerPop']))\n",
    "applyPlotStyle()\n",
    "plt.xlabel('Log(Median Degree Adm_2)')\n",
    "plt.ylabel('Malaria Cases Per Person')\n",
    "plt.show()\n",
    "print pearsonr(np.log(degree_3['Degree'])/max(np.log(degree_3['Degree'])), malaria_3['MalariaPerPop']/max(malaria_3['MalariaPerPop']))\n",
    "plt.scatter(np.log(degree_3['Degree'])/max(np.log(degree_3['Degree'])), malaria_3['MalariaPerPop']/max(malaria_3['MalariaPerPop']))\n",
    "applyPlotStyle()\n",
    "plt.xlabel('Log(Median Degree Adm_3)')\n",
    "plt.ylabel('Malaria Cases Per Person')\n",
    "plt.show()\n",
    "print pearsonr(np.log(degree_4['Degree'])/max(np.log(degree_4['Degree'])), malaria_4['MalariaPerPop']/max(malaria_4['MalariaPerPop']))\n",
    "plt.scatter(np.log(degree_4['Degree'])/max(np.log(degree_4['Degree'])), malaria_4['MalariaPerPop']/max(malaria_4['MalariaPerPop']))\n",
    "applyPlotStyle()\n",
    "plt.xlabel('Log(Median Degree Adm_4)')\n",
    "plt.ylabel('Malaria Cases Per Person')\n",
    "plt.show()"
   ]
  },
  {
   "cell_type": "code",
   "execution_count": 17,
   "metadata": {},
   "outputs": [
    {
     "name": "stdout",
     "output_type": "stream",
     "text": [
      "Introversion PMCC:\n(0.049153981932537331, 0.86747290303742475)\n"
     ]
    },
    {
     "name": "stdout",
     "output_type": "stream",
     "text": [
      "(-0.25906873295369331, 0.14543637834752671)\n"
     ]
    },
    {
     "name": "stdout",
     "output_type": "stream",
     "text": [
      "(-0.096982665426900663, 0.33464073261074434)\n(-0.019414519833606318, 0.82984487990726485)\n"
     ]
    }
   ],
   "source": [
    "print 'Introversion PMCC:'\n",
    "print pearsonr(np.log(introversion_1['Introversion'])/max(np.log(introversion_1['Introversion'])), malaria_1['MalariaPerPop']/max(malaria_1['MalariaPerPop']))\n",
    "plt.scatter(np.log(introversion_1['Introversion'])/max(np.log(introversion_1['Introversion'])), malaria_1['MalariaPerPop']/max(malaria_1['MalariaPerPop']))\n",
    "applyPlotStyle()\n",
    "plt.xlabel('Median Degree Adm_1')\n",
    "plt.ylabel('Malaria Cases Per Person')\n",
    "plt.show()\n",
    "print pearsonr(np.log(introversion_2['Introversion'])/max(np.log(introversion_1['Introversion'])), malaria_2['MalariaPerPop']/max(malaria_2['MalariaPerPop']))\n",
    "plt.scatter(np.log(introversion_2['Introversion'])/max(np.log(introversion_1['Introversion'])), malaria_2['MalariaPerPop']/max(malaria_2['MalariaPerPop']))\n",
    "applyPlotStyle()\n",
    "plt.xlabel('Median Degree Adm_2')\n",
    "plt.ylabel('Malaria Cases Per Person')\n",
    "plt.show()\n",
    "print pearsonr(np.log(introversion_3['Introversion'])/max(np.log(introversion_1['Introversion'])), malaria_3['MalariaPerPop']/max(malaria_3['MalariaPerPop']))\n",
    "plt.scatter(np.log(introversion_3['Introversion'])/max(np.log(introversion_1['Introversion'])), malaria_3['MalariaPerPop']/max(malaria_3['MalariaPerPop']))\n",
    "applyPlotStyle()\n",
    "plt.xlabel('Median Degree Adm_3')\n",
    "plt.ylabel('Malaria Cases Per Person')\n",
    "plt.show()\n",
    "print pearsonr(np.log(introversion_4['Introversion'])/max(np.log(introversion_1['Introversion'])), malaria_4['MalariaPerPop']/max(malaria_4['MalariaPerPop']))\n",
    "plt.scatter(np.log(introversion_4['Introversion'])/max(np.log(introversion_1['Introversion'])), malaria_4['MalariaPerPop']/max(malaria_4['MalariaPerPop']))\n",
    "applyPlotStyle()\n",
    "plt.xlabel('Median Degree Adm_4')\n",
    "plt.ylabel('Malaria Cases Per Person')\n",
    "plt.show()"
   ]
  },
  {
   "cell_type": "markdown",
   "metadata": {},
   "source": [
    ""
   ]
  },
  {
   "cell_type": "code",
   "execution_count": 23,
   "metadata": {},
   "outputs": [
    {
     "name": "stdout",
     "output_type": "stream",
     "text": [
      "Activity PMCC:\n(0.25696791453148754, 0.37514837138734447)\n"
     ]
    },
    {
     "name": "stdout",
     "output_type": "stream",
     "text": [
      "(0.072647759159746916, 0.68785354212323613)\n"
     ]
    },
    {
     "name": "stdout",
     "output_type": "stream",
     "text": [
      "(nan, 1.0)\n"
     ]
    },
    {
     "name": "stdout",
     "output_type": "stream",
     "text": [
      "(nan, 1.0)\n"
     ]
    }
   ],
   "source": [
    "print 'Activity PMCC:'\n",
    "print pearsonr(activity_1['Vol']/max(activity_1['Vol']), np.log(malaria_1['MalariaPerPop'])/min(np.log(malaria_1['MalariaPerPop'])))\n",
    "plt.scatter(activity_1['Vol']/max(activity_1['Vol']), np.log(malaria_1['MalariaPerPop'])/min(np.log(malaria_1['MalariaPerPop'])))\n",
    "applyPlotStyle()\n",
    "plt.xlabel('Activity Adm_1')\n",
    "plt.ylabel('Log(Malaria Cases Per Person)')\n",
    "plt.show()\n",
    "print pearsonr(activity_2['Vol']/max(activity_2['Vol']), np.log(malaria_2['MalariaPerPop'])/min(np.log(malaria_2['MalariaPerPop'])))\n",
    "plt.scatter(activity_2['Vol']/max(activity_2['Vol']), np.log(malaria_2['MalariaPerPop'])/min(np.log(malaria_2['MalariaPerPop'])))\n",
    "applyPlotStyle()\n",
    "plt.xlabel('Activity Adm_2')\n",
    "plt.ylabel('Log(Malaria Cases Per Person)')\n",
    "plt.show()\n",
    "print pearsonr(activity_3['Vol']/max(activity_3['Vol']), np.log(malaria_3['MalariaPerPop'])/min(np.log(malaria_3['MalariaPerPop'])))\n",
    "plt.scatter(activity_3['Vol']/max(activity_3['Vol']), np.log(malaria_3['MalariaPerPop'])/min(np.log(malaria_3['MalariaPerPop'])))\n",
    "applyPlotStyle()\n",
    "plt.xlabel('Activity Adm_3')\n",
    "plt.ylabel('Log(Malaria Cases Per Person)')\n",
    "plt.show()\n",
    "print pearsonr(activity_4['Vol']/max(activity_4['Vol']), np.log(malaria_4['MalariaPerPop'])/min(np.log(malaria_4['MalariaPerPop'])))\n",
    "plt.scatter(activity_4['Vol']/max(activity_4['Vol']), np.log(malaria_4['MalariaPerPop'])/min(np.log(malaria_4['MalariaPerPop'])))\n",
    "applyPlotStyle()\n",
    "plt.xlabel('Activity Adm_4')\n",
    "plt.ylabel('Log(Malaria Cases Per Person)')\n",
    "plt.show()"
   ]
  },
  {
   "cell_type": "code",
   "execution_count": 24,
   "metadata": {},
   "outputs": [
    {
     "name": "stdout",
     "output_type": "stream",
     "text": [
      "Entropy PMCC:\n(0.71878245344235203, 0.003772351648806422)\n"
     ]
    },
    {
     "name": "stdout",
     "output_type": "stream",
     "text": [
      "(0.71804927098820925, 2.5451212672970398e-06)\n"
     ]
    },
    {
     "name": "stdout",
     "output_type": "stream",
     "text": [
      "(nan, 1.0)\n"
     ]
    },
    {
     "name": "stdout",
     "output_type": "stream",
     "text": [
      "(nan, 1.0)\n"
     ]
    }
   ],
   "source": [
    "print 'Entropy PMCC:'\n",
    "print pearsonr(entropy_1['Entropy']/max(entropy_1['Entropy']), np.log(malaria_1['MalariaPerPop'])/min(np.log(malaria_1['MalariaPerPop'])))\n",
    "plt.scatter(entropy_1['Entropy']/max(entropy_1['Entropy']), np.log(malaria_1['MalariaPerPop'])/min(np.log(malaria_1['MalariaPerPop'])))\n",
    "applyPlotStyle()\n",
    "plt.xlabel('Entropy Adm_1')\n",
    "plt.ylabel('Log(Malaria Cases Per Person)')\n",
    "plt.show()\n",
    "print pearsonr(entropy_2['Entropy']/max(entropy_2['Entropy']), np.log(malaria_2['MalariaPerPop'])/min(np.log(malaria_2['MalariaPerPop'])))\n",
    "plt.scatter(entropy_2['Entropy']/max(entropy_2['Entropy']), np.log(malaria_2['MalariaPerPop'])/min(np.log(malaria_2['MalariaPerPop'])))\n",
    "applyPlotStyle()\n",
    "plt.xlabel('Entropy Adm_2')\n",
    "plt.ylabel('Log(Malaria Cases Per Person)')\n",
    "plt.show()\n",
    "print pearsonr(entropy_3['Entropy']/max(entropy_3['Entropy']), np.log(malaria_3['MalariaPerPop'])/min(np.log(malaria_3['MalariaPerPop'])))\n",
    "plt.scatter(entropy_3['Entropy']/max(entropy_3['Entropy']), np.log(malaria_3['MalariaPerPop'])/min(np.log(malaria_3['MalariaPerPop'])))\n",
    "applyPlotStyle()\n",
    "plt.xlabel('Entropy Adm_3')\n",
    "plt.ylabel('Log(Malaria Cases Per Person)')\n",
    "plt.show()\n",
    "print pearsonr(entropy_4['Entropy']/max(entropy_4['Entropy']), np.log(malaria_4['MalariaPerPop'])/min(np.log(malaria_4['MalariaPerPop'])))\n",
    "plt.scatter(entropy_4['Entropy']/max(entropy_4['Entropy']), np.log(malaria_4['MalariaPerPop'])/min(np.log(malaria_4['MalariaPerPop'])))\n",
    "applyPlotStyle()\n",
    "plt.xlabel('Entropy Adm_4')\n",
    "plt.ylabel('Log(Malaria Cases Per Person)')\n",
    "plt.show()"
   ]
  },
  {
   "cell_type": "code",
   "execution_count": 25,
   "metadata": {},
   "outputs": [
    {
     "name": "stdout",
     "output_type": "stream",
     "text": [
      "Median Degree PMCC:\n(0.71012585481340718, 0.0044316051760970622)\n"
     ]
    },
    {
     "name": "stdout",
     "output_type": "stream",
     "text": [
      "(0.714498545380848, 3.0057534432462201e-06)\n"
     ]
    },
    {
     "name": "stdout",
     "output_type": "stream",
     "text": [
      "(nan, 1.0)\n"
     ]
    },
    {
     "name": "stdout",
     "output_type": "stream",
     "text": [
      "(nan, 1.0)\n"
     ]
    }
   ],
   "source": [
    "print 'Median Degree PMCC:'\n",
    "print pearsonr(degree_1['Degree']/max(degree_1['Degree']), np.log(malaria_1['MalariaPerPop'])/min(np.log(malaria_1['MalariaPerPop'])))\n",
    "plt.scatter(degree_1['Degree']/max(degree_1['Degree']), np.log(malaria_1['MalariaPerPop'])/min(np.log(malaria_1['MalariaPerPop'])))\n",
    "applyPlotStyle()\n",
    "plt.xlabel('Degree Adm_1')\n",
    "plt.ylabel('Log(Malaria Cases Per Person)')\n",
    "plt.show()\n",
    "print pearsonr(degree_2['Degree']/max(degree_2['Degree']), np.log(malaria_2['MalariaPerPop'])/min(np.log(malaria_2['MalariaPerPop'])))\n",
    "plt.scatter(degree_2['Degree']/max(degree_2['Degree']), np.log(malaria_2['MalariaPerPop'])/min(np.log(malaria_2['MalariaPerPop'])))\n",
    "applyPlotStyle()\n",
    "plt.xlabel('Degree Adm_2')\n",
    "plt.ylabel('Log(Malaria Cases Per Person)')\n",
    "plt.show()\n",
    "print pearsonr(degree_3['Degree']/max(degree_3['Degree']), np.log(malaria_3['MalariaPerPop'])/min(np.log(malaria_3['MalariaPerPop'])))\n",
    "plt.scatter(degree_3['Degree']/max(degree_3['Degree']), np.log(malaria_3['MalariaPerPop'])/min(np.log(malaria_3['MalariaPerPop'])))\n",
    "applyPlotStyle()\n",
    "plt.xlabel('Degree Adm_3')\n",
    "plt.ylabel('Log(Malaria Cases Per Person)')\n",
    "plt.show()\n",
    "print pearsonr(degree_4['Degree']/max(degree_4['Degree']), np.log(malaria_4['MalariaPerPop'])/min(np.log(malaria_4['MalariaPerPop'])))\n",
    "plt.scatter(degree_4['Degree']/max(degree_4['Degree']), np.log(malaria_4['MalariaPerPop'])/min(np.log(malaria_4['MalariaPerPop'])))\n",
    "applyPlotStyle()\n",
    "plt.xlabel('Degree Adm_4')\n",
    "plt.ylabel('Log(Malaria Cases Per Person)')\n",
    "plt.show()"
   ]
  },
  {
   "cell_type": "code",
   "execution_count": 26,
   "metadata": {},
   "outputs": [
    {
     "name": "stdout",
     "output_type": "stream",
     "text": [
      "Median Introversion PMCC:\n(-0.18633096519339559, 0.52359747998134387)\n"
     ]
    },
    {
     "name": "stdout",
     "output_type": "stream",
     "text": [
      "(0.37487116711723434, 0.031593532723505423)\n"
     ]
    },
    {
     "name": "stdout",
     "output_type": "stream",
     "text": [
      "(nan, 1.0)\n(nan, 1.0)\n"
     ]
    }
   ],
   "source": [
    "print 'Introversion PMCC:'\n",
    "print pearsonr(introversion_1['Introversion']/max(introversion_1['Introversion']), np.log(malaria_1['MalariaPerPop'])/min(np.log(malaria_1['MalariaPerPop'])))\n",
    "plt.scatter(introversion_1['Introversion']/max(introversion_1['Introversion']), np.log(malaria_1['MalariaPerPop'])/min(np.log(malaria_1['MalariaPerPop'])))\n",
    "applyPlotStyle()\n",
    "plt.xlabel('Introversion Adm_1')\n",
    "plt.ylabel('Log(Malaria Cases Per Person)')\n",
    "plt.show()\n",
    "print pearsonr(introversion_2['Introversion']/max(introversion_2['Introversion']), np.log(malaria_2['MalariaPerPop'])/min(np.log(malaria_2['MalariaPerPop'])))\n",
    "plt.scatter(introversion_2['Introversion']/max(introversion_2['Introversion']), np.log(malaria_2['MalariaPerPop'])/min(np.log(malaria_2['MalariaPerPop'])))\n",
    "applyPlotStyle()\n",
    "plt.xlabel('Introversion Adm_2')\n",
    "plt.ylabel('Log(Malaria Cases Per Person)')\n",
    "plt.show()\n",
    "print pearsonr(introversion_3['Introversion']/max(introversion_3['Introversion']), np.log(malaria_3['MalariaPerPop'])/min(np.log(malaria_3['MalariaPerPop'])))\n",
    "plt.scatter(introversion_3['Introversion']/max(introversion_3['Introversion']), np.log(malaria_3['MalariaPerPop'])/min(np.log(malaria_3['MalariaPerPop'])))\n",
    "applyPlotStyle()\n",
    "plt.xlabel('Introversion Adm_3')\n",
    "plt.ylabel('Log(Malaria Cases Per Person)')\n",
    "plt.show()\n",
    "print pearsonr(introversion_4['Introversion']/max(introversion_4['Introversion']), np.log(malaria_4['MalariaPerPop'])/min(np.log(malaria_4['MalariaPerPop'])))\n",
    "plt.scatter(introversion_4['Introversion']/max(introversion_4['Introversion']), np.log(malaria_4['MalariaPerPop'])/min(np.log(malaria_4['MalariaPerPop'])))\n",
    "applyPlotStyle()\n",
    "plt.xlabel('Introversion Adm_4')\n",
    "plt.ylabel('Log(Malaria Cases Per Person)')\n",
    "plt.show()"
   ]
  },
  {
   "cell_type": "markdown",
   "metadata": {},
   "source": [
    "Log-Log transformation "
   ]
  },
  {
   "cell_type": "code",
   "execution_count": 27,
   "metadata": {},
   "outputs": [
    {
     "name": "stdout",
     "output_type": "stream",
     "text": [
      "Activity PMCC:\n(0.41963579912400961, 0.13524944537797359)\n"
     ]
    },
    {
     "name": "stdout",
     "output_type": "stream",
     "text": [
      "(0.24709115053048164, 0.16565369567899704)\n"
     ]
    },
    {
     "name": "stdout",
     "output_type": "stream",
     "text": [
      "(nan, 1.0)\n"
     ]
    },
    {
     "name": "stdout",
     "output_type": "stream",
     "text": [
      "(nan, 1.0)\n"
     ]
    }
   ],
   "source": [
    "print 'Activity PMCC:'\n",
    "print pearsonr(np.log(activity_1['Vol'])/max(np.log(activity_1['Vol'])), np.log(malaria_1['MalariaPerPop'])/min(np.log(malaria_1['MalariaPerPop'])))\n",
    "plt.scatter(np.log(activity_1['Vol'])/max(np.log(activity_1['Vol'])), np.log(malaria_1['MalariaPerPop'])/min(np.log(malaria_1['MalariaPerPop'])))\n",
    "applyPlotStyle()\n",
    "plt.xlabel('Activity Adm_1')\n",
    "plt.ylabel('Log(Malaria Cases Per Person)')\n",
    "plt.show()\n",
    "print pearsonr(np.log(activity_2['Vol'])/max(np.log(activity_2['Vol'])), np.log(malaria_2['MalariaPerPop'])/min(np.log(malaria_2['MalariaPerPop'])))\n",
    "plt.scatter(np.log(activity_2['Vol'])/max(np.log(activity_2['Vol'])), np.log(malaria_2['MalariaPerPop'])/min(np.log(malaria_2['MalariaPerPop'])))\n",
    "applyPlotStyle()\n",
    "plt.xlabel('Activity Adm_2')\n",
    "plt.ylabel('Log(Malaria Cases Per Person)')\n",
    "plt.show()\n",
    "print pearsonr(np.log(activity_3['Vol'])/max(np.log(activity_3['Vol'])), np.log(malaria_3['MalariaPerPop'])/min(np.log(malaria_3['MalariaPerPop'])))\n",
    "plt.scatter(np.log(activity_3['Vol'])/max(np.log(activity_3['Vol'])), np.log(malaria_3['MalariaPerPop'])/min(np.log(malaria_3['MalariaPerPop'])))\n",
    "applyPlotStyle()\n",
    "plt.xlabel('Activity Adm_3')\n",
    "plt.ylabel('Log(Malaria Cases Per Person)')\n",
    "plt.show()\n",
    "print pearsonr(np.log(activity_4['Vol'])/max(np.log(activity_4['Vol'])), np.log(malaria_4['MalariaPerPop'])/min(np.log(malaria_4['MalariaPerPop'])))\n",
    "plt.scatter(np.log(activity_4['Vol'])/max(np.log(activity_4['Vol'])), np.log(malaria_4['MalariaPerPop'])/min(np.log(malaria_4['MalariaPerPop'])))\n",
    "applyPlotStyle()\n",
    "plt.xlabel('Activity Adm_4')\n",
    "plt.ylabel('Log(Malaria Cases Per Person)')\n",
    "plt.show()"
   ]
  },
  {
   "cell_type": "code",
   "execution_count": 59,
   "metadata": {},
   "outputs": [
    {
     "name": "stdout",
     "output_type": "stream",
     "text": [
      "Entropy PMCC:\n(0.42153681458552972, 0.1333051538513256)\n"
     ]
    },
    {
     "name": "stdout",
     "output_type": "stream",
     "text": [
      "(0.63768346827672129, 6.5622634705414978e-05)\n"
     ]
    },
    {
     "name": "stdout",
     "output_type": "stream",
     "text": [
      "(nan, 1.0)\n"
     ]
    },
    {
     "name": "stdout",
     "output_type": "stream",
     "text": [
      "(nan, 1.0)\n"
     ]
    }
   ],
   "source": [
    "print 'Entropy PMCC:'\n",
    "print pearsonr(np.log(entropy_1['Entropy'])/max(np.log(entropy_1['Entropy'])), np.log(malaria_1['MalariaPerPop'])/min(np.log(malaria_1['MalariaPerPop'])))\n",
    "plt.scatter(np.log(entropy_1['Entropy'])/max(np.log(entropy_1['Entropy'])), np.log(malaria_1['MalariaPerPop'])/min(np.log(malaria_1['MalariaPerPop'])))\n",
    "applyPlotStyle()\n",
    "plt.xlabel('Entropy Adm_1')\n",
    "plt.ylabel('Log(Malaria Cases Per Person)')\n",
    "plt.show()\n",
    "print pearsonr(np.log(entropy_2['Entropy'])/max(np.log(entropy_2['Entropy'])), np.log(malaria_2['MalariaPerPop'])/min(np.log(malaria_2['MalariaPerPop'])))\n",
    "plt.scatter(np.log(entropy_2['Entropy'])/max(np.log(entropy_2['Entropy'])), np.log(malaria_2['MalariaPerPop'])/min(np.log(malaria_2['MalariaPerPop'])))\n",
    "applyPlotStyle()\n",
    "plt.xlabel('Entropy Adm_2')\n",
    "plt.ylabel('Log(Malaria Cases Per Person)')\n",
    "plt.show()\n",
    "print pearsonr(np.log(entropy_3['Entropy'])/max(np.log(entropy_3['Entropy'])), np.log(malaria_3['MalariaPerPop'])/min(np.log(malaria_3['MalariaPerPop'])))\n",
    "plt.scatter(np.log(entropy_3['Entropy'])/max(np.log(entropy_3['Entropy'])), np.log(malaria_3['MalariaPerPop'])/min(np.log(malaria_3['MalariaPerPop'])))\n",
    "applyPlotStyle()\n",
    "plt.xlabel('Entropy Adm_3')\n",
    "plt.ylabel('Log(Malaria Cases Per Person)')\n",
    "plt.show()\n",
    "print pearsonr(np.log(entropy_4['Entropy'])/max(np.log(entropy_4['Entropy'])), np.log(malaria_4['MalariaPerPop'])/min(np.log(malaria_4['MalariaPerPop'])))\n",
    "plt.scatter(np.log(entropy_4['Entropy'])/max(np.log(entropy_4['Entropy'])), np.log(malaria_4['MalariaPerPop'])/min(np.log(malaria_4['MalariaPerPop'])))\n",
    "applyPlotStyle()\n",
    "plt.xlabel('Entropy Adm_4')\n",
    "plt.ylabel('Log(Malaria Cases Per Person)')\n",
    "plt.show()"
   ]
  },
  {
   "cell_type": "code",
   "execution_count": 28,
   "metadata": {},
   "outputs": [
    {
     "name": "stdout",
     "output_type": "stream",
     "text": [
      "Degree PMCC:\n(0.42020567040861184, 0.13466461851947076)\n"
     ]
    },
    {
     "name": "stdout",
     "output_type": "stream",
     "text": [
      "(0.6059391849140261, 0.00018618831544909911)\n"
     ]
    },
    {
     "name": "stdout",
     "output_type": "stream",
     "text": [
      "(nan, 1.0)\n"
     ]
    },
    {
     "name": "stdout",
     "output_type": "stream",
     "text": [
      "(nan, 1.0)\n"
     ]
    }
   ],
   "source": [
    "print 'Degree PMCC:'\n",
    "print pearsonr(np.log(degree_1['Degree'])/max(np.log(degree_1['Degree'])), np.log(malaria_1['MalariaPerPop'])/min(np.log(malaria_1['MalariaPerPop'])))\n",
    "plt.scatter(np.log(degree_1['Degree'])/max(np.log(degree_1['Degree'])), np.log(malaria_1['MalariaPerPop'])/min(np.log(malaria_1['MalariaPerPop'])))\n",
    "applyPlotStyle()\n",
    "plt.xlabel('Degree Adm_1')\n",
    "plt.ylabel('Log(Malaria Cases Per Person)')\n",
    "plt.show()\n",
    "print pearsonr(np.log(degree_2['Degree'])/max(np.log(degree_2['Degree'])), np.log(malaria_2['MalariaPerPop'])/min(np.log(malaria_2['MalariaPerPop'])))\n",
    "plt.scatter(np.log(degree_2['Degree'])/max(np.log(degree_2['Degree'])), np.log(malaria_2['MalariaPerPop'])/min(np.log(malaria_2['MalariaPerPop'])))\n",
    "applyPlotStyle()\n",
    "plt.xlabel('Degree Adm_2')\n",
    "plt.ylabel('Log(Malaria Cases Per Person)')\n",
    "plt.show()\n",
    "print pearsonr(np.log(degree_3['Degree'])/max(np.log(degree_3['Degree'])), np.log(malaria_3['MalariaPerPop'])/min(np.log(malaria_3['MalariaPerPop'])))\n",
    "plt.scatter(np.log(degree_3['Degree'])/max(np.log(degree_3['Degree'])), np.log(malaria_3['MalariaPerPop'])/min(np.log(malaria_3['MalariaPerPop'])))\n",
    "applyPlotStyle()\n",
    "plt.xlabel('Degree Adm_3')\n",
    "plt.ylabel('Log(Malaria Cases Per Person)')\n",
    "plt.show()\n",
    "print pearsonr(np.log(degree_4['Degree'])/max(np.log(degree_4['Degree'])), np.log(malaria_4['MalariaPerPop'])/min(np.log(malaria_4['MalariaPerPop'])))\n",
    "plt.scatter(np.log(degree_4['Degree'])/max(np.log(degree_4['Degree'])), np.log(malaria_4['MalariaPerPop'])/min(np.log(malaria_4['MalariaPerPop'])))\n",
    "applyPlotStyle()\n",
    "plt.xlabel('Degree Adm_4')\n",
    "plt.ylabel('Log(Malaria Cases Per Person)')\n",
    "plt.show()"
   ]
  },
  {
   "cell_type": "code",
   "execution_count": 30,
   "metadata": {},
   "outputs": [
    {
     "name": "stdout",
     "output_type": "stream",
     "text": [
      "Introversion PMCC:\n(-0.25437910614447956, 0.38014634136979469)\n"
     ]
    },
    {
     "name": "stdout",
     "output_type": "stream",
     "text": [
      "(0.26319088138989205, 0.13891247985512747)\n"
     ]
    },
    {
     "name": "stdout",
     "output_type": "stream",
     "text": [
      "(nan, 1.0)\n"
     ]
    },
    {
     "name": "stdout",
     "output_type": "stream",
     "text": [
      "(nan, 1.0)\n"
     ]
    }
   ],
   "source": [
    "print 'Introversion PMCC:'\n",
    "print pearsonr(np.log(introversion_1['Introversion'])/max(np.log(introversion_1['Introversion'])), np.log(malaria_1['MalariaPerPop'])/min(np.log(malaria_1['MalariaPerPop'])))\n",
    "plt.scatter(np.log(introversion_1['Introversion'])/max(np.log(introversion_1['Introversion'])), np.log(malaria_1['MalariaPerPop'])/min(np.log(malaria_1['MalariaPerPop'])))\n",
    "applyPlotStyle()\n",
    "plt.xlabel('Introversion Adm_1')\n",
    "plt.ylabel('Log(Malaria Cases Per Person)')\n",
    "plt.show()\n",
    "print pearsonr(np.log(introversion_2['Introversion'])/max(np.log(introversion_2['Introversion'])), np.log(malaria_2['MalariaPerPop'])/min(np.log(malaria_2['MalariaPerPop'])))\n",
    "plt.scatter(np.log(introversion_2['Introversion'])/max(np.log(introversion_2['Introversion'])), np.log(malaria_2['MalariaPerPop'])/min(np.log(malaria_2['MalariaPerPop'])))\n",
    "applyPlotStyle()\n",
    "plt.xlabel('Introversion Adm_2')\n",
    "plt.ylabel('Log(Malaria Cases Per Person)')\n",
    "plt.show()\n",
    "print pearsonr(np.log(introversion_3['Introversion'])/max(np.log(introversion_3['Introversion'])), np.log(malaria_3['MalariaPerPop'])/min(np.log(malaria_3['MalariaPerPop'])))\n",
    "plt.scatter(np.log(introversion_3['Introversion'])/max(np.log(introversion_3['Introversion'])), np.log(malaria_3['MalariaPerPop'])/min(np.log(malaria_3['MalariaPerPop'])))\n",
    "applyPlotStyle()\n",
    "plt.xlabel('Introversion Adm_3')\n",
    "plt.ylabel('Log(Malaria Cases Per Person)')\n",
    "plt.show()\n",
    "print pearsonr(np.log(introversion_4['Introversion'])/max(np.log(introversion_4['Introversion'])), np.log(malaria_4['MalariaPerPop'])/min(np.log(malaria_4['MalariaPerPop'])))\n",
    "plt.scatter(np.log(introversion_4['Introversion'])/max(np.log(introversion_4['Introversion'])), np.log(malaria_4['MalariaPerPop'])/min(np.log(malaria_4['MalariaPerPop'])))\n",
    "applyPlotStyle()\n",
    "plt.xlabel('Introversion Adm_4')\n",
    "plt.ylabel('Log(Malaria Cases Per Person)')\n",
    "plt.show()"
   ]
  },
  {
   "cell_type": "code",
   "execution_count": null,
   "metadata": {},
   "outputs": [],
   "source": [
    ""
   ]
  }
 ],
 "metadata": {
  "kernelspec": {
   "display_name": "Python 2",
   "language": "python",
   "name": "python2"
  },
  "language_info": {
   "codemirror_mode": {
    "name": "ipython",
    "version": 2.0
   },
   "file_extension": ".py",
   "mimetype": "text/x-python",
   "name": "python",
   "nbconvert_exporter": "python",
   "pygments_lexer": "ipython2",
   "version": "2.7.6"
  }
 },
 "nbformat": 4,
 "nbformat_minor": 0
}