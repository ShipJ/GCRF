{
 "cells": [
  {
   "cell_type": "code",
   "execution_count": 2,
   "metadata": {
    "collapsed": true
   },
   "outputs": [],
   "source": [
    "import pandas as pd\n",
    "import numpy as np\n",
    "import matplotlib.pyplot as plt\n",
    "import sys\n",
    "from src.config import config\n",
    "from scipy.stats import pearsonr"
   ]
  },
  {
   "cell_type": "code",
   "execution_count": 7,
   "metadata": {},
   "outputs": [],
   "source": [
    "cdr_dhs_other = pd.DataFrame(pd.read_csv('data/processed/civ/correlation/master_cdr_dhs_other.csv'))\n",
    "urb = np.where(np.array(cdr_dhs_other['UrbRur']) == 'Urban')\n",
    "cap = np.where(np.array(cdr_dhs_other['Capital']) == 'True')"
   ]
  },
  {
   "cell_type": "code",
   "execution_count": 8,
   "metadata": {},
   "outputs": [
    {
     "ename": "KeyError",
     "evalue": "\"Columns not found: 'Vol_in', 'Dur_in', 'Vol', 'Dur', 'Dur_out', 'Vol_out'\"",
     "traceback": [
      "\u001b[0;31m\u001b[0m",
      "\u001b[0;31mKeyError\u001b[0mTraceback (most recent call last)",
      "\u001b[0;32m<ipython-input-8-4a06e53cdd2a>\u001b[0m in \u001b[0;36m<module>\u001b[0;34m()\u001b[0m\n\u001b[1;32m      2\u001b[0m \u001b[0;32mfor\u001b[0m \u001b[0mi\u001b[0m \u001b[0;32min\u001b[0m \u001b[0;34m[\u001b[0m\u001b[0;34m'Adm_4'\u001b[0m\u001b[0;34m]\u001b[0m\u001b[0;34m:\u001b[0m\u001b[0;34m\u001b[0m\u001b[0m\n\u001b[1;32m      3\u001b[0m     cdr_sum = cdr_dhs_other.groupby(i)['Vol', 'Vol_in', 'Vol_out',\n\u001b[0;32m----> 4\u001b[0;31m                                        'Dur', 'Dur_in', 'Dur_out'].sum().reset_index()\n\u001b[0m\u001b[1;32m      5\u001b[0m     cdr_mean = cdr_dhs_other.groupby(i)['Entropy', 'Med_degree',\n\u001b[1;32m      6\u001b[0m                                         'Pagerank', 'Introversion'].median().reset_index()\n",
      "\u001b[0;32m/Library/Python/2.7/site-packages/pandas/core/groupby.pyc\u001b[0m in \u001b[0;36m__getitem__\u001b[0;34m(self, key)\u001b[0m\n\u001b[1;32m   3472\u001b[0m                 \u001b[0mbad_keys\u001b[0m \u001b[0;34m=\u001b[0m \u001b[0mlist\u001b[0m\u001b[0;34m(\u001b[0m\u001b[0mset\u001b[0m\u001b[0;34m(\u001b[0m\u001b[0mkey\u001b[0m\u001b[0;34m)\u001b[0m\u001b[0;34m.\u001b[0m\u001b[0mdifference\u001b[0m\u001b[0;34m(\u001b[0m\u001b[0mself\u001b[0m\u001b[0;34m.\u001b[0m\u001b[0mobj\u001b[0m\u001b[0;34m.\u001b[0m\u001b[0mcolumns\u001b[0m\u001b[0;34m)\u001b[0m\u001b[0;34m)\u001b[0m\u001b[0;34m\u001b[0m\u001b[0m\n\u001b[1;32m   3473\u001b[0m                 raise KeyError(\"Columns not found: %s\"\n\u001b[0;32m-> 3474\u001b[0;31m                                % str(bad_keys)[1:-1])\n\u001b[0m\u001b[1;32m   3475\u001b[0m             return DataFrameGroupBy(self.obj, self.grouper, selection=key,\n\u001b[1;32m   3476\u001b[0m                                     \u001b[0mgrouper\u001b[0m\u001b[0;34m=\u001b[0m\u001b[0mself\u001b[0m\u001b[0;34m.\u001b[0m\u001b[0mgrouper\u001b[0m\u001b[0;34m,\u001b[0m\u001b[0;34m\u001b[0m\u001b[0m\n",
      "\u001b[0;31mKeyError\u001b[0m: \"Columns not found: 'Vol_in', 'Dur_in', 'Vol', 'Dur', 'Dur_out', 'Vol_out'\""
     ],
     "output_type": "error"
    }
   ],
   "source": [
    "# For each Administrative level\n",
    "for i in ['Adm_4']:\n",
    "    cdr_sum = cdr_dhs_other.groupby(i)['Vol', 'Vol_in', 'Vol_out',\n",
    "                                       'Dur', 'Dur_in', 'Dur_out'].sum().reset_index()\n",
    "    cdr_mean = cdr_dhs_other.groupby(i)['Entropy', 'Med_degree',\n",
    "                                        'Pagerank', 'Introversion'].median().reset_index()\n",
    "    cdr = cdr_sum.merge(cdr_mean, on=i)\n",
    "    dhs = cdr_dhs_other.groupby(i)['BloodPosRate', 'RapidPosRate', 'DeathRate',\n",
    "                                   'HIVPosRate', 'HealthAccessDifficulty'].mean().reset_index()\n",
    "    data = cdr.merge(dhs, on=i)\n",
    "    print data\n",
    "    sys.exit()\n",
    "    for j in ['Vol', 'Vol_in', 'Vol_out', 'Entropy',\n",
    "              'Med_degree', 'Pagerank', 'Introversion']:\n",
    "        for k in ['BloodPosRate', 'RapidPosRate', 'DeathRate',\n",
    "                  'HIVPosRate', 'HealthAccessDifficulty']:\n",
    "            a = np.array(data[j])\n",
    "            b = np.array(data[k])\n",
    "            outliers = np.where(a > 0)\n",
    "            a = a[outliers]\n",
    "            b = b[outliers]\n",
    "            outliers2 = np.where(b > 0)\n",
    "            a = a[outliers2]\n",
    "            b = b[outliers2]\n",
    "            \n",
    "            print i, j, k\n",
    "\n",
    "            print pearsonr(a, b)\n",
    "            plt.scatter(a, b)\n",
    "            plt.show()\n",
    "            print pearsonr(a, b)\n",
    "            plt.scatter(np.log(a), np.log(b))\n",
    "            plt.show()"
   ]
  },
  {
   "cell_type": "code",
   "execution_count": null,
   "metadata": {},
   "outputs": [],
   "source": [
    ""
   ]
  }
 ],
 "metadata": {
  "kernelspec": {
   "display_name": "Python 2",
   "language": "python",
   "name": "python2"
  },
  "language_info": {
   "codemirror_mode": {
    "name": "ipython",
    "version": 2.0
   },
   "file_extension": ".py",
   "mimetype": "text/x-python",
   "name": "python",
   "nbconvert_exporter": "python",
   "pygments_lexer": "ipython2",
   "version": "2.7.6"
  }
 },
 "nbformat": 4,
 "nbformat_minor": 0
}