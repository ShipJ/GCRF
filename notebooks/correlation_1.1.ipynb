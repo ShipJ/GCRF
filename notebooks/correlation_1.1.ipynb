{
 "cells": [
  {
   "cell_type": "code",
   "execution_count": 21,
   "metadata": {
    "collapsed": true
   },
   "outputs": [],
   "source": [
    "import pandas as pd\n",
    "import numpy as np\n",
    "import matplotlib.pyplot as plt\n",
    "import sys\n",
    "from src.config import config\n",
    "from scipy.stats import pearsonr"
   ]
  },
  {
   "cell_type": "code",
   "execution_count": 22,
   "metadata": {},
   "outputs": [],
   "source": [
    "cdr_dhs_other = pd.DataFrame(pd.read_csv('data/processed/civ/correlation/master_cdr_dhs_other.csv'))\n",
    "urb = cdr_dhs_other[cdr_dhs_other['Z_Med'] >= np.median(cdr_dhs_other['Z_Med'])]\n",
    "rur = cdr_dhs_other[cdr_dhs_other['Z_Med'] < np.median(cdr_dhs_other['Z_Med'])]"
   ]
  },
  {
   "cell_type": "code",
   "execution_count": 23,
   "metadata": {},
   "outputs": [
    {
     "name": "stdout",
     "output_type": "stream",
     "text": [
      "Adm_4 Vol BloodPosRate\n(-0.1692980667117315, 0.34626090084321393)\n"
     ]
    },
    {
     "name": "stdout",
     "output_type": "stream",
     "text": [
      "(-0.1692980667117315, 0.34626090084321393)\n"
     ]
    },
    {
     "name": "stdout",
     "output_type": "stream",
     "text": [
      "Adm_4 Vol RapidPosRate\n(-0.13493310736358183, 0.40646125912257081)\n"
     ]
    },
    {
     "name": "stdout",
     "output_type": "stream",
     "text": [
      "(-0.13493310736358183, 0.40646125912257081)\n"
     ]
    },
    {
     "name": "stdout",
     "output_type": "stream",
     "text": [
      "Adm_4 Vol DeathRate\n(-0.13023638782073332, 0.39944226881198575)\n"
     ]
    },
    {
     "name": "stdout",
     "output_type": "stream",
     "text": [
      "(-0.13023638782073332, 0.39944226881198575)\n"
     ]
    },
    {
     "name": "stdout",
     "output_type": "stream",
     "text": [
      "Adm_4 Vol HIVPosRate\n(-0.030561182674499952, 0.86812506837382397)\n"
     ]
    },
    {
     "name": "stdout",
     "output_type": "stream",
     "text": [
      "(-0.030561182674499952, 0.86812506837382397)\n"
     ]
    },
    {
     "name": "stdout",
     "output_type": "stream",
     "text": [
      "Adm_4 Vol HealthAccessDifficulty\n(-0.080162543220372376, 0.60497186898705746)\n"
     ]
    },
    {
     "name": "stdout",
     "output_type": "stream",
     "text": [
      "(-0.080162543220372376, 0.60497186898705746)\n"
     ]
    },
    {
     "name": "stdout",
     "output_type": "stream",
     "text": [
      "Adm_4 Vol_in BloodPosRate\n(-0.16859246771347608, 0.34830415409578919)\n"
     ]
    },
    {
     "name": "stdout",
     "output_type": "stream",
     "text": [
      "(-0.16859246771347608, 0.34830415409578919)\n"
     ]
    },
    {
     "name": "stdout",
     "output_type": "stream",
     "text": [
      "Adm_4 Vol_in RapidPosRate\n(-0.13531395224172685, 0.40512567017118484)\n"
     ]
    },
    {
     "name": "stdout",
     "output_type": "stream",
     "text": [
      "(-0.13531395224172685, 0.40512567017118484)\n"
     ]
    },
    {
     "name": "stdout",
     "output_type": "stream",
     "text": [
      "Adm_4 Vol_in DeathRate\n(-0.13108632514761401, 0.39634629503712593)\n"
     ]
    },
    {
     "name": "stdout",
     "output_type": "stream",
     "text": [
      "(-0.13108632514761401, 0.39634629503712593)\n"
     ]
    },
    {
     "name": "stdout",
     "output_type": "stream",
     "text": [
      "Adm_4 Vol_in HIVPosRate\n(-0.031269584376254128, 0.86509573086348723)\n"
     ]
    },
    {
     "name": "stdout",
     "output_type": "stream",
     "text": [
      "(-0.031269584376254128, 0.86509573086348723)\n"
     ]
    },
    {
     "name": "stdout",
     "output_type": "stream",
     "text": [
      "Adm_4 Vol_in HealthAccessDifficulty\n(-0.080838795600288851, 0.60191963675598092)\n"
     ]
    },
    {
     "name": "stdout",
     "output_type": "stream",
     "text": [
      "(-0.080838795600288851, 0.60191963675598092)\n"
     ]
    },
    {
     "name": "stdout",
     "output_type": "stream",
     "text": [
      "Adm_4 Vol_out BloodPosRate\n(-0.17017156406958295, 0.34374152951873882)\n"
     ]
    },
    {
     "name": "stdout",
     "output_type": "stream",
     "text": [
      "(-0.17017156406958295, 0.34374152951873882)\n"
     ]
    },
    {
     "name": "stdout",
     "output_type": "stream",
     "text": [
      "Adm_4 Vol_out RapidPosRate\n(-0.1348209225726954, 0.40685516157529988)\n"
     ]
    },
    {
     "name": "stdout",
     "output_type": "stream",
     "text": [
      "(-0.1348209225726954, 0.40685516157529988)\n"
     ]
    },
    {
     "name": "stdout",
     "output_type": "stream",
     "text": [
      "Adm_4 Vol_out DeathRate\n(-0.1306947370523083, 0.39777095196103196)\n"
     ]
    },
    {
     "name": "stdout",
     "output_type": "stream",
     "text": [
      "(-0.1306947370523083, 0.39777095196103196)\n"
     ]
    },
    {
     "name": "stdout",
     "output_type": "stream",
     "text": [
      "Adm_4 Vol_out HIVPosRate"
     ]
    },
    {
     "name": "stdout",
     "output_type": "stream",
     "text": [
      "\n(-0.031242004376691709, 0.86521363628270964)\n(-0.031242004376691709, 0.86521363628270964)\nAdm_4 Vol_out HealthAccessDifficulty\n(-0.080596789356419923, 0.60301115129699567)\n"
     ]
    },
    {
     "name": "stdout",
     "output_type": "stream",
     "text": [
      "(-0.080596789356419923, 0.60301115129699567)\n"
     ]
    },
    {
     "name": "stdout",
     "output_type": "stream",
     "text": [
      "Adm_4 Entropy BloodPosRate\n(-0.22145191968763719, 0.21551583032843744)\n"
     ]
    },
    {
     "name": "stdout",
     "output_type": "stream",
     "text": [
      "(-0.22145191968763719, 0.21551583032843744)\n"
     ]
    },
    {
     "name": "stdout",
     "output_type": "stream",
     "text": [
      "Adm_4 Entropy RapidPosRate\n(-0.3079814064666076, 0.053191295723009367)\n"
     ]
    },
    {
     "name": "stdout",
     "output_type": "stream",
     "text": [
      "(-0.3079814064666076, 0.053191295723009367)\n"
     ]
    },
    {
     "name": "stdout",
     "output_type": "stream",
     "text": [
      "Adm_4 Entropy DeathRate\n(-0.12209765378393332, 0.42979114931467466)\n"
     ]
    },
    {
     "name": "stdout",
     "output_type": "stream",
     "text": [
      "(-0.12209765378393332, 0.42979114931467466)\n"
     ]
    },
    {
     "name": "stdout",
     "output_type": "stream",
     "text": [
      "Adm_4 Entropy HIVPosRate\n(0.06158552833367411, 0.73774745598268843)\n"
     ]
    },
    {
     "name": "stdout",
     "output_type": "stream",
     "text": [
      "(0.06158552833367411, 0.73774745598268843)\n"
     ]
    },
    {
     "name": "stdout",
     "output_type": "stream",
     "text": [
      "Adm_4 Entropy HealthAccessDifficulty\n(-0.28045722725542266, 0.06518485290466193)\n"
     ]
    },
    {
     "name": "stdout",
     "output_type": "stream",
     "text": [
      "(-0.28045722725542266, 0.06518485290466193)\n"
     ]
    },
    {
     "name": "stdout",
     "output_type": "stream",
     "text": [
      "Adm_4 Med_degree BloodPosRate\n(-0.23179091018322692, 0.19430227313158996)\n"
     ]
    },
    {
     "name": "stdout",
     "output_type": "stream",
     "text": [
      "(-0.23179091018322692, 0.19430227313158996)\n"
     ]
    },
    {
     "name": "stdout",
     "output_type": "stream",
     "text": [
      "Adm_4 Med_degree RapidPosRate\n(-0.28537754751270233, 0.074264742137524403)\n"
     ]
    },
    {
     "name": "stdout",
     "output_type": "stream",
     "text": [
      "(-0.28537754751270233, 0.074264742137524403)\n"
     ]
    },
    {
     "name": "stdout",
     "output_type": "stream",
     "text": [
      "Adm_4 Med_degree DeathRate\n(-0.13005883749848174, 0.40009077773409141)\n"
     ]
    },
    {
     "name": "stdout",
     "output_type": "stream",
     "text": [
      "(-0.13005883749848174, 0.40009077773409141)\n"
     ]
    },
    {
     "name": "stdout",
     "output_type": "stream",
     "text": [
      "Adm_4 Med_degree HIVPosRate\n(-0.0011026746849316727, 0.99522110842273459)\n"
     ]
    },
    {
     "name": "stdout",
     "output_type": "stream",
     "text": [
      "(-0.0011026746849316727, 0.99522110842273459)\n"
     ]
    },
    {
     "name": "stdout",
     "output_type": "stream",
     "text": [
      "Adm_4 Med_degree HealthAccessDifficulty\n(-0.23256324063800274, 0.12872350432621274)\n"
     ]
    },
    {
     "name": "stdout",
     "output_type": "stream",
     "text": [
      "(-0.23256324063800274, 0.12872350432621274)\n"
     ]
    },
    {
     "name": "stdout",
     "output_type": "stream",
     "text": [
      "Adm_4 Pagerank BloodPosRate\n(-0.12493264072739409, 0.48847758047018841)\n"
     ]
    },
    {
     "name": "stdout",
     "output_type": "stream",
     "text": [
      "(-0.12493264072739409, 0.48847758047018841)\n"
     ]
    },
    {
     "name": "stdout",
     "output_type": "stream",
     "text": [
      "Adm_4 Pagerank RapidPosRate\n(-0.23046817943420822, 0.15250743916796605)\n"
     ]
    },
    {
     "name": "stdout",
     "output_type": "stream",
     "text": [
      "(-0.23046817943420822, 0.15250743916796605)\n"
     ]
    },
    {
     "name": "stdout",
     "output_type": "stream",
     "text": [
      "Adm_4 Pagerank DeathRate\n(-0.12396720645976428, 0.4227078902448046)\n"
     ]
    },
    {
     "name": "stdout",
     "output_type": "stream",
     "text": [
      "(-0.12396720645976428, 0.4227078902448046)\n"
     ]
    },
    {
     "name": "stdout",
     "output_type": "stream",
     "text": [
      "Adm_4 Pagerank HIVPosRate\n(-0.046463904162772816, 0.80064034042399612)\n"
     ]
    },
    {
     "name": "stdout",
     "output_type": "stream",
     "text": [
      "(-0.046463904162772816, 0.80064034042399612)\n"
     ]
    },
    {
     "name": "stdout",
     "output_type": "stream",
     "text": [
      "Adm_4 Pagerank HealthAccessDifficulty\n(-0.15544966711948288, 0.31364963151500419)\n"
     ]
    },
    {
     "name": "stdout",
     "output_type": "stream",
     "text": [
      "(-0.15544966711948288, 0.31364963151500419)\n"
     ]
    },
    {
     "name": "stdout",
     "output_type": "stream",
     "text": [
      "Adm_4 Introversion BloodPosRate\n(-0.0020290515364464034, 0.99105864009859956)\n"
     ]
    },
    {
     "name": "stdout",
     "output_type": "stream",
     "text": [
      "(-0.0020290515364464034, 0.99105864009859956)\n"
     ]
    },
    {
     "name": "stdout",
     "output_type": "stream",
     "text": [
      "Adm_4 Introversion RapidPosRate\n(-0.0013738677422020144, 0.99328702550756787)\n"
     ]
    },
    {
     "name": "stdout",
     "output_type": "stream",
     "text": [
      "(-0.0013738677422020144, 0.99328702550756787)\n"
     ]
    },
    {
     "name": "stdout",
     "output_type": "stream",
     "text": [
      "Adm_4 Introversion DeathRate\n(0.23222887094170996, 0.12928968732201251)\n"
     ]
    },
    {
     "name": "stdout",
     "output_type": "stream",
     "text": [
      "(0.23222887094170996, 0.12928968732201251)\n"
     ]
    },
    {
     "name": "stdout",
     "output_type": "stream",
     "text": [
      "Adm_4 Introversion HIVPosRate\n(0.018127693268027857, 0.92155611011172456)\n"
     ]
    },
    {
     "name": "stdout",
     "output_type": "stream",
     "text": [
      "(0.018127693268027857, 0.92155611011172456)\n"
     ]
    },
    {
     "name": "stdout",
     "output_type": "stream",
     "text": [
      "Adm_4 Introversion HealthAccessDifficulty\n(-0.11121214807668099, 0.47232891851189129)\n"
     ]
    },
    {
     "name": "stdout",
     "output_type": "stream",
     "text": [
      "(-0.11121214807668099, 0.47232891851189129)\n"
     ]
    }
   ],
   "source": [
    "# For each Administrative level\n",
    "for i in ['Adm_4']:\n",
    "    cdr_sum_urb = urb.groupby(i)['Vol', 'Vol_in', 'Vol_out',\n",
    "                                       'Dur', 'Dur_in', 'Dur_out'].sum().reset_index()\n",
    "    cdr_mean_urb = urb.groupby(i)['Entropy', 'Med_degree',\n",
    "                                        'Pagerank', 'Introversion'].median().reset_index()\n",
    "    cdr_urb = cdr_sum_urb.merge(cdr_mean_urb, on=i)\n",
    "    dhs_urb = urb.groupby(i)['BloodPosRate', 'RapidPosRate', 'DeathRate',\n",
    "                                   'HIVPosRate', 'HealthAccessDifficulty'].mean().reset_index()\n",
    "    data_urb = cdr_urb.merge(dhs_urb, on=i)\n",
    "    \n",
    "    cdr_sum_rur = rur.groupby(i)['Vol', 'Vol_in', 'Vol_out',\n",
    "                                       'Dur', 'Dur_in', 'Dur_out'].sum().reset_index()\n",
    "    cdr_mean_rur = rur.groupby(i)['Entropy', 'Med_degree',\n",
    "                                        'Pagerank', 'Introversion'].median().reset_index()\n",
    "    cdr_rur = cdr_sum_rur.merge(cdr_mean_rur, on=i)\n",
    "    dhs_rur = rur.groupby(i)['BloodPosRate', 'RapidPosRate', 'DeathRate',\n",
    "                                   'HIVPosRate', 'HealthAccessDifficulty'].mean().reset_index()\n",
    "    data_rur = cdr_rur.merge(dhs_rur, on=i)\n",
    "    \n",
    "\n",
    "    for j in ['Vol', 'Vol_in', 'Vol_out', 'Entropy',\n",
    "              'Med_degree', 'Pagerank', 'Introversion']:\n",
    "        for k in ['BloodPosRate', 'RapidPosRate', 'DeathRate',\n",
    "                  'HIVPosRate', 'HealthAccessDifficulty']:\n",
    "            a = np.array(data_urb[j])\n",
    "            b = np.array(data_urb[k])\n",
    "            outliers = np.where(a > 0)\n",
    "            a = a[outliers]\n",
    "            b = b[outliers]\n",
    "            outliers2 = np.where(b > 0)\n",
    "            a = a[outliers2]\n",
    "            b = b[outliers2]\n",
    "\n",
    "            c = np.array(data_rur[j])\n",
    "            d = np.array(data_rur[k])\n",
    "            outliers3 = np.where(c > 0)\n",
    "            c = c[outliers3]\n",
    "            d = d[outliers3]\n",
    "            outliers4 = np.where(d > 0)\n",
    "            c = c[outliers4]\n",
    "            d = d[outliers4]\n",
    "            \n",
    "            print i, j, k\n",
    "\n",
    "            print pearsonr(a, b)\n",
    "            plt.scatter(a, b)\n",
    "            # plt.scatter(c, d, c='r')\n",
    "            plt.show()\n",
    "            print pearsonr(a, b)\n",
    "            plt.scatter(np.log(a), b)\n",
    "            # plt.scatter(np.log(c), np.log(d), c='r')\n",
    "            plt.show()"
   ]
  },
  {
   "cell_type": "code",
   "execution_count": 23,
   "metadata": {},
   "outputs": [],
   "source": [
    ""
   ]
  },
  {
   "cell_type": "code",
   "execution_count": null,
   "metadata": {},
   "outputs": [],
   "source": [
    ""
   ]
  }
 ],
 "metadata": {
  "kernelspec": {
   "display_name": "Python 2",
   "language": "python",
   "name": "python2"
  },
  "language_info": {
   "codemirror_mode": {
    "name": "ipython",
    "version": 2.0
   },
   "file_extension": ".py",
   "mimetype": "text/x-python",
   "name": "python",
   "nbconvert_exporter": "python",
   "pygments_lexer": "ipython2",
   "version": "2.7.6"
  }
 },
 "nbformat": 4,
 "nbformat_minor": 0
}