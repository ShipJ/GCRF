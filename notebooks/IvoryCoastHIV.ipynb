{
 "cells": [
  {
   "cell_type": "code",
   "execution_count": 2,
   "metadata": {
    "collapsed": true
   },
   "outputs": [],
   "source": [
    "import pandas as pd\n",
    "import numpy as np\n",
    "from scipy.stats.stats import pearsonr\n",
    "import matplotlib.pyplot as plt\n",
    "plt.rcParams['figure.facecolor'] = 'w'\n",
    "plt.rcParams['axes.grid'] = True\n",
    "plt.rcParams['figure.figsize'] = 9.5,9.5\n",
    "def applyPlotStyle():\n",
    "    plt.xlim([0,1])\n",
    "    plt.ylim([0,1])\n",
    "\n",
    "\n",
    "\n",
    "cdr_path = '/Users/JackShipway/Desktop/UCLProject/Data/IvoryCoast/CDR/StaticMetrics'\n",
    "dhs_path = '/Users/JackShipway/Desktop/UCLProject/Data/IvoryCoast/DHS/Metrics'\n",
    "pop_path = '/Users/JackShipway/Desktop/UCLProject/Data/IvoryCoast/Population'"
   ]
  },
  {
   "cell_type": "code",
   "execution_count": 3,
   "metadata": {},
   "outputs": [],
   "source": [
    "''' DHS Data '''\n",
    "dhs = pd.DataFrame(pd.read_csv(dhs_path+'/DHSData.csv'))\n",
    "hiv_1 = dhs.groupby('Adm_1')['HIV_rate'].mean().reset_index()\n",
    "hiv_2 = dhs.groupby('Adm_2')['HIV_rate'].mean().reset_index()\n",
    "hiv_3 = dhs.groupby('Adm_3')['HIV_rate'].mean().reset_index()\n",
    "hiv_4 = dhs.groupby('Adm_4')['HIV_rate'].mean().reset_index()\n",
    "child_mort_1 = dhs.groupby('Adm_1')['one2Six'].mean().reset_index()\n",
    "child_mort_2 = dhs.groupby('Adm_2')['one2Six'].mean().reset_index()\n",
    "child_mort_3 = dhs.groupby('Adm_3')['one2Six'].mean().reset_index()\n",
    "child_mort_4 = dhs.groupby('Adm_4')['one2Six'].mean().reset_index()\n",
    "\n",
    "''' CDR Data '''\n",
    "# Activity\n",
    "activity_1 = pd.DataFrame(pd.read_csv(cdr_path+'/Activity/activity_adm1.csv'))\n",
    "activity_2 = pd.DataFrame(pd.read_csv(cdr_path+'/Activity/activity_adm2.csv'))\n",
    "activity_3 = pd.DataFrame(pd.read_csv(cdr_path+'/Activity/activity_adm3.csv'))\n",
    "activity_4 = pd.DataFrame(pd.read_csv(cdr_path+'/Activity/activity_adm4.csv'))\n",
    "# Entropy\n",
    "entropy_1 = pd.DataFrame(pd.read_csv(cdr_path+'/Entropy/entropy_adm1.csv'))\n",
    "entropy_2 = pd.DataFrame(pd.read_csv(cdr_path+'/Entropy/entropy_adm2.csv'))\n",
    "entropy_3 = pd.DataFrame(pd.read_csv(cdr_path+'/Entropy/entropy_adm3.csv'))\n",
    "entropy_4 = pd.DataFrame(pd.read_csv(cdr_path+'/Entropy/entropy_adm4.csv'))\n",
    "# Median Degree\n",
    "degree_1 = pd.DataFrame(pd.read_csv(cdr_path+'/MedianDegree/Degree/total_deg_adm1.csv'))\n",
    "degree_2 = pd.DataFrame(pd.read_csv(cdr_path+'/MedianDegree/Degree/total_deg_adm2.csv'))\n",
    "degree_3 = pd.DataFrame(pd.read_csv(cdr_path+'/MedianDegree/Degree/total_deg_adm3.csv'))\n",
    "degree_4 = pd.DataFrame(pd.read_csv(cdr_path+'/MedianDegree/Degree/total_deg_adm4.csv'))\n",
    "# Introversion\n",
    "introversion_1 = pd.DataFrame(pd.read_csv(cdr_path+'/Introversion/introversion_adm1.csv'))\n",
    "introversion_2 = pd.DataFrame(pd.read_csv(cdr_path+'/Introversion/introversion_adm2.csv'))\n",
    "introversion_3 = pd.DataFrame(pd.read_csv(cdr_path+'/Introversion/introversion_adm3.csv'))\n",
    "introversion_4 = pd.DataFrame(pd.read_csv(cdr_path+'/Introversion/introversion_adm4.csv'))\n",
    "\n",
    "''' Population Data '''\n",
    "pop = pd.DataFrame(pd.read_csv(pop_path+'/DHS_pop_Adm_1234.csv'))\n",
    "\n",
    "# At level 3 and 4, there are a small number of missing data points, so we remove them\n",
    "for i in np.setdiff1d(activity_3['Adm_3'], hiv_3['Adm_3']):\n",
    "    activity_3 = activity_3[activity_3['Adm_3'] != i]\n",
    "    entropy_3 = entropy_3[entropy_3['Adm_3'] != i]\n",
    "    introversion_3 = introversion_3[introversion_3['Adm_3'] != i]\n",
    "    degree_3 = degree_3[degree_3['Adm_3'] != i]\n",
    "    \n",
    "for j in np.setdiff1d(activity_4['Adm_4'], hiv_4['Adm_4']):\n",
    "    activity_4 = activity_4[activity_4['Adm_4'] != j]\n",
    "    entropy_4 = entropy_4[entropy_4['Adm_4'] != j]\n",
    "    introversion_4 = introversion_4[introversion_4['Adm_4'] != j]\n",
    "    degree_4 = degree_4[degree_4['Adm_4'] != j]\n",
    "for k in np.setdiff1d(hiv_4['Adm_4'], activity_4['Adm_4']):\n",
    "    hiv_4 = hiv_4[hiv_4['Adm_4'] != k]\n",
    "    entropy_4 = entropy_4[entropy_4['Adm_4'] != k]\n",
    "    introversion_4 = introversion_4[introversion_4['Adm_4'] != k]\n",
    "    degree_4 = degree_4[degree_4['Adm_4'] != k]\n",
    "    \n",
    "for l in np.setdiff1d(activity_4['Adm_4'], entropy_4['Adm_4']):\n",
    "    activity_4 = activity_4[activity_4['Adm_4'] != l]\n",
    "    entropy_4 = entropy_4[entropy_4['Adm_4'] != l]\n",
    "    hiv_4 = hiv_4[hiv_4['Adm_4'] != l]\n",
    "    introversion_4 = introversion_4[introversion_4['Adm_4'] != l]\n",
    "    degree_4 = degree_4[degree_4['Adm_4'] != l]\n",
    "    \n",
    "for m in np.setdiff1d(entropy_4['Adm_4'], activity_4['Adm_4']):\n",
    "    activity_4 = activity_4[activity_4['Adm_4'] != m]\n",
    "    hiv_4 = hiv_4[hiv_4['Adm_4'] != m]\n",
    "    entropy_4 = entropy_4[entropy_4['Adm_4'] != m]\n",
    "    introversion_4 = introversion_4[introversion_4['Adm_4'] != m]\n",
    "    degree_4 = degree_4[degree_4['Adm_4'] != m]"
   ]
  },
  {
   "cell_type": "code",
   "execution_count": 4,
   "metadata": {},
   "outputs": [
    {
     "name": "stdout",
     "output_type": "stream",
     "text": [
      "Activity PMCC:\n(0.3211579449209096, 0.26287752129742564)\n"
     ]
    },
    {
     "name": "stdout",
     "output_type": "stream",
     "text": [
      "(0.24070591351528464, 0.17721762133133798)\n"
     ]
    },
    {
     "name": "stdout",
     "output_type": "stream",
     "text": [
      "(0.13879214652799796, 0.16629994311285892)\n"
     ]
    },
    {
     "name": "stdout",
     "output_type": "stream",
     "text": [
      "(0.19368171351732827, 0.030448271676133142)\n"
     ]
    }
   ],
   "source": [
    "print 'Activity PMCC:'\n",
    "print pearsonr(activity_1['Vol']/max(activity_1['Vol']), hiv_1['HIV_rate']/max(hiv_1['HIV_rate']))\n",
    "plt.scatter(activity_1['Vol']/max(activity_1['Vol']), hiv_1['HIV_rate']/max(hiv_1['HIV_rate']))\n",
    "plt.xlabel('Activity Adm_1')\n",
    "plt.ylabel('HIV Cases Per Person')\n",
    "plt.show()\n",
    "print pearsonr(activity_2['Vol']/max(activity_2['Vol']), hiv_2['HIV_rate']/max(hiv_2['HIV_rate']))\n",
    "plt.scatter(activity_2['Vol']/max(activity_2['Vol']), hiv_2['HIV_rate']/max(hiv_2['HIV_rate']))\n",
    "plt.xlabel('Activity Adm_2')\n",
    "plt.ylabel('HIV Cases Per Person')\n",
    "plt.show()\n",
    "print pearsonr(activity_3['Vol']/max(activity_3['Vol']), hiv_3['HIV_rate']/max(hiv_3['HIV_rate']))\n",
    "plt.scatter(activity_3['Vol']/max(activity_3['Vol']), hiv_3['HIV_rate']/max(hiv_3['HIV_rate']))\n",
    "plt.xlabel('Activity Adm_3')\n",
    "plt.ylabel('HIV Cases Per Person')\n",
    "plt.show()\n",
    "print pearsonr(activity_4['Vol']/max(activity_4['Vol']), hiv_4['HIV_rate']/max(hiv_4['HIV_rate']))\n",
    "plt.scatter(activity_4['Vol']/max(activity_4['Vol']), hiv_4['HIV_rate']/max(hiv_4['HIV_rate']))\n",
    "plt.xlabel('Activity Adm_4')\n",
    "plt.ylabel('HIV Cases Per Person')\n",
    "plt.show()"
   ]
  },
  {
   "cell_type": "code",
   "execution_count": 24,
   "metadata": {},
   "outputs": [
    {
     "name": "stdout",
     "output_type": "stream",
     "text": [
      "Activity PMCC:\n(-0.38901339330029477, 0.16921452447852084)\n"
     ]
    },
    {
     "name": "stdout",
     "output_type": "stream",
     "text": [
      "(-0.28949784632560072, 0.10223318829115313)\n"
     ]
    },
    {
     "name": "stdout",
     "output_type": "stream",
     "text": [
      "(-0.10993505652407097, 0.27377848435381974)\n"
     ]
    }
   ],
   "source": [
    "print 'Activity PMCC:'\n",
    "print pearsonr(activity_1['Vol']/max(activity_1['Vol']), child_mort_1['neoNatal']/max(child_mort_1['neoNatal']))\n",
    "plt.scatter(activity_1['Vol']/max(activity_1['Vol']), child_mort_1['neoNatal']/max(child_mort_1['neoNatal']))\n",
    "plt.xlabel('Activity Adm_1')\n",
    "plt.ylabel('HIV Cases Per Person')\n",
    "plt.show()\n",
    "print pearsonr(activity_2['Vol']/max(activity_2['Vol']), child_mort_2['neoNatal']/max(child_mort_2['neoNatal']))\n",
    "plt.scatter(activity_2['Vol']/max(activity_2['Vol']), child_mort_2['neoNatal']/max(child_mort_2['neoNatal']))\n",
    "plt.xlabel('Activity Adm_2')\n",
    "plt.ylabel('HIV Cases Per Person')\n",
    "plt.show()\n",
    "print pearsonr(activity_3['Vol']/max(activity_3['Vol']), child_mort_3['neoNatal']/max(child_mort_3['neoNatal']))\n",
    "plt.scatter(activity_3['Vol']/max(activity_3['Vol']), child_mort_3['neoNatal']/max(child_mort_3['neoNatal']))\n",
    "plt.xlabel('Activity Adm_3')\n",
    "plt.ylabel('HIV Cases Per Person')\n",
    "plt.show()\n",
    "# print pearsonr(activity_4['Vol']/max(activity_4['Vol']), child_mort_4['neoNatal']/max(child_mort_4['neoNatal']))\n",
    "# plt.scatter(activity_4['Vol']/max(activity_4['Vol']), child_mort_4['neoNatal']/max(child_mort_4['neoNatal']))\n",
    "# plt.xlabel('Activity Adm_4')\n",
    "# plt.ylabel('HIV Cases Per Person')\n",
    "# plt.show()"
   ]
  },
  {
   "cell_type": "code",
   "execution_count": 6,
   "metadata": {},
   "outputs": [
    {
     "name": "stdout",
     "output_type": "stream",
     "text": [
      "Activity PMCC:\n(-0.30254714964522311, 0.29308268919806463)\n"
     ]
    },
    {
     "name": "stdout",
     "output_type": "stream",
     "text": [
      "(-0.19078277989529552, 0.28754983230557224)\n"
     ]
    },
    {
     "name": "stdout",
     "output_type": "stream",
     "text": [
      "(-0.061441912607815577, 0.54161363674784924)\n"
     ]
    }
   ],
   "source": [
    "print 'Activity PMCC:'\n",
    "print pearsonr(activity_1['Vol']/max(activity_1['Vol']), child_mort_1['one2Six']/max(child_mort_1['one2Six']))\n",
    "plt.scatter(activity_1['Vol']/max(activity_1['Vol']), child_mort_1['one2Six']/max(child_mort_1['one2Six']))\n",
    "plt.xlabel('Activity Adm_1')\n",
    "plt.ylabel('HIV Cases Per Person')\n",
    "plt.show()\n",
    "print pearsonr(activity_2['Vol']/max(activity_2['Vol']), child_mort_2['one2Six']/max(child_mort_2['one2Six']))\n",
    "plt.scatter(activity_2['Vol']/max(activity_2['Vol']), child_mort_2['one2Six']/max(child_mort_2['one2Six']))\n",
    "plt.xlabel('Activity Adm_2')\n",
    "plt.ylabel('HIV Cases Per Person')\n",
    "plt.show()\n",
    "print pearsonr(activity_3['Vol']/max(activity_3['Vol']), child_mort_3['one2Six']/max(child_mort_3['one2Six']))\n",
    "plt.scatter(activity_3['Vol']/max(activity_3['Vol']), child_mort_3['one2Six']/max(child_mort_3['one2Six']))\n",
    "plt.xlabel('Activity Adm_3')\n",
    "plt.ylabel('HIV Cases Per Person')\n",
    "plt.show()\n",
    "# print pearsonr(activity_4['Vol']/max(activity_4['Vol']), child_mort_4['one2Six']/max(child_mort_4['one2Six']))\n",
    "# plt.scatter(activity_4['Vol']/max(activity_4['Vol']), child_mort_4['one2Six']/max(child_mort_4['one2Six']))\n",
    "# plt.xlabel('Activity Adm_4')\n",
    "# plt.ylabel('HIV Cases Per Person')\n",
    "# plt.show()"
   ]
  },
  {
   "cell_type": "code",
   "execution_count": 6,
   "metadata": {},
   "outputs": [
    {
     "name": "stdout",
     "output_type": "stream",
     "text": [
      "Entropy PMCC:\n(-0.45588462449492445, 0.10135794380813201)\n"
     ]
    },
    {
     "name": "stdout",
     "output_type": "stream",
     "text": [
      "(-0.27411619755368632, 0.12266120986487966)\n"
     ]
    },
    {
     "name": "stdout",
     "output_type": "stream",
     "text": [
      "(-0.075956085547683058, 0.45028551571731179)\n"
     ]
    },
    {
     "name": "stdout",
     "output_type": "stream",
     "text": [
      "(-0.072345441785233763, 0.42268482525910711)\n"
     ]
    }
   ],
   "source": [
    "print 'Entropy PMCC:'\n",
    "print pearsonr(entropy_1['Entropy']/max(entropy_1['Entropy']), hiv_1['HIV_rate']/max(hiv_1['HIV_rate']))\n",
    "plt.scatter(entropy_1['Entropy']/max(entropy_1['Entropy']), hiv_1['HIV_rate']/max(hiv_1['HIV_rate']))\n",
    "plt.xlabel('Entropy Adm_1')\n",
    "plt.ylabel('HIV Cases Per Person')\n",
    "plt.show()\n",
    "print pearsonr(entropy_2['Entropy']/max(entropy_2['Entropy']), hiv_2['HIV_rate']/max(hiv_2['HIV_rate']))\n",
    "plt.scatter(entropy_2['Entropy']/max(entropy_2['Entropy']), hiv_2['HIV_rate']/max(hiv_2['HIV_rate']))\n",
    "plt.xlabel('Entropy Adm_2')\n",
    "plt.ylabel('HIV Cases Per Person')\n",
    "plt.show()\n",
    "print pearsonr(entropy_3['Entropy']/max(entropy_3['Entropy']), hiv_3['HIV_rate']/max(hiv_3['HIV_rate']))\n",
    "plt.scatter(entropy_3['Entropy']/max(entropy_3['Entropy']), hiv_3['HIV_rate']/max(hiv_3['HIV_rate']))\n",
    "plt.xlabel('Entropy Adm_3')\n",
    "plt.ylabel('HIV Cases Per Person')\n",
    "plt.show()\n",
    "print pearsonr(entropy_4['Entropy']/max(entropy_4['Entropy']), hiv_4['HIV_rate']/max(hiv_4['HIV_rate']))\n",
    "plt.scatter(entropy_4['Entropy']/max(entropy_4['Entropy']), hiv_4['HIV_rate']/max(hiv_4['HIV_rate']))\n",
    "plt.xlabel('Entropy Adm_4')\n",
    "plt.ylabel('HIV Cases Per Person')\n",
    "plt.show()"
   ]
  },
  {
   "cell_type": "code",
   "execution_count": 26,
   "metadata": {},
   "outputs": [
    {
     "name": "stdout",
     "output_type": "stream",
     "text": [
      "Entropy PMCC:\n(-0.3099348487935607, 0.28086018196419316)\n"
     ]
    },
    {
     "name": "stdout",
     "output_type": "stream",
     "text": [
      "(-0.072215357225166643, 0.68961910080311351)\n"
     ]
    },
    {
     "name": "stdout",
     "output_type": "stream",
     "text": [
      "(-0.024863159095475647, 0.80506333679985231)\n"
     ]
    }
   ],
   "source": [
    "print 'Entropy PMCC:'\n",
    "print pearsonr(entropy_1['Entropy']/max(entropy_1['Entropy']), child_mort_1['neoNatal']/max(child_mort_1['neoNatal']))\n",
    "plt.scatter(entropy_1['Entropy']/max(entropy_1['Entropy']), child_mort_1['neoNatal']/max(child_mort_1['neoNatal']))\n",
    "plt.xlabel('Entropy Adm_1')\n",
    "plt.ylabel('HIV Cases Per Person')\n",
    "plt.show()\n",
    "print pearsonr(entropy_2['Entropy']/max(entropy_2['Entropy']), child_mort_2['neoNatal']/max(child_mort_2['neoNatal']))\n",
    "plt.scatter(entropy_2['Entropy']/max(entropy_2['Entropy']), child_mort_2['neoNatal']/max(child_mort_2['neoNatal']))\n",
    "plt.xlabel('Entropy Adm_2')\n",
    "plt.ylabel('HIV Cases Per Person')\n",
    "plt.show()\n",
    "print pearsonr(entropy_3['Entropy']/max(entropy_3['Entropy']), child_mort_3['neoNatal']/max(child_mort_3['neoNatal']))\n",
    "plt.scatter(entropy_3['Entropy']/max(entropy_3['Entropy']), child_mort_3['neoNatal']/max(child_mort_3['neoNatal']))\n",
    "plt.xlabel('Entropy Adm_3')\n",
    "plt.ylabel('HIV Cases Per Person')\n",
    "plt.show()\n",
    "# print pearsonr(entropy_4['Entropy']/max(entropy_4['Entropy']), child_mort_4['neoNatal']/max(child_mort_4['neoNatal']))\n",
    "# plt.scatter(entropy_4['Entropy']/max(entropy_4['Entropy']), child_mort_4['neoNatal']/max(child_mort_4['neoNatal']))\n",
    "# plt.xlabel('Entropy Adm_4')\n",
    "# plt.ylabel('HIV Cases Per Person')\n",
    "# plt.show()"
   ]
  },
  {
   "cell_type": "code",
   "execution_count": 7,
   "metadata": {},
   "outputs": [
    {
     "name": "stdout",
     "output_type": "stream",
     "text": [
      "Entropy PMCC:\n(-0.25266385036673056, 0.38347728577599932)\n"
     ]
    },
    {
     "name": "stdout",
     "output_type": "stream",
     "text": [
      "(-0.070988318214712229, 0.69463800370159912)\n"
     ]
    },
    {
     "name": "stdout",
     "output_type": "stream",
     "text": [
      "(-0.037165040869551046, 0.71214080810540303)\n"
     ]
    }
   ],
   "source": [
    "print 'Entropy PMCC:'\n",
    "print pearsonr(entropy_1['Entropy']/max(entropy_1['Entropy']), child_mort_1['one2Six']/max(child_mort_1['one2Six']))\n",
    "plt.scatter(entropy_1['Entropy']/max(entropy_1['Entropy']), child_mort_1['one2Six']/max(child_mort_1['one2Six']))\n",
    "plt.xlabel('Entropy Adm_1')\n",
    "plt.ylabel('HIV Cases Per Person')\n",
    "plt.show()\n",
    "print pearsonr(entropy_2['Entropy']/max(entropy_2['Entropy']), child_mort_2['one2Six']/max(child_mort_2['one2Six']))\n",
    "plt.scatter(entropy_2['Entropy']/max(entropy_2['Entropy']), child_mort_2['one2Six']/max(child_mort_2['one2Six']))\n",
    "plt.xlabel('Entropy Adm_2')\n",
    "plt.ylabel('HIV Cases Per Person')\n",
    "plt.show()\n",
    "print pearsonr(entropy_3['Entropy']/max(entropy_3['Entropy']), child_mort_3['one2Six']/max(child_mort_3['one2Six']))\n",
    "plt.scatter(entropy_3['Entropy']/max(entropy_3['Entropy']), child_mort_3['one2Six']/max(child_mort_3['one2Six']))\n",
    "plt.xlabel('Entropy Adm_3')\n",
    "plt.ylabel('HIV Cases Per Person')\n",
    "plt.show()\n",
    "# print pearsonr(entropy_4['Entropy']/max(entropy_4['Entropy']), child_mort_4['one2Six']/max(child_mort_4['one2Six']))\n",
    "# plt.scatter(entropy_4['Entropy']/max(entropy_4['Entropy']), child_mort_4['one2Six']/max(child_mort_4['one2Six']))\n",
    "# plt.xlabel('Entropy Adm_4')\n",
    "# plt.ylabel('HIV Cases Per Person')\n",
    "# plt.show()"
   ]
  },
  {
   "cell_type": "code",
   "execution_count": 7,
   "metadata": {},
   "outputs": [
    {
     "name": "stdout",
     "output_type": "stream",
     "text": [
      "Degree PMCC:\n(-0.45675482853000965, 0.10062492335502428)\n"
     ]
    },
    {
     "name": "stdout",
     "output_type": "stream",
     "text": [
      "(-0.28330518655919484, 0.11012304328778195)\n"
     ]
    },
    {
     "name": "stdout",
     "output_type": "stream",
     "text": [
      "(-0.078325189380426583, 0.43624039204820642)\n"
     ]
    },
    {
     "name": "stdout",
     "output_type": "stream",
     "text": [
      "(-0.072459066604153383, 0.42195471916122806)\n"
     ]
    }
   ],
   "source": [
    "print 'Degree PMCC:'\n",
    "print pearsonr(degree_1['Degree']/max(degree_1['Degree']), hiv_1['HIV_rate']/max(hiv_1['HIV_rate']))\n",
    "plt.scatter(degree_1['Degree']/max(degree_1['Degree']), hiv_1['HIV_rate']/max(hiv_1['HIV_rate']))\n",
    "plt.xlabel('Degree Adm_1')\n",
    "plt.ylabel('HIV Cases Per Person')\n",
    "plt.show()\n",
    "print pearsonr(degree_2['Degree']/max(degree_2['Degree']), hiv_2['HIV_rate']/max(hiv_2['HIV_rate']))\n",
    "plt.scatter(degree_2['Degree']/max(degree_2['Degree']), hiv_2['HIV_rate']/max(hiv_2['HIV_rate']))\n",
    "plt.xlabel('Degree Adm_2')\n",
    "plt.ylabel('HIV Cases Per Person')\n",
    "plt.show()\n",
    "print pearsonr(degree_3['Degree']/max(degree_3['Degree']), hiv_3['HIV_rate']/max(hiv_3['HIV_rate']))\n",
    "plt.scatter(degree_3['Degree']/max(degree_3['Degree']), hiv_3['HIV_rate']/max(hiv_3['HIV_rate']))\n",
    "plt.xlabel('Degree Adm_3')\n",
    "plt.ylabel('HIV Cases Per Person')\n",
    "plt.show()\n",
    "print pearsonr(degree_4['Degree']/max(degree_4['Degree']), hiv_4['HIV_rate']/max(hiv_4['HIV_rate']))\n",
    "plt.scatter(degree_4['Degree']/max(degree_4['Degree']), hiv_4['HIV_rate']/max(hiv_4['HIV_rate']))\n",
    "plt.xlabel('Degree Adm_4')\n",
    "plt.ylabel('HIV Cases Per Person')\n",
    "plt.show()"
   ]
  },
  {
   "cell_type": "code",
   "execution_count": 27,
   "metadata": {},
   "outputs": [
    {
     "name": "stdout",
     "output_type": "stream",
     "text": [
      "Degree PMCC:\n(-0.3439341667942134, 0.22856188572203284)\n"
     ]
    },
    {
     "name": "stdout",
     "output_type": "stream",
     "text": [
      "(-0.081647077657149972, 0.65148705699268428)\n"
     ]
    },
    {
     "name": "stdout",
     "output_type": "stream",
     "text": [
      "(-0.020975123785131906, 0.83507560206211884)\n"
     ]
    }
   ],
   "source": [
    "print 'Degree PMCC:'\n",
    "print pearsonr(degree_1['Degree']/max(degree_1['Degree']), child_mort_1['neoNatal']/max(child_mort_1['neoNatal']))\n",
    "plt.scatter(degree_1['Degree']/max(degree_1['Degree']), child_mort_1['neoNatal']/max(child_mort_1['neoNatal']))\n",
    "plt.xlabel('Degree Adm_1')\n",
    "plt.ylabel('HIV Cases Per Person')\n",
    "plt.show()\n",
    "print pearsonr(degree_2['Degree']/max(degree_2['Degree']), child_mort_2['neoNatal']/max(child_mort_2['neoNatal']))\n",
    "plt.scatter(degree_2['Degree']/max(degree_2['Degree']), child_mort_2['neoNatal']/max(child_mort_2['neoNatal']))\n",
    "plt.xlabel('Degree Adm_2')\n",
    "plt.ylabel('HIV Cases Per Person')\n",
    "plt.show()\n",
    "print pearsonr(degree_3['Degree']/max(degree_3['Degree']), child_mort_3['neoNatal']/max(child_mort_3['neoNatal']))\n",
    "plt.scatter(degree_3['Degree']/max(degree_3['Degree']), child_mort_3['neoNatal']/max(child_mort_3['neoNatal']))\n",
    "plt.xlabel('Degree Adm_3')\n",
    "plt.ylabel('HIV Cases Per Person')\n",
    "plt.show()\n",
    "# print pearsonr(degree_4['Degree']/max(degree_4['Degree']), child_mort_4['neoNatal']/max(child_mort_4['neoNatal']))\n",
    "# plt.scatter(degree_4['Degree']/max(degree_4['Degree']), child_mort_4['neoNatal']/max(child_mort_4['neoNatal']))\n",
    "# plt.xlabel('Degree Adm_4')\n",
    "# plt.ylabel('HIV Cases Per Person')\n",
    "# plt.show()"
   ]
  },
  {
   "cell_type": "code",
   "execution_count": 8,
   "metadata": {},
   "outputs": [
    {
     "name": "stdout",
     "output_type": "stream",
     "text": [
      "Degree PMCC:\n(-0.27404868658742843, 0.34306811131628695)\n"
     ]
    },
    {
     "name": "stdout",
     "output_type": "stream",
     "text": [
      "(-0.071740869647009126, 0.69155835113992103)\n"
     ]
    },
    {
     "name": "stdout",
     "output_type": "stream",
     "text": [
      "(-0.036811294143882851, 0.71476210544880958)\n"
     ]
    }
   ],
   "source": [
    "print 'Degree PMCC:'\n",
    "print pearsonr(degree_1['Degree']/max(degree_1['Degree']), child_mort_1['one2Six']/max(child_mort_1['one2Six']))\n",
    "plt.scatter(degree_1['Degree']/max(degree_1['Degree']), child_mort_1['one2Six']/max(child_mort_1['one2Six']))\n",
    "plt.xlabel('Degree Adm_1')\n",
    "plt.ylabel('HIV Cases Per Person')\n",
    "plt.show()\n",
    "print pearsonr(degree_2['Degree']/max(degree_2['Degree']), child_mort_2['one2Six']/max(child_mort_2['one2Six']))\n",
    "plt.scatter(degree_2['Degree']/max(degree_2['Degree']), child_mort_2['one2Six']/max(child_mort_2['one2Six']))\n",
    "plt.xlabel('Degree Adm_2')\n",
    "plt.ylabel('HIV Cases Per Person')\n",
    "plt.show()\n",
    "print pearsonr(degree_3['Degree']/max(degree_3['Degree']), child_mort_3['one2Six']/max(child_mort_3['one2Six']))\n",
    "plt.scatter(degree_3['Degree']/max(degree_3['Degree']), child_mort_3['one2Six']/max(child_mort_3['one2Six']))\n",
    "plt.xlabel('Degree Adm_3')\n",
    "plt.ylabel('HIV Cases Per Person')\n",
    "plt.show()\n",
    "# print pearsonr(degree_4['Degree']/max(degree_4['Degree']), child_mort_4['one2Six']/max(child_mort_4['one2Six']))\n",
    "# plt.scatter(degree_4['Degree']/max(degree_4['Degree']), child_mort_4['one2Six']/max(child_mort_4['one2Six']))\n",
    "# plt.xlabel('Degree Adm_4')\n",
    "# plt.ylabel('HIV Cases Per Person')\n",
    "# plt.show()"
   ]
  },
  {
   "cell_type": "code",
   "execution_count": 8,
   "metadata": {},
   "outputs": [
    {
     "name": "stdout",
     "output_type": "stream",
     "text": [
      "Introversion PMCC:\n(-0.36691033972747111, 0.1968999339675849)\n"
     ]
    },
    {
     "name": "stdout",
     "output_type": "stream",
     "text": [
      "(-0.38930992193473685, 0.025132511821009746)\n"
     ]
    },
    {
     "name": "stdout",
     "output_type": "stream",
     "text": [
      "(-0.048662146647403745, 0.62891990586681734)\n"
     ]
    },
    {
     "name": "stdout",
     "output_type": "stream",
     "text": [
      "(-0.091332245182746519, 0.31106684643529858)\n"
     ]
    }
   ],
   "source": [
    "print 'Introversion PMCC:'\n",
    "print pearsonr(introversion_1['Introversion']/max(introversion_1['Introversion']), hiv_1['HIV_rate']/max(hiv_1['HIV_rate']))\n",
    "plt.scatter(introversion_1['Introversion']/max(introversion_1['Introversion']), hiv_1['HIV_rate']/max(hiv_1['HIV_rate']))\n",
    "plt.xlabel('Introversion Adm_1')\n",
    "plt.ylabel('HIV Cases Per Person')\n",
    "plt.show()\n",
    "print pearsonr(introversion_2['Introversion']/max(introversion_2['Introversion']), hiv_2['HIV_rate']/max(hiv_2['HIV_rate']))\n",
    "plt.scatter(introversion_2['Introversion']/max(introversion_2['Introversion']), hiv_2['HIV_rate']/max(hiv_2['HIV_rate']))\n",
    "plt.xlabel('Introversion Adm_2')\n",
    "plt.ylabel('HIV Cases Per Person')\n",
    "plt.show()\n",
    "print pearsonr(introversion_3['Introversion']/max(introversion_3['Introversion']), hiv_3['HIV_rate']/max(hiv_3['HIV_rate']))\n",
    "plt.scatter(introversion_3['Introversion']/max(introversion_3['Introversion']), hiv_3['HIV_rate']/max(hiv_3['HIV_rate']))\n",
    "plt.xlabel('Introversion Adm_3')\n",
    "plt.ylabel('HIV Cases Per Person')\n",
    "plt.show()\n",
    "print pearsonr(introversion_4['Introversion']/max(introversion_4['Introversion']), hiv_4['HIV_rate']/max(hiv_4['HIV_rate']))\n",
    "plt.scatter(introversion_4['Introversion']/max(introversion_4['Introversion']), hiv_4['HIV_rate']/max(hiv_4['HIV_rate']))\n",
    "plt.xlabel('Introversion Adm_4')\n",
    "plt.ylabel('HIV Cases Per Person')\n",
    "plt.show()"
   ]
  },
  {
   "cell_type": "code",
   "execution_count": 28,
   "metadata": {},
   "outputs": [
    {
     "name": "stdout",
     "output_type": "stream",
     "text": [
      "Introversion PMCC:\n(-0.45025284210348598, 0.10619121743784909)\n"
     ]
    },
    {
     "name": "stdout",
     "output_type": "stream",
     "text": [
      "(-0.056802609039471715, 0.7535378078974122)\n"
     ]
    },
    {
     "name": "stdout",
     "output_type": "stream",
     "text": [
      "(-0.018028141373173531, 0.85798489268803402)\n"
     ]
    }
   ],
   "source": [
    "print 'Introversion PMCC:'\n",
    "print pearsonr(introversion_1['Introversion']/max(introversion_1['Introversion']), child_mort_1['neoNatal']/max(child_mort_1['neoNatal']))\n",
    "plt.scatter(introversion_1['Introversion']/max(introversion_1['Introversion']), child_mort_1['neoNatal']/max(child_mort_1['neoNatal']))\n",
    "plt.xlabel('Introversion Adm_1')\n",
    "plt.ylabel('HIV Cases Per Person')\n",
    "plt.show()\n",
    "print pearsonr(introversion_2['Introversion']/max(introversion_2['Introversion']), child_mort_2['neoNatal']/max(child_mort_2['neoNatal']))\n",
    "plt.scatter(introversion_2['Introversion']/max(introversion_2['Introversion']), child_mort_2['neoNatal']/max(child_mort_2['neoNatal']))\n",
    "plt.xlabel('Introversion Adm_2')\n",
    "plt.ylabel('HIV Cases Per Person')\n",
    "plt.show()\n",
    "print pearsonr(introversion_3['Introversion']/max(introversion_3['Introversion']), child_mort_3['neoNatal']/max(child_mort_3['neoNatal']))\n",
    "plt.scatter(introversion_3['Introversion']/max(introversion_3['Introversion']), child_mort_3['neoNatal']/max(child_mort_3['neoNatal']))\n",
    "plt.xlabel('Introversion Adm_3')\n",
    "plt.ylabel('HIV Cases Per Person')\n",
    "plt.show()\n",
    "# print pearsonr(introversion_4['Introversion']/max(introversion_4['Introversion']), child_mort_4['neoNatal']/max(child_mort_4['neoNatal']))\n",
    "# plt.scatter(introversion_4['Introversion']/max(introversion_4['Introversion']), child_mort_4['neoNatal']/max(child_mort_4['neoNatal']))\n",
    "# plt.xlabel('Introversion Adm_4')\n",
    "# plt.ylabel('HIV Cases Per Person')\n",
    "# plt.show()"
   ]
  },
  {
   "cell_type": "code",
   "execution_count": 9,
   "metadata": {},
   "outputs": [
    {
     "name": "stdout",
     "output_type": "stream",
     "text": [
      "Introversion PMCC:\n(-0.2013932663352406, 0.48993293282230788)\n"
     ]
    },
    {
     "name": "stdout",
     "output_type": "stream",
     "text": [
      "(-0.051491800340506939, 0.77596505265633386)\n"
     ]
    },
    {
     "name": "stdout",
     "output_type": "stream",
     "text": [
      "(-0.072671328343436745, 0.4701698163016792)\n"
     ]
    }
   ],
   "source": [
    "print 'Introversion PMCC:'\n",
    "print pearsonr(introversion_1['Introversion']/max(introversion_1['Introversion']), child_mort_1['one2Six']/max(child_mort_1['one2Six']))\n",
    "plt.scatter(introversion_1['Introversion']/max(introversion_1['Introversion']), child_mort_1['one2Six']/max(child_mort_1['one2Six']))\n",
    "plt.xlabel('Introversion Adm_1')\n",
    "plt.ylabel('HIV Cases Per Person')\n",
    "plt.show()\n",
    "print pearsonr(introversion_2['Introversion']/max(introversion_2['Introversion']), child_mort_2['one2Six']/max(child_mort_2['one2Six']))\n",
    "plt.scatter(introversion_2['Introversion']/max(introversion_2['Introversion']), child_mort_2['one2Six']/max(child_mort_2['one2Six']))\n",
    "plt.xlabel('Introversion Adm_2')\n",
    "plt.ylabel('HIV Cases Per Person')\n",
    "plt.show()\n",
    "print pearsonr(introversion_3['Introversion']/max(introversion_3['Introversion']), child_mort_3['one2Six']/max(child_mort_3['one2Six']))\n",
    "plt.scatter(introversion_3['Introversion']/max(introversion_3['Introversion']), child_mort_3['one2Six']/max(child_mort_3['one2Six']))\n",
    "plt.xlabel('Introversion Adm_3')\n",
    "plt.ylabel('HIV Cases Per Person')\n",
    "plt.show()\n",
    "# print pearsonr(introversion_4['Introversion']/max(introversion_4['Introversion']), child_mort_4['one2Six']/max(child_mort_4['one2Six']))\n",
    "# plt.scatter(introversion_4['Introversion']/max(introversion_4['Introversion']), child_mort_4['one2Six']/max(child_mort_4['one2Six']))\n",
    "# plt.xlabel('Introversion Adm_4')\n",
    "# plt.ylabel('HIV Cases Per Person')\n",
    "# plt.show()"
   ]
  },
  {
   "cell_type": "code",
   "execution_count": 9,
   "metadata": {},
   "outputs": [
    {
     "name": "stdout",
     "output_type": "stream",
     "text": [
      "Activity PMCC:\n(-0.083886550107086413, 0.77555740382428373)\n"
     ]
    },
    {
     "name": "stdout",
     "output_type": "stream",
     "text": [
      "(0.020017144078493386, 0.91195985895275278)\n"
     ]
    },
    {
     "name": "stdout",
     "output_type": "stream",
     "text": [
      "(0.066554257089868674, 0.50843902708904309)\n"
     ]
    },
    {
     "name": "stdout",
     "output_type": "stream",
     "text": [
      "(0.11072458071093791, 0.21896477652062643)\n"
     ]
    }
   ],
   "source": [
    "# Log-Linear\n",
    "print 'Activity PMCC:'\n",
    "print pearsonr(np.log(activity_1['Vol'])/max(np.log(activity_1['Vol'])), hiv_1['HIV_rate']/max(hiv_1['HIV_rate']))\n",
    "plt.scatter(np.log(activity_1['Vol'])/max(np.log(activity_1['Vol'])), hiv_1['HIV_rate']/max(hiv_1['HIV_rate']))\n",
    "plt.xlabel('Log(Activity Adm_1)')\n",
    "plt.ylabel('Malaria Cases Per Person')\n",
    "plt.show()\n",
    "print pearsonr(np.log(activity_2['Vol'])/max(np.log(activity_2['Vol'])), hiv_2['HIV_rate']/max(hiv_2['HIV_rate']))\n",
    "plt.scatter(np.log(activity_2['Vol'])/max(np.log(activity_2['Vol'])), hiv_2['HIV_rate']/max(hiv_2['HIV_rate']))\n",
    "plt.xlabel('Log(Activity Adm_2)')\n",
    "plt.ylabel('Malaria Cases Per Person')\n",
    "plt.show()\n",
    "print pearsonr(np.log(activity_3['Vol'])/max(np.log(activity_3['Vol'])), hiv_3['HIV_rate']/max(hiv_3['HIV_rate']))\n",
    "plt.scatter(np.log(activity_3['Vol'])/max(np.log(activity_3['Vol'])), hiv_3['HIV_rate']/max(hiv_3['HIV_rate']))\n",
    "plt.xlabel('Log(Activity Adm_3)')\n",
    "plt.ylabel('Malaria Cases Per Person')\n",
    "plt.show()\n",
    "print pearsonr(np.log(activity_4['Vol'])/max(np.log(activity_4['Vol'])), hiv_4['HIV_rate']/max(hiv_4['HIV_rate']))\n",
    "plt.scatter(np.log(activity_4['Vol'])/max(np.log(activity_4['Vol'])), hiv_4['HIV_rate']/max(hiv_4['HIV_rate']))\n",
    "plt.xlabel('Log(Activity Adm_4)')\n",
    "plt.ylabel('Malaria Cases Per Person')\n",
    "plt.show()"
   ]
  },
  {
   "cell_type": "code",
   "execution_count": 30,
   "metadata": {},
   "outputs": [
    {
     "name": "stdout",
     "output_type": "stream",
     "text": [
      "Activity PMCC:\n(-0.67280023984018877, 0.0083706804648596041)\n"
     ]
    },
    {
     "name": "stdout",
     "output_type": "stream",
     "text": [
      "(-0.47091927077591328, 0.0056746945179981263)\n"
     ]
    },
    {
     "name": "stdout",
     "output_type": "stream",
     "text": [
      "(-0.23001249595386611, 0.020670952317135824)\n"
     ]
    }
   ],
   "source": [
    "# Log-Linear\n",
    "print 'Activity PMCC:'\n",
    "print pearsonr(np.log(activity_1['Vol'])/max(np.log(activity_1['Vol'])), child_mort_1['neoNatal']/max(child_mort_1['neoNatal']))\n",
    "plt.scatter(np.log(activity_1['Vol'])/max(np.log(activity_1['Vol'])), child_mort_1['neoNatal']/max(child_mort_1['neoNatal']))\n",
    "plt.xlabel('Log(Activity Adm_1)')\n",
    "plt.ylabel('Malaria Cases Per Person')\n",
    "plt.show()\n",
    "print pearsonr(np.log(activity_2['Vol'])/max(np.log(activity_2['Vol'])), child_mort_2['neoNatal']/max(child_mort_2['neoNatal']))\n",
    "plt.scatter(np.log(activity_2['Vol'])/max(np.log(activity_2['Vol'])), child_mort_2['neoNatal']/max(child_mort_2['neoNatal']))\n",
    "plt.xlabel('Log(Activity Adm_2)')\n",
    "plt.ylabel('Malaria Cases Per Person')\n",
    "plt.show()\n",
    "print pearsonr(np.log(activity_3['Vol'])/max(np.log(activity_3['Vol'])), child_mort_3['neoNatal']/max(child_mort_3['neoNatal']))\n",
    "plt.scatter(np.log(activity_3['Vol'])/max(np.log(activity_3['Vol'])), child_mort_3['neoNatal']/max(child_mort_3['neoNatal']))\n",
    "plt.xlabel('Log(Activity Adm_3)')\n",
    "plt.ylabel('Malaria Cases Per Person')\n",
    "plt.show()\n",
    "# print pearsonr(np.log(activity_4['Vol'])/max(np.log(activity_4['Vol'])), child_mort_4['neoNatal']/max(child_mort_4['neoNatal']))\n",
    "# plt.scatter(np.log(activity_4['Vol'])/max(np.log(activity_4['Vol'])), child_mort_4['neoNatal']/max(child_mort_4['neoNatal']))\n",
    "# plt.xlabel('Log(Activity Adm_4)')\n",
    "# plt.ylabel('Malaria Cases Per Person')\n",
    "# plt.show()"
   ]
  },
  {
   "cell_type": "code",
   "execution_count": 10,
   "metadata": {},
   "outputs": [
    {
     "name": "stdout",
     "output_type": "stream",
     "text": [
      "Activity PMCC:\n(-0.33971401003864815, 0.2346996457390001)\n"
     ]
    },
    {
     "name": "stdout",
     "output_type": "stream",
     "text": [
      "(-0.11357700671124324, 0.52913012352127953)\n"
     ]
    },
    {
     "name": "stdout",
     "output_type": "stream",
     "text": [
      "(-0.12135642753544261, 0.22669743060143593)\n"
     ]
    }
   ],
   "source": [
    "# Log-Linear\n",
    "print 'Activity PMCC:'\n",
    "print pearsonr(np.log(activity_1['Vol'])/max(np.log(activity_1['Vol'])), child_mort_1['one2Six']/max(child_mort_1['one2Six']))\n",
    "plt.scatter(np.log(activity_1['Vol'])/max(np.log(activity_1['Vol'])), child_mort_1['one2Six']/max(child_mort_1['one2Six']))\n",
    "plt.xlabel('Log(Activity Adm_1)')\n",
    "plt.ylabel('Malaria Cases Per Person')\n",
    "plt.show()\n",
    "print pearsonr(np.log(activity_2['Vol'])/max(np.log(activity_2['Vol'])), child_mort_2['one2Six']/max(child_mort_2['one2Six']))\n",
    "plt.scatter(np.log(activity_2['Vol'])/max(np.log(activity_2['Vol'])), child_mort_2['one2Six']/max(child_mort_2['one2Six']))\n",
    "plt.xlabel('Log(Activity Adm_2)')\n",
    "plt.ylabel('Malaria Cases Per Person')\n",
    "plt.show()\n",
    "print pearsonr(np.log(activity_3['Vol'])/max(np.log(activity_3['Vol'])), child_mort_3['one2Six']/max(child_mort_3['one2Six']))\n",
    "plt.scatter(np.log(activity_3['Vol'])/max(np.log(activity_3['Vol'])), child_mort_3['one2Six']/max(child_mort_3['one2Six']))\n",
    "plt.xlabel('Log(Activity Adm_3)')\n",
    "plt.ylabel('Malaria Cases Per Person')\n",
    "plt.show()\n",
    "# print pearsonr(np.log(activity_4['Vol'])/max(np.log(activity_4['Vol'])), child_mort_4['one2Six']/max(child_mort_4['one2Six']))\n",
    "# plt.scatter(np.log(activity_4['Vol'])/max(np.log(activity_4['Vol'])), child_mort_4['one2Six']/max(child_mort_4['one2Six']))\n",
    "# plt.xlabel('Log(Activity Adm_4)')\n",
    "# plt.ylabel('Malaria Cases Per Person')\n",
    "# plt.show()"
   ]
  },
  {
   "cell_type": "code",
   "execution_count": 10,
   "metadata": {},
   "outputs": [
    {
     "name": "stdout",
     "output_type": "stream",
     "text": [
      "Entropy PMCC:\n(-0.54838987094188618, 0.042305090073365914)\n"
     ]
    },
    {
     "name": "stdout",
     "output_type": "stream",
     "text": [
      "(-0.47512623257265707, 0.0052035132699832553)\n"
     ]
    },
    {
     "name": "stdout",
     "output_type": "stream",
     "text": [
      "(-0.12573052603853685, 0.21026891716428919)\n"
     ]
    },
    {
     "name": "stdout",
     "output_type": "stream",
     "text": [
      "(-0.19544235035720817, 0.028942447075930418)\n"
     ]
    }
   ],
   "source": [
    "# Log-Linear\n",
    "print 'Entropy PMCC:'\n",
    "print pearsonr(np.log(entropy_1['Entropy'])/max(np.log(entropy_1['Entropy'])), hiv_1['HIV_rate']/max(hiv_1['HIV_rate']))\n",
    "plt.scatter(np.log(entropy_1['Entropy'])/max(np.log(entropy_1['Entropy'])), hiv_1['HIV_rate']/max(hiv_1['HIV_rate']))\n",
    "plt.xlabel('Log(Entropy Adm_1)')\n",
    "plt.ylabel('Malaria Cases Per Person')\n",
    "plt.show()\n",
    "print pearsonr(np.log(entropy_2['Entropy'])/max(np.log(entropy_2['Entropy'])), hiv_2['HIV_rate']/max(hiv_2['HIV_rate']))\n",
    "plt.scatter(np.log(entropy_2['Entropy'])/max(np.log(entropy_2['Entropy'])), hiv_2['HIV_rate']/max(hiv_2['HIV_rate']))\n",
    "plt.xlabel('Log(Entropy Adm_2)')\n",
    "plt.ylabel('Malaria Cases Per Person')\n",
    "plt.show()\n",
    "print pearsonr(np.log(entropy_3['Entropy'])/max(np.log(entropy_3['Entropy'])), hiv_3['HIV_rate']/max(hiv_3['HIV_rate']))\n",
    "plt.scatter(np.log(entropy_3['Entropy'])/max(np.log(entropy_3['Entropy'])), hiv_3['HIV_rate']/max(hiv_3['HIV_rate']))\n",
    "plt.xlabel('Log(Entropy Adm_3)')\n",
    "plt.ylabel('Malaria Cases Per Person')\n",
    "plt.show()\n",
    "print pearsonr(np.log(entropy_4['Entropy'])/max(np.log(entropy_4['Entropy'])), hiv_4['HIV_rate']/max(hiv_4['HIV_rate']))\n",
    "plt.scatter(np.log(entropy_4['Entropy'])/max(np.log(entropy_4['Entropy'])), hiv_4['HIV_rate']/max(hiv_4['HIV_rate']))\n",
    "plt.xlabel('Log(Entropy Adm_4)')\n",
    "plt.ylabel('Malaria Cases Per Person')\n",
    "plt.show()"
   ]
  },
  {
   "cell_type": "code",
   "execution_count": null,
   "metadata": {},
   "outputs": [],
   "source": [
    "# Log-Linear\n",
    "print 'Entropy PMCC:'\n",
    "print pearsonr(np.log(entropy_1['Entropy'])/max(np.log(entropy_1['Entropy'])), hiv_1['HIV_rate']/max(hiv_1['HIV_rate']))\n",
    "plt.scatter(np.log(entropy_1['Entropy'])/max(np.log(entropy_1['Entropy'])), hiv_1['HIV_rate']/max(hiv_1['HIV_rate']))\n",
    "plt.xlabel('Log(Entropy Adm_1)')\n",
    "plt.ylabel('Malaria Cases Per Person')\n",
    "plt.show()\n",
    "print pearsonr(np.log(entropy_2['Entropy'])/max(np.log(entropy_2['Entropy'])), hiv_2['HIV_rate']/max(hiv_2['HIV_rate']))\n",
    "plt.scatter(np.log(entropy_2['Entropy'])/max(np.log(entropy_2['Entropy'])), hiv_2['HIV_rate']/max(hiv_2['HIV_rate']))\n",
    "plt.xlabel('Log(Entropy Adm_2)')\n",
    "plt.ylabel('Malaria Cases Per Person')\n",
    "plt.show()\n",
    "print pearsonr(np.log(entropy_3['Entropy'])/max(np.log(entropy_3['Entropy'])), hiv_3['HIV_rate']/max(hiv_3['HIV_rate']))\n",
    "plt.scatter(np.log(entropy_3['Entropy'])/max(np.log(entropy_3['Entropy'])), hiv_3['HIV_rate']/max(hiv_3['HIV_rate']))\n",
    "plt.xlabel('Log(Entropy Adm_3)')\n",
    "plt.ylabel('Malaria Cases Per Person')\n",
    "plt.show()\n",
    "print pearsonr(np.log(entropy_4['Entropy'])/max(np.log(entropy_4['Entropy'])), hiv_4['HIV_rate']/max(hiv_4['HIV_rate']))\n",
    "plt.scatter(np.log(entropy_4['Entropy'])/max(np.log(entropy_4['Entropy'])), hiv_4['HIV_rate']/max(hiv_4['HIV_rate']))\n",
    "plt.xlabel('Log(Entropy Adm_4)')\n",
    "plt.ylabel('Malaria Cases Per Person')\n",
    "plt.show()"
   ]
  },
  {
   "cell_type": "code",
   "execution_count": 11,
   "metadata": {
    "collapsed": false
   },
   "outputs": [
    {
     "name": "stdout",
     "output_type": "stream",
     "text": [
      "Entropy PMCC:\n(-0.32592873831011893, 0.25544776963078303)\n"
     ]
    },
    {
     "name": "stdout",
     "output_type": "stream",
     "text": [
      "(-0.068045137244248405, 0.70672800466851626)\n"
     ]
    },
    {
     "name": "stdout",
     "output_type": "stream",
     "text": [
      "(-0.13090230721838572, 0.19196123665744946)\n"
     ]
    }
   ],
   "source": [
    "# Log-Linear\n",
    "print 'Entropy PMCC:'\n",
    "print pearsonr(np.log(entropy_1['Entropy'])/max(np.log(entropy_1['Entropy'])), child_mort_1['one2Six']/max(child_mort_1['one2Six']))\n",
    "plt.scatter(np.log(entropy_1['Entropy'])/max(np.log(entropy_1['Entropy'])), child_mort_1['one2Six']/max(child_mort_1['one2Six']))\n",
    "plt.xlabel('Log(Entropy Adm_1)')\n",
    "plt.ylabel('Malaria Cases Per Person')\n",
    "plt.show()\n",
    "print pearsonr(np.log(entropy_2['Entropy'])/max(np.log(entropy_2['Entropy'])), child_mort_2['one2Six']/max(child_mort_2['one2Six']))\n",
    "plt.scatter(np.log(entropy_2['Entropy'])/max(np.log(entropy_2['Entropy'])), child_mort_2['one2Six']/max(child_mort_2['one2Six']))\n",
    "plt.xlabel('Log(Entropy Adm_2)')\n",
    "plt.ylabel('Malaria Cases Per Person')\n",
    "plt.show()\n",
    "print pearsonr(np.log(entropy_3['Entropy'])/max(np.log(entropy_3['Entropy'])), child_mort_3['one2Six']/max(child_mort_3['one2Six']))\n",
    "plt.scatter(np.log(entropy_3['Entropy'])/max(np.log(entropy_3['Entropy'])), child_mort_3['one2Six']/max(child_mort_3['one2Six']))\n",
    "plt.xlabel('Log(Entropy Adm_3)')\n",
    "plt.ylabel('Malaria Cases Per Person')\n",
    "plt.show()\n",
    "# print pearsonr(np.log(entropy_4['Entropy'])/max(np.log(entropy_4['Entropy'])), child_mort_4['one2Six']/max(child_mort_4['one2Six']))\n",
    "# plt.scatter(np.log(entropy_4['Entropy'])/max(np.log(entropy_4['Entropy'])), child_mort_4['one2Six']/max(child_mort_4['one2Six']))\n",
    "# plt.xlabel('Log(Entropy Adm_4)')\n",
    "# plt.ylabel('Malaria Cases Per Person')\n",
    "# plt.show()"
   ]
  },
  {
   "cell_type": "code",
   "execution_count": 11,
   "metadata": {},
   "outputs": [
    {
     "name": "stdout",
     "output_type": "stream",
     "text": [
      "Degree PMCC:\n(-0.54680061019306503, 0.043028880381951795)\n"
     ]
    },
    {
     "name": "stdout",
     "output_type": "stream",
     "text": [
      "(-0.45354923625515003, 0.0080272518440723702)\n"
     ]
    },
    {
     "name": "stdout",
     "output_type": "stream",
     "text": [
      "(-0.1081698720386088, 0.28160298519403149)\n"
     ]
    },
    {
     "name": "stdout",
     "output_type": "stream",
     "text": [
      "(-0.13617780649940114, 0.12995435402082103)\n"
     ]
    }
   ],
   "source": [
    "# Log-Linear\n",
    "print 'Degree PMCC:'\n",
    "print pearsonr(np.log(degree_1['Degree'])/max(np.log(degree_1['Degree'])), hiv_1['HIV_rate']/max(hiv_1['HIV_rate']))\n",
    "plt.scatter(np.log(degree_1['Degree'])/max(np.log(degree_1['Degree'])), hiv_1['HIV_rate']/max(hiv_1['HIV_rate']))\n",
    "plt.xlabel('Log(Degree Adm_1)')\n",
    "plt.ylabel('Malaria Cases Per Person')\n",
    "plt.show()\n",
    "print pearsonr(np.log(degree_2['Degree'])/max(np.log(degree_2['Degree'])), hiv_2['HIV_rate']/max(hiv_2['HIV_rate']))\n",
    "plt.scatter(np.log(degree_2['Degree'])/max(np.log(degree_2['Degree'])), hiv_2['HIV_rate']/max(hiv_2['HIV_rate']))\n",
    "plt.xlabel('Log(Degree Adm_2)')\n",
    "plt.ylabel('Malaria Cases Per Person')\n",
    "plt.show()\n",
    "print pearsonr(np.log(degree_3['Degree'])/max(np.log(degree_3['Degree'])), hiv_3['HIV_rate']/max(hiv_3['HIV_rate']))\n",
    "plt.scatter(np.log(degree_3['Degree'])/max(np.log(degree_3['Degree'])), hiv_3['HIV_rate']/max(hiv_3['HIV_rate']))\n",
    "plt.xlabel('Log(Degree Adm_3)')\n",
    "plt.ylabel('Malaria Cases Per Person')\n",
    "plt.show()\n",
    "print pearsonr(np.log(degree_4['Degree'])/max(np.log(degree_4['Degree'])), hiv_4['HIV_rate']/max(hiv_4['HIV_rate']))\n",
    "plt.scatter(np.log(degree_4['Degree'])/max(np.log(degree_4['Degree'])), hiv_4['HIV_rate']/max(hiv_4['HIV_rate']))\n",
    "plt.xlabel('Log(Degree Adm_4)')\n",
    "plt.ylabel('Malaria Cases Per Person')\n",
    "plt.show()"
   ]
  },
  {
   "cell_type": "code",
   "execution_count": 33,
   "metadata": {},
   "outputs": [
    {
     "name": "stdout",
     "output_type": "stream",
     "text": [
      "Degree PMCC:\n(-0.66217080001982975, 0.0098792555376223199)\n"
     ]
    },
    {
     "name": "stdout",
     "output_type": "stream",
     "text": [
      "(-0.20560264921584304, 0.25102167907627054)\n"
     ]
    },
    {
     "name": "stdout",
     "output_type": "stream",
     "text": [
      "(-0.11780011856644712, 0.24070335628866776)\n"
     ]
    }
   ],
   "source": [
    "# Log-Linear\n",
    "print 'Degree PMCC:'\n",
    "print pearsonr(np.log(degree_1['Degree'])/max(np.log(degree_1['Degree'])), child_mort_1['neoNatal']/max(child_mort_1['neoNatal']))\n",
    "plt.scatter(np.log(degree_1['Degree'])/max(np.log(degree_1['Degree'])), child_mort_1['neoNatal']/max(child_mort_1['neoNatal']))\n",
    "plt.xlabel('Log(Degree Adm_1)')\n",
    "plt.ylabel('Malaria Cases Per Person')\n",
    "plt.show()\n",
    "print pearsonr(np.log(degree_2['Degree'])/max(np.log(degree_2['Degree'])), child_mort_2['neoNatal']/max(child_mort_2['neoNatal']))\n",
    "plt.scatter(np.log(degree_2['Degree'])/max(np.log(degree_2['Degree'])), child_mort_2['neoNatal']/max(child_mort_2['neoNatal']))\n",
    "plt.xlabel('Log(Degree Adm_2)')\n",
    "plt.ylabel('Malaria Cases Per Person')\n",
    "plt.show()\n",
    "print pearsonr(np.log(degree_3['Degree'])/max(np.log(degree_3['Degree'])), child_mort_3['neoNatal']/max(child_mort_3['neoNatal']))\n",
    "plt.scatter(np.log(degree_3['Degree'])/max(np.log(degree_3['Degree'])), child_mort_3['neoNatal']/max(child_mort_3['neoNatal']))\n",
    "plt.xlabel('Log(Degree Adm_3)')\n",
    "plt.ylabel('Malaria Cases Per Person')\n",
    "plt.show()\n",
    "# print pearsonr(np.log(degree_4['Degree'])/max(np.log(degree_4['Degree'])), child_mort_4['neoNatal']/max(child_mort_4['neoNatal']))\n",
    "# plt.scatter(np.log(degree_4['Degree'])/max(np.log(degree_4['Degree'])), child_mort_4['neoNatal']/max(child_mort_4['neoNatal']))\n",
    "# plt.xlabel('Log(Degree Adm_4)')\n",
    "# plt.ylabel('Malaria Cases Per Person')\n",
    "# plt.show()"
   ]
  },
  {
   "cell_type": "code",
   "execution_count": 12,
   "metadata": {},
   "outputs": [
    {
     "name": "stdout",
     "output_type": "stream",
     "text": [
      "Degree PMCC:\n(-0.33304609932188339, 0.24460181421720031)\n"
     ]
    },
    {
     "name": "stdout",
     "output_type": "stream",
     "text": [
      "(-0.033498429970839801, 0.85317756366963016)\n"
     ]
    },
    {
     "name": "stdout",
     "output_type": "stream",
     "text": [
      "(-0.13482106154247339, 0.17887864588557562)\n"
     ]
    }
   ],
   "source": [
    "# Log-Linear\n",
    "print 'Degree PMCC:'\n",
    "print pearsonr(np.log(degree_1['Degree'])/max(np.log(degree_1['Degree'])), child_mort_1['one2Six']/max(child_mort_1['one2Six']))\n",
    "plt.scatter(np.log(degree_1['Degree'])/max(np.log(degree_1['Degree'])), child_mort_1['one2Six']/max(child_mort_1['one2Six']))\n",
    "plt.xlabel('Log(Degree Adm_1)')\n",
    "plt.ylabel('Malaria Cases Per Person')\n",
    "plt.show()\n",
    "print pearsonr(np.log(degree_2['Degree'])/max(np.log(degree_2['Degree'])), child_mort_2['one2Six']/max(child_mort_2['one2Six']))\n",
    "plt.scatter(np.log(degree_2['Degree'])/max(np.log(degree_2['Degree'])), child_mort_2['one2Six']/max(child_mort_2['one2Six']))\n",
    "plt.xlabel('Log(Degree Adm_2)')\n",
    "plt.ylabel('Malaria Cases Per Person')\n",
    "plt.show()\n",
    "print pearsonr(np.log(degree_3['Degree'])/max(np.log(degree_3['Degree'])), child_mort_3['one2Six']/max(child_mort_3['one2Six']))\n",
    "plt.scatter(np.log(degree_3['Degree'])/max(np.log(degree_3['Degree'])), child_mort_3['one2Six']/max(child_mort_3['one2Six']))\n",
    "plt.xlabel('Log(Degree Adm_3)')\n",
    "plt.ylabel('Malaria Cases Per Person')\n",
    "plt.show()\n",
    "# print pearsonr(np.log(degree_4['Degree'])/max(np.log(degree_4['Degree'])), child_mort_4['one2Six']/max(child_mort_4['one2Six']))\n",
    "# plt.scatter(np.log(degree_4['Degree'])/max(np.log(degree_4['Degree'])), child_mort_4['one2Six']/max(child_mort_4['one2Six']))\n",
    "# plt.xlabel('Log(Degree Adm_4)')\n",
    "# plt.ylabel('Malaria Cases Per Person')\n",
    "# plt.show()"
   ]
  },
  {
   "cell_type": "code",
   "execution_count": 12,
   "metadata": {},
   "outputs": [
    {
     "name": "stdout",
     "output_type": "stream",
     "text": [
      "Introversion PMCC:\n(-0.22611759797864794, 0.43696774196108756)\n"
     ]
    },
    {
     "name": "stdout",
     "output_type": "stream",
     "text": [
      "(-0.35998110462115362, 0.039613395250487862)\n"
     ]
    },
    {
     "name": "stdout",
     "output_type": "stream",
     "text": [
      "(0.039836070864448674, 0.692458145326043)\n(-0.047790765148350504, 0.59663089214262299)\n"
     ]
    }
   ],
   "source": [
    "# Log-Linear\n",
    "print 'Introversion PMCC:'\n",
    "print pearsonr(np.log(introversion_1['Introversion'])/max(np.log(introversion_1['Introversion'])), hiv_1['HIV_rate']/max(hiv_1['HIV_rate']))\n",
    "plt.scatter(np.log(introversion_1['Introversion'])/max(np.log(introversion_1['Introversion'])), hiv_1['HIV_rate']/max(hiv_1['HIV_rate']))\n",
    "plt.xlabel('Log(Introversion Adm_1)')\n",
    "plt.ylabel('Malaria Cases Per Person')\n",
    "plt.show()\n",
    "print pearsonr(np.log(introversion_2['Introversion'])/max(np.log(introversion_2['Introversion'])), hiv_2['HIV_rate']/max(hiv_2['HIV_rate']))\n",
    "plt.scatter(np.log(introversion_2['Introversion'])/max(np.log(introversion_2['Introversion'])), hiv_2['HIV_rate']/max(hiv_2['HIV_rate']))\n",
    "plt.xlabel('Log(Introversion Adm_2)')\n",
    "plt.ylabel('Malaria Cases Per Person')\n",
    "plt.show()\n",
    "print pearsonr(np.log(introversion_3['Introversion'])/max(np.log(introversion_3['Introversion'])), hiv_3['HIV_rate']/max(hiv_3['HIV_rate']))\n",
    "plt.scatter(np.log(introversion_3['Introversion'])/max(np.log(introversion_3['Introversion'])), hiv_3['HIV_rate']/max(hiv_3['HIV_rate']))\n",
    "plt.xlabel('Log(Introversion Adm_3)')\n",
    "plt.ylabel('Malaria Cases Per Person')\n",
    "plt.show()\n",
    "print pearsonr(np.log(introversion_4['Introversion'])/max(np.log(introversion_4['Introversion'])), hiv_4['HIV_rate']/max(hiv_4['HIV_rate']))\n",
    "plt.scatter(np.log(introversion_4['Introversion'])/max(np.log(introversion_4['Introversion'])), hiv_4['HIV_rate']/max(hiv_4['HIV_rate']))\n",
    "plt.xlabel('Log(Introversion Adm_4)')\n",
    "plt.ylabel('Malaria Cases Per Person')\n",
    "plt.show()"
   ]
  },
  {
   "cell_type": "code",
   "execution_count": 34,
   "metadata": {},
   "outputs": [
    {
     "name": "stdout",
     "output_type": "stream",
     "text": [
      "Introversion PMCC:\n(-0.45776096597922322, 0.099781975919301658)\n"
     ]
    },
    {
     "name": "stdout",
     "output_type": "stream",
     "text": [
      "(-0.030104575743665249, 0.8679154283221524)\n"
     ]
    },
    {
     "name": "stdout",
     "output_type": "stream",
     "text": [
      "(-0.036166306960833984, 0.71955004208111584)\n"
     ]
    }
   ],
   "source": [
    "# Log-Linear\n",
    "print 'Introversion PMCC:'\n",
    "print pearsonr(np.log(introversion_1['Introversion'])/max(np.log(introversion_1['Introversion'])), child_mort_1['neoNatal']/max(child_mort_1['neoNatal']))\n",
    "plt.scatter(np.log(introversion_1['Introversion'])/max(np.log(introversion_1['Introversion'])), child_mort_1['neoNatal']/max(child_mort_1['neoNatal']))\n",
    "plt.xlabel('Log(Introversion Adm_1)')\n",
    "plt.ylabel('Malaria Cases Per Person')\n",
    "plt.show()\n",
    "print pearsonr(np.log(introversion_2['Introversion'])/max(np.log(introversion_2['Introversion'])), child_mort_2['neoNatal']/max(child_mort_2['neoNatal']))\n",
    "plt.scatter(np.log(introversion_2['Introversion'])/max(np.log(introversion_2['Introversion'])), child_mort_2['neoNatal']/max(child_mort_2['neoNatal']))\n",
    "plt.xlabel('Log(Introversion Adm_2)')\n",
    "plt.ylabel('Malaria Cases Per Person')\n",
    "plt.show()\n",
    "print pearsonr(np.log(introversion_3['Introversion'])/max(np.log(introversion_3['Introversion'])), child_mort_3['neoNatal']/max(child_mort_3['neoNatal']))\n",
    "plt.scatter(np.log(introversion_3['Introversion'])/max(np.log(introversion_3['Introversion'])), child_mort_3['neoNatal']/max(child_mort_3['neoNatal']))\n",
    "plt.xlabel('Log(Introversion Adm_3)')\n",
    "plt.ylabel('Malaria Cases Per Person')\n",
    "plt.show()\n",
    "# print pearsonr(np.log(introversion_4['Introversion'])/max(np.log(introversion_4['Introversion'])), child_mort_4['neoNatal']/max(child_mort_4['neoNatal']))\n",
    "# plt.scatter(np.log(introversion_4['Introversion'])/max(np.log(introversion_4['Introversion'])), child_mort_4['neoNatal']/max(child_mort_4['neoNatal']))\n",
    "# plt.xlabel('Log(Introversion Adm_4)')\n",
    "# plt.ylabel('Malaria Cases Per Person')\n",
    "# plt.show()"
   ]
  },
  {
   "cell_type": "code",
   "execution_count": 13,
   "metadata": {},
   "outputs": [
    {
     "name": "stdout",
     "output_type": "stream",
     "text": [
      "Introversion PMCC:\n(-0.15721541708592041, 0.59143388741116221)\n"
     ]
    },
    {
     "name": "stdout",
     "output_type": "stream",
     "text": [
      "(0.050516682592492326, 0.78010288097203495)\n"
     ]
    },
    {
     "name": "stdout",
     "output_type": "stream",
     "text": [
      "(-0.088300087195295307, 0.37990252188939655)\n"
     ]
    }
   ],
   "source": [
    "# Log-Linear\n",
    "print 'Introversion PMCC:'\n",
    "print pearsonr(np.log(introversion_1['Introversion'])/max(np.log(introversion_1['Introversion'])), child_mort_1['one2Six']/max(child_mort_1['one2Six']))\n",
    "plt.scatter(np.log(introversion_1['Introversion'])/max(np.log(introversion_1['Introversion'])), child_mort_1['one2Six']/max(child_mort_1['one2Six']))\n",
    "plt.xlabel('Log(Introversion Adm_1)')\n",
    "plt.ylabel('Malaria Cases Per Person')\n",
    "plt.show()\n",
    "print pearsonr(np.log(introversion_2['Introversion'])/max(np.log(introversion_2['Introversion'])), child_mort_2['one2Six']/max(child_mort_2['one2Six']))\n",
    "plt.scatter(np.log(introversion_2['Introversion'])/max(np.log(introversion_2['Introversion'])), child_mort_2['one2Six']/max(child_mort_2['one2Six']))\n",
    "plt.xlabel('Log(Introversion Adm_2)')\n",
    "plt.ylabel('Malaria Cases Per Person')\n",
    "plt.show()\n",
    "print pearsonr(np.log(introversion_3['Introversion'])/max(np.log(introversion_3['Introversion'])), child_mort_3['one2Six']/max(child_mort_3['one2Six']))\n",
    "plt.scatter(np.log(introversion_3['Introversion'])/max(np.log(introversion_3['Introversion'])), child_mort_3['one2Six']/max(child_mort_3['one2Six']))\n",
    "plt.xlabel('Log(Introversion Adm_3)')\n",
    "plt.ylabel('Malaria Cases Per Person')\n",
    "plt.show()\n",
    "# print pearsonr(np.log(introversion_4['Introversion'])/max(np.log(introversion_4['Introversion'])), child_mort_4['one2Six']/max(child_mort_4['one2Six']))\n",
    "# plt.scatter(np.log(introversion_4['Introversion'])/max(np.log(introversion_4['Introversion'])), child_mort_4['one2Six']/max(child_mort_4['one2Six']))\n",
    "# plt.xlabel('Log(Introversion Adm_4)')\n",
    "# plt.ylabel('Malaria Cases Per Person')\n",
    "# plt.show()"
   ]
  },
  {
   "cell_type": "code",
   "execution_count": 13,
   "metadata": {},
   "outputs": [
    {
     "name": "stdout",
     "output_type": "stream",
     "text": [
      "Activity PMCC:\n(0.12878849049611119, 0.66081365814945947)\n"
     ]
    },
    {
     "name": "stdout",
     "output_type": "stream",
     "text": [
      "(nan, 1.0)\n"
     ]
    },
    {
     "name": "stdout",
     "output_type": "stream",
     "text": [
      "(nan, 1.0)\n"
     ]
    },
    {
     "name": "stdout",
     "output_type": "stream",
     "text": [
      "(nan, 1.0)\n"
     ]
    }
   ],
   "source": [
    "print 'Activity PMCC:'\n",
    "print pearsonr(activity_1['Vol']/max(activity_1['Vol']), np.log(hiv_1['HIV_rate'])/min(np.log(hiv_1['HIV_rate'])))\n",
    "plt.scatter(activity_1['Vol']/max(activity_1['Vol']), np.log(hiv_1['HIV_rate'])/min(np.log(hiv_1['HIV_rate'])))\n",
    "applyPlotStyle()\n",
    "plt.xlabel('Activity Adm_1')\n",
    "plt.ylabel('Log(Malaria Cases Per Person)')\n",
    "plt.show()\n",
    "print pearsonr(activity_2['Vol']/max(activity_2['Vol']), np.log(hiv_2['HIV_rate'])/min(np.log(hiv_2['HIV_rate'])))\n",
    "plt.scatter(activity_2['Vol']/max(activity_2['Vol']), np.log(hiv_2['HIV_rate'])/min(np.log(hiv_2['HIV_rate'])))\n",
    "applyPlotStyle()\n",
    "plt.xlabel('Activity Adm_2')\n",
    "plt.ylabel('Log(Malaria Cases Per Person)')\n",
    "plt.show()\n",
    "print pearsonr(activity_3['Vol']/max(activity_3['Vol']), np.log(hiv_3['HIV_rate'])/min(np.log(hiv_3['HIV_rate'])))\n",
    "plt.scatter(activity_3['Vol']/max(activity_3['Vol']), np.log(hiv_3['HIV_rate'])/min(np.log(hiv_3['HIV_rate'])))\n",
    "applyPlotStyle()\n",
    "plt.xlabel('Activity Adm_3')\n",
    "plt.ylabel('Log(Malaria Cases Per Person)')\n",
    "plt.show()\n",
    "print pearsonr(activity_4['Vol']/max(activity_4['Vol']), np.log(hiv_4['HIV_rate'])/min(np.log(hiv_4['HIV_rate'])))\n",
    "plt.scatter(activity_4['Vol']/max(activity_4['Vol']), np.log(hiv_4['HIV_rate'])/min(np.log(hiv_4['HIV_rate'])))\n",
    "applyPlotStyle()\n",
    "plt.xlabel('Activity Adm_4')\n",
    "plt.ylabel('Log(Malaria Cases Per Person)')\n",
    "plt.show()"
   ]
  },
  {
   "cell_type": "code",
   "execution_count": 15,
   "metadata": {},
   "outputs": [
    {
     "name": "stdout",
     "output_type": "stream",
     "text": [
      "Activity PMCC:\n"
     ]
    },
    {
     "ename": "KeyError",
     "evalue": "'neoNatal'",
     "traceback": [
      "\u001b[0;31m\u001b[0m",
      "\u001b[0;31mKeyError\u001b[0mTraceback (most recent call last)",
      "\u001b[0;32m<ipython-input-15-f7328518a4d2>\u001b[0m in \u001b[0;36m<module>\u001b[0;34m()\u001b[0m\n\u001b[1;32m      1\u001b[0m \u001b[0;32mprint\u001b[0m \u001b[0;34m'Activity PMCC:'\u001b[0m\u001b[0;34m\u001b[0m\u001b[0m\n\u001b[0;32m----> 2\u001b[0;31m \u001b[0;32mprint\u001b[0m \u001b[0mpearsonr\u001b[0m\u001b[0;34m(\u001b[0m\u001b[0mactivity_1\u001b[0m\u001b[0;34m[\u001b[0m\u001b[0;34m'Vol'\u001b[0m\u001b[0;34m]\u001b[0m\u001b[0;34m/\u001b[0m\u001b[0mmax\u001b[0m\u001b[0;34m(\u001b[0m\u001b[0mactivity_1\u001b[0m\u001b[0;34m[\u001b[0m\u001b[0;34m'Vol'\u001b[0m\u001b[0;34m]\u001b[0m\u001b[0;34m)\u001b[0m\u001b[0;34m,\u001b[0m \u001b[0mnp\u001b[0m\u001b[0;34m.\u001b[0m\u001b[0mlog\u001b[0m\u001b[0;34m(\u001b[0m\u001b[0mchild_mort_1\u001b[0m\u001b[0;34m[\u001b[0m\u001b[0;34m'neoNatal'\u001b[0m\u001b[0;34m]\u001b[0m\u001b[0;34m)\u001b[0m\u001b[0;34m/\u001b[0m\u001b[0mmin\u001b[0m\u001b[0;34m(\u001b[0m\u001b[0mnp\u001b[0m\u001b[0;34m.\u001b[0m\u001b[0mlog\u001b[0m\u001b[0;34m(\u001b[0m\u001b[0mchild_mort_1\u001b[0m\u001b[0;34m[\u001b[0m\u001b[0;34m'neoNatal'\u001b[0m\u001b[0;34m]\u001b[0m\u001b[0;34m)\u001b[0m\u001b[0;34m)\u001b[0m\u001b[0;34m)\u001b[0m\u001b[0;34m\u001b[0m\u001b[0m\n\u001b[0m\u001b[1;32m      3\u001b[0m \u001b[0mplt\u001b[0m\u001b[0;34m.\u001b[0m\u001b[0mscatter\u001b[0m\u001b[0;34m(\u001b[0m\u001b[0mactivity_1\u001b[0m\u001b[0;34m[\u001b[0m\u001b[0;34m'Vol'\u001b[0m\u001b[0;34m]\u001b[0m\u001b[0;34m/\u001b[0m\u001b[0mmax\u001b[0m\u001b[0;34m(\u001b[0m\u001b[0mactivity_1\u001b[0m\u001b[0;34m[\u001b[0m\u001b[0;34m'Vol'\u001b[0m\u001b[0;34m]\u001b[0m\u001b[0;34m)\u001b[0m\u001b[0;34m,\u001b[0m \u001b[0mnp\u001b[0m\u001b[0;34m.\u001b[0m\u001b[0mlog\u001b[0m\u001b[0;34m(\u001b[0m\u001b[0mchild_mort_1\u001b[0m\u001b[0;34m[\u001b[0m\u001b[0;34m'neoNatal'\u001b[0m\u001b[0;34m]\u001b[0m\u001b[0;34m)\u001b[0m\u001b[0;34m/\u001b[0m\u001b[0mmin\u001b[0m\u001b[0;34m(\u001b[0m\u001b[0mnp\u001b[0m\u001b[0;34m.\u001b[0m\u001b[0mlog\u001b[0m\u001b[0;34m(\u001b[0m\u001b[0mchild_mort_1\u001b[0m\u001b[0;34m[\u001b[0m\u001b[0;34m'neoNatal'\u001b[0m\u001b[0;34m]\u001b[0m\u001b[0;34m)\u001b[0m\u001b[0;34m)\u001b[0m\u001b[0;34m)\u001b[0m\u001b[0;34m\u001b[0m\u001b[0m\n\u001b[1;32m      4\u001b[0m \u001b[0mapplyPlotStyle\u001b[0m\u001b[0;34m(\u001b[0m\u001b[0;34m)\u001b[0m\u001b[0;34m\u001b[0m\u001b[0m\n\u001b[1;32m      5\u001b[0m \u001b[0mplt\u001b[0m\u001b[0;34m.\u001b[0m\u001b[0mxlabel\u001b[0m\u001b[0;34m(\u001b[0m\u001b[0;34m'Activity Adm_1'\u001b[0m\u001b[0;34m)\u001b[0m\u001b[0;34m\u001b[0m\u001b[0m\n",
      "\u001b[0;32m/Library/Python/2.7/site-packages/pandas/core/frame.pyc\u001b[0m in \u001b[0;36m__getitem__\u001b[0;34m(self, key)\u001b[0m\n\u001b[1;32m   1967\u001b[0m             \u001b[0;32mreturn\u001b[0m \u001b[0mself\u001b[0m\u001b[0;34m.\u001b[0m\u001b[0m_getitem_multilevel\u001b[0m\u001b[0;34m(\u001b[0m\u001b[0mkey\u001b[0m\u001b[0;34m)\u001b[0m\u001b[0;34m\u001b[0m\u001b[0m\n\u001b[1;32m   1968\u001b[0m         \u001b[0;32melse\u001b[0m\u001b[0;34m:\u001b[0m\u001b[0;34m\u001b[0m\u001b[0m\n\u001b[0;32m-> 1969\u001b[0;31m             \u001b[0;32mreturn\u001b[0m \u001b[0mself\u001b[0m\u001b[0;34m.\u001b[0m\u001b[0m_getitem_column\u001b[0m\u001b[0;34m(\u001b[0m\u001b[0mkey\u001b[0m\u001b[0;34m)\u001b[0m\u001b[0;34m\u001b[0m\u001b[0m\n\u001b[0m\u001b[1;32m   1970\u001b[0m \u001b[0;34m\u001b[0m\u001b[0m\n\u001b[1;32m   1971\u001b[0m     \u001b[0;32mdef\u001b[0m \u001b[0m_getitem_column\u001b[0m\u001b[0;34m(\u001b[0m\u001b[0mself\u001b[0m\u001b[0;34m,\u001b[0m \u001b[0mkey\u001b[0m\u001b[0;34m)\u001b[0m\u001b[0;34m:\u001b[0m\u001b[0;34m\u001b[0m\u001b[0m\n",
      "\u001b[0;32m/Library/Python/2.7/site-packages/pandas/core/frame.pyc\u001b[0m in \u001b[0;36m_getitem_column\u001b[0;34m(self, key)\u001b[0m\n\u001b[1;32m   1974\u001b[0m         \u001b[0;31m# get column\u001b[0m\u001b[0;34m\u001b[0m\u001b[0;34m\u001b[0m\u001b[0m\n\u001b[1;32m   1975\u001b[0m         \u001b[0;32mif\u001b[0m \u001b[0mself\u001b[0m\u001b[0;34m.\u001b[0m\u001b[0mcolumns\u001b[0m\u001b[0;34m.\u001b[0m\u001b[0mis_unique\u001b[0m\u001b[0;34m:\u001b[0m\u001b[0;34m\u001b[0m\u001b[0m\n\u001b[0;32m-> 1976\u001b[0;31m             \u001b[0;32mreturn\u001b[0m \u001b[0mself\u001b[0m\u001b[0;34m.\u001b[0m\u001b[0m_get_item_cache\u001b[0m\u001b[0;34m(\u001b[0m\u001b[0mkey\u001b[0m\u001b[0;34m)\u001b[0m\u001b[0;34m\u001b[0m\u001b[0m\n\u001b[0m\u001b[1;32m   1977\u001b[0m \u001b[0;34m\u001b[0m\u001b[0m\n\u001b[1;32m   1978\u001b[0m         \u001b[0;31m# duplicate columns & possible reduce dimensionality\u001b[0m\u001b[0;34m\u001b[0m\u001b[0;34m\u001b[0m\u001b[0m\n",
      "\u001b[0;32m/Library/Python/2.7/site-packages/pandas/core/generic.pyc\u001b[0m in \u001b[0;36m_get_item_cache\u001b[0;34m(self, item)\u001b[0m\n\u001b[1;32m   1089\u001b[0m         \u001b[0mres\u001b[0m \u001b[0;34m=\u001b[0m \u001b[0mcache\u001b[0m\u001b[0;34m.\u001b[0m\u001b[0mget\u001b[0m\u001b[0;34m(\u001b[0m\u001b[0mitem\u001b[0m\u001b[0;34m)\u001b[0m\u001b[0;34m\u001b[0m\u001b[0m\n\u001b[1;32m   1090\u001b[0m         \u001b[0;32mif\u001b[0m \u001b[0mres\u001b[0m \u001b[0;32mis\u001b[0m \u001b[0mNone\u001b[0m\u001b[0;34m:\u001b[0m\u001b[0;34m\u001b[0m\u001b[0m\n\u001b[0;32m-> 1091\u001b[0;31m             \u001b[0mvalues\u001b[0m \u001b[0;34m=\u001b[0m \u001b[0mself\u001b[0m\u001b[0;34m.\u001b[0m\u001b[0m_data\u001b[0m\u001b[0;34m.\u001b[0m\u001b[0mget\u001b[0m\u001b[0;34m(\u001b[0m\u001b[0mitem\u001b[0m\u001b[0;34m)\u001b[0m\u001b[0;34m\u001b[0m\u001b[0m\n\u001b[0m\u001b[1;32m   1092\u001b[0m             \u001b[0mres\u001b[0m \u001b[0;34m=\u001b[0m \u001b[0mself\u001b[0m\u001b[0;34m.\u001b[0m\u001b[0m_box_item_values\u001b[0m\u001b[0;34m(\u001b[0m\u001b[0mitem\u001b[0m\u001b[0;34m,\u001b[0m \u001b[0mvalues\u001b[0m\u001b[0;34m)\u001b[0m\u001b[0;34m\u001b[0m\u001b[0m\n\u001b[1;32m   1093\u001b[0m             \u001b[0mcache\u001b[0m\u001b[0;34m[\u001b[0m\u001b[0mitem\u001b[0m\u001b[0;34m]\u001b[0m \u001b[0;34m=\u001b[0m \u001b[0mres\u001b[0m\u001b[0;34m\u001b[0m\u001b[0m\n",
      "\u001b[0;32m/Library/Python/2.7/site-packages/pandas/core/internals.pyc\u001b[0m in \u001b[0;36mget\u001b[0;34m(self, item, fastpath)\u001b[0m\n\u001b[1;32m   3209\u001b[0m \u001b[0;34m\u001b[0m\u001b[0m\n\u001b[1;32m   3210\u001b[0m             \u001b[0;32mif\u001b[0m \u001b[0;32mnot\u001b[0m \u001b[0misnull\u001b[0m\u001b[0;34m(\u001b[0m\u001b[0mitem\u001b[0m\u001b[0;34m)\u001b[0m\u001b[0;34m:\u001b[0m\u001b[0;34m\u001b[0m\u001b[0m\n\u001b[0;32m-> 3211\u001b[0;31m                 \u001b[0mloc\u001b[0m \u001b[0;34m=\u001b[0m \u001b[0mself\u001b[0m\u001b[0;34m.\u001b[0m\u001b[0mitems\u001b[0m\u001b[0;34m.\u001b[0m\u001b[0mget_loc\u001b[0m\u001b[0;34m(\u001b[0m\u001b[0mitem\u001b[0m\u001b[0;34m)\u001b[0m\u001b[0;34m\u001b[0m\u001b[0m\n\u001b[0m\u001b[1;32m   3212\u001b[0m             \u001b[0;32melse\u001b[0m\u001b[0;34m:\u001b[0m\u001b[0;34m\u001b[0m\u001b[0m\n\u001b[1;32m   3213\u001b[0m                 \u001b[0mindexer\u001b[0m \u001b[0;34m=\u001b[0m \u001b[0mnp\u001b[0m\u001b[0;34m.\u001b[0m\u001b[0marange\u001b[0m\u001b[0;34m(\u001b[0m\u001b[0mlen\u001b[0m\u001b[0;34m(\u001b[0m\u001b[0mself\u001b[0m\u001b[0;34m.\u001b[0m\u001b[0mitems\u001b[0m\u001b[0;34m)\u001b[0m\u001b[0;34m)\u001b[0m\u001b[0;34m[\u001b[0m\u001b[0misnull\u001b[0m\u001b[0;34m(\u001b[0m\u001b[0mself\u001b[0m\u001b[0;34m.\u001b[0m\u001b[0mitems\u001b[0m\u001b[0;34m)\u001b[0m\u001b[0;34m]\u001b[0m\u001b[0;34m\u001b[0m\u001b[0m\n",
      "\u001b[0;32m/Library/Python/2.7/site-packages/pandas/core/index.pyc\u001b[0m in \u001b[0;36mget_loc\u001b[0;34m(self, key, method, tolerance)\u001b[0m\n\u001b[1;32m   1757\u001b[0m                                  'backfill or nearest lookups')\n\u001b[1;32m   1758\u001b[0m             \u001b[0mkey\u001b[0m \u001b[0;34m=\u001b[0m \u001b[0m_values_from_object\u001b[0m\u001b[0;34m(\u001b[0m\u001b[0mkey\u001b[0m\u001b[0;34m)\u001b[0m\u001b[0;34m\u001b[0m\u001b[0m\n\u001b[0;32m-> 1759\u001b[0;31m             \u001b[0;32mreturn\u001b[0m \u001b[0mself\u001b[0m\u001b[0;34m.\u001b[0m\u001b[0m_engine\u001b[0m\u001b[0;34m.\u001b[0m\u001b[0mget_loc\u001b[0m\u001b[0;34m(\u001b[0m\u001b[0mkey\u001b[0m\u001b[0;34m)\u001b[0m\u001b[0;34m\u001b[0m\u001b[0m\n\u001b[0m\u001b[1;32m   1760\u001b[0m \u001b[0;34m\u001b[0m\u001b[0m\n\u001b[1;32m   1761\u001b[0m         indexer = self.get_indexer([key], method=method,\n",
      "\u001b[0;32mpandas/index.pyx\u001b[0m in \u001b[0;36mpandas.index.IndexEngine.get_loc (pandas/index.c:3979)\u001b[0;34m()\u001b[0m\n",
      "\u001b[0;32mpandas/index.pyx\u001b[0m in \u001b[0;36mpandas.index.IndexEngine.get_loc (pandas/index.c:3843)\u001b[0;34m()\u001b[0m\n",
      "\u001b[0;32mpandas/hashtable.pyx\u001b[0m in \u001b[0;36mpandas.hashtable.PyObjectHashTable.get_item (pandas/hashtable.c:12265)\u001b[0;34m()\u001b[0m\n",
      "\u001b[0;32mpandas/hashtable.pyx\u001b[0m in \u001b[0;36mpandas.hashtable.PyObjectHashTable.get_item (pandas/hashtable.c:12216)\u001b[0;34m()\u001b[0m\n",
      "\u001b[0;31mKeyError\u001b[0m: 'neoNatal'"
     ],
     "output_type": "error"
    }
   ],
   "source": [
    "print 'Activity PMCC:'\n",
    "print pearsonr(activity_1['Vol']/max(activity_1['Vol']), np.log(child_mort_1['neoNatal'])/min(np.log(child_mort_1['neoNatal'])))\n",
    "plt.scatter(activity_1['Vol']/max(activity_1['Vol']), np.log(child_mort_1['neoNatal'])/min(np.log(child_mort_1['neoNatal'])))\n",
    "applyPlotStyle()\n",
    "plt.xlabel('Activity Adm_1')\n",
    "plt.ylabel('Log(Malaria Cases Per Person)')\n",
    "plt.show()\n",
    "print pearsonr(activity_2['Vol']/max(activity_2['Vol']), np.log(child_mort_2['neoNatal'])/min(np.log(child_mort_2['neoNatal'])))\n",
    "plt.scatter(activity_2['Vol']/max(activity_2['Vol']), np.log(child_mort_2['neoNatal'])/min(np.log(child_mort_2['neoNatal'])))\n",
    "applyPlotStyle()\n",
    "plt.xlabel('Activity Adm_2')\n",
    "plt.ylabel('Log(Malaria Cases Per Person)')\n",
    "plt.show()\n",
    "print pearsonr(activity_3['Vol']/max(activity_3['Vol']), np.log(child_mort_3['neoNatal'])/min(np.log(child_mort_3['neoNatal'])))\n",
    "plt.scatter(activity_3['Vol']/max(activity_3['Vol']), np.log(child_mort_3['neoNatal'])/min(np.log(child_mort_3['neoNatal'])))\n",
    "applyPlotStyle()\n",
    "plt.xlabel('Activity Adm_3')\n",
    "plt.ylabel('Log(Malaria Cases Per Person)')\n",
    "plt.show()\n",
    "# print pearsonr(activity_4['Vol']/max(activity_4['Vol']), np.log(child_mort_4['neoNatal'])/min(np.log(child_mort_4['neoNatal'])))\n",
    "# plt.scatter(activity_4['Vol']/max(activity_4['Vol']), np.log(child_mort_4['neoNatal'])/min(np.log(child_mort_4['neoNatal'])))\n",
    "# applyPlotStyle()\n",
    "# plt.xlabel('Activity Adm_4')\n",
    "# plt.ylabel('Log(Malaria Cases Per Person)')\n",
    "# plt.show()"
   ]
  },
  {
   "cell_type": "code",
   "execution_count": 14,
   "metadata": {},
   "outputs": [
    {
     "name": "stdout",
     "output_type": "stream",
     "text": [
      "Activity PMCC:\n(nan, 1.0)\n"
     ]
    },
    {
     "name": "stdout",
     "output_type": "stream",
     "text": [
      "(nan, 1.0)\n"
     ]
    },
    {
     "name": "stdout",
     "output_type": "stream",
     "text": [
      "(nan, 1.0)\n"
     ]
    }
   ],
   "source": [
    "print 'Activity PMCC:'\n",
    "print pearsonr(activity_1['Vol']/max(activity_1['Vol']), np.log(child_mort_1['one2Six'])/min(np.log(child_mort_1['one2Six'])))\n",
    "plt.scatter(activity_1['Vol']/max(activity_1['Vol']), np.log(child_mort_1['one2Six'])/min(np.log(child_mort_1['one2Six'])))\n",
    "applyPlotStyle()\n",
    "plt.xlabel('Activity Adm_1')\n",
    "plt.ylabel('Log(Malaria Cases Per Person)')\n",
    "plt.show()\n",
    "print pearsonr(activity_2['Vol']/max(activity_2['Vol']), np.log(child_mort_2['one2Six'])/min(np.log(child_mort_2['one2Six'])))\n",
    "plt.scatter(activity_2['Vol']/max(activity_2['Vol']), np.log(child_mort_2['one2Six'])/min(np.log(child_mort_2['one2Six'])))\n",
    "applyPlotStyle()\n",
    "plt.xlabel('Activity Adm_2')\n",
    "plt.ylabel('Log(Malaria Cases Per Person)')\n",
    "plt.show()\n",
    "print pearsonr(activity_3['Vol']/max(activity_3['Vol']), np.log(child_mort_3['one2Six'])/min(np.log(child_mort_3['one2Six'])))\n",
    "plt.scatter(activity_3['Vol']/max(activity_3['Vol']), np.log(child_mort_3['one2Six'])/min(np.log(child_mort_3['one2Six'])))\n",
    "applyPlotStyle()\n",
    "plt.xlabel('Activity Adm_3')\n",
    "plt.ylabel('Log(Malaria Cases Per Person)')\n",
    "plt.show()\n",
    "# print pearsonr(activity_4['Vol']/max(activity_4['Vol']), np.log(child_mort_4['one2Six'])/min(np.log(child_mort_4['one2Six'])))\n",
    "# plt.scatter(activity_4['Vol']/max(activity_4['Vol']), np.log(child_mort_4['one2Six'])/min(np.log(child_mort_4['one2Six'])))\n",
    "# applyPlotStyle()\n",
    "# plt.xlabel('Activity Adm_4')\n",
    "# plt.ylabel('Log(Malaria Cases Per Person)')\n",
    "# plt.show()"
   ]
  },
  {
   "cell_type": "code",
   "execution_count": 14,
   "metadata": {},
   "outputs": [
    {
     "name": "stdout",
     "output_type": "stream",
     "text": [
      "Entropy PMCC:\n(0.63202577670943239, 0.015310761087244619)\n"
     ]
    },
    {
     "name": "stdout",
     "output_type": "stream",
     "text": [
      "(nan, 1.0)\n"
     ]
    },
    {
     "name": "stdout",
     "output_type": "stream",
     "text": [
      "(nan, 1.0)\n"
     ]
    },
    {
     "name": "stdout",
     "output_type": "stream",
     "text": [
      "(nan, 1.0)\n"
     ]
    }
   ],
   "source": [
    "print 'Entropy PMCC:'\n",
    "print pearsonr(entropy_1['Entropy']/max(entropy_1['Entropy']), np.log(hiv_1['HIV_rate'])/min(np.log(hiv_1['HIV_rate'])))\n",
    "plt.scatter(entropy_1['Entropy']/max(entropy_1['Entropy']), np.log(hiv_1['HIV_rate'])/min(np.log(hiv_1['HIV_rate'])))\n",
    "applyPlotStyle()\n",
    "plt.xlabel('Entropy Adm_1')\n",
    "plt.ylabel('Log(Malaria Cases Per Person)')\n",
    "plt.show()\n",
    "print pearsonr(entropy_2['Entropy']/max(entropy_2['Entropy']), np.log(hiv_2['HIV_rate'])/min(np.log(hiv_2['HIV_rate'])))\n",
    "plt.scatter(entropy_2['Entropy']/max(entropy_2['Entropy']), np.log(hiv_2['HIV_rate'])/min(np.log(hiv_2['HIV_rate'])))\n",
    "applyPlotStyle()\n",
    "plt.xlabel('Entropy Adm_2')\n",
    "plt.ylabel('Log(Malaria Cases Per Person)')\n",
    "plt.show()\n",
    "print pearsonr(entropy_3['Entropy']/max(entropy_3['Entropy']), np.log(hiv_3['HIV_rate'])/min(np.log(hiv_3['HIV_rate'])))\n",
    "plt.scatter(entropy_3['Entropy']/max(entropy_3['Entropy']), np.log(hiv_3['HIV_rate'])/min(np.log(hiv_3['HIV_rate'])))\n",
    "applyPlotStyle()\n",
    "plt.xlabel('Entropy Adm_3')\n",
    "plt.ylabel('Log(Malaria Cases Per Person)')\n",
    "plt.show()\n",
    "print pearsonr(entropy_4['Entropy']/max(entropy_4['Entropy']), np.log(hiv_4['HIV_rate'])/min(np.log(hiv_4['HIV_rate'])))\n",
    "plt.scatter(entropy_4['Entropy']/max(entropy_4['Entropy']), np.log(hiv_4['HIV_rate'])/min(np.log(hiv_4['HIV_rate'])))\n",
    "applyPlotStyle()\n",
    "plt.xlabel('Entropy Adm_4')\n",
    "plt.ylabel('Log(Malaria Cases Per Person)')\n",
    "plt.show()"
   ]
  },
  {
   "cell_type": "code",
   "execution_count": 38,
   "metadata": {},
   "outputs": [
    {
     "name": "stdout",
     "output_type": "stream",
     "text": [
      "Entropy PMCC:\n(0.24981104277517213, 0.38905150796796861)\n"
     ]
    },
    {
     "name": "stdout",
     "output_type": "stream",
     "text": [
      "(nan, 1.0)\n"
     ]
    },
    {
     "name": "stdout",
     "output_type": "stream",
     "text": [
      "(nan, 1.0)\n"
     ]
    }
   ],
   "source": [
    "print 'Entropy PMCC:'\n",
    "print pearsonr(entropy_1['Entropy']/max(entropy_1['Entropy']), np.log(child_mort_1['neoNatal'])/min(np.log(child_mort_1['neoNatal'])))\n",
    "plt.scatter(entropy_1['Entropy']/max(entropy_1['Entropy']), np.log(child_mort_1['neoNatal'])/min(np.log(child_mort_1['neoNatal'])))\n",
    "applyPlotStyle()\n",
    "plt.xlabel('Entropy Adm_1')\n",
    "plt.ylabel('Log(Malaria Cases Per Person)')\n",
    "plt.show()\n",
    "print pearsonr(entropy_2['Entropy']/max(entropy_2['Entropy']), np.log(child_mort_2['neoNatal'])/min(np.log(child_mort_2['neoNatal'])))\n",
    "plt.scatter(entropy_2['Entropy']/max(entropy_2['Entropy']), np.log(child_mort_2['neoNatal'])/min(np.log(child_mort_2['neoNatal'])))\n",
    "applyPlotStyle()\n",
    "plt.xlabel('Entropy Adm_2')\n",
    "plt.ylabel('Log(Malaria Cases Per Person)')\n",
    "plt.show()\n",
    "print pearsonr(entropy_3['Entropy']/max(entropy_3['Entropy']), np.log(child_mort_3['neoNatal'])/min(np.log(child_mort_3['neoNatal'])))\n",
    "plt.scatter(entropy_3['Entropy']/max(entropy_3['Entropy']), np.log(child_mort_3['neoNatal'])/min(np.log(child_mort_3['neoNatal'])))\n",
    "applyPlotStyle()\n",
    "plt.xlabel('Entropy Adm_3')\n",
    "plt.ylabel('Log(Malaria Cases Per Person)')\n",
    "plt.show()\n",
    "# print pearsonr(entropy_4['Entropy']/max(entropy_4['Entropy']), np.log(child_mort_4['neoNatal'])/min(np.log(child_mort_4['neoNatal'])))\n",
    "# plt.scatter(entropy_4['Entropy']/max(entropy_4['Entropy']), np.log(child_mort_4['neoNatal'])/min(np.log(child_mort_4['neoNatal'])))\n",
    "# applyPlotStyle()\n",
    "# plt.xlabel('Entropy Adm_4')\n",
    "# plt.ylabel('Log(Malaria Cases Per Person)')\n",
    "# plt.show()"
   ]
  },
  {
   "cell_type": "code",
   "execution_count": 16,
   "metadata": {},
   "outputs": [
    {
     "name": "stdout",
     "output_type": "stream",
     "text": [
      "Entropy PMCC:\n(nan, 1.0)\n"
     ]
    },
    {
     "name": "stdout",
     "output_type": "stream",
     "text": [
      "(nan, 1.0)\n"
     ]
    },
    {
     "name": "stdout",
     "output_type": "stream",
     "text": [
      "(nan, 1.0)\n"
     ]
    }
   ],
   "source": [
    "print 'Entropy PMCC:'\n",
    "print pearsonr(entropy_1['Entropy']/max(entropy_1['Entropy']), np.log(child_mort_1['one2Six'])/min(np.log(child_mort_1['one2Six'])))\n",
    "plt.scatter(entropy_1['Entropy']/max(entropy_1['Entropy']), np.log(child_mort_1['one2Six'])/min(np.log(child_mort_1['one2Six'])))\n",
    "applyPlotStyle()\n",
    "plt.xlabel('Entropy Adm_1')\n",
    "plt.ylabel('Log(Malaria Cases Per Person)')\n",
    "plt.show()\n",
    "print pearsonr(entropy_2['Entropy']/max(entropy_2['Entropy']), np.log(child_mort_2['one2Six'])/min(np.log(child_mort_2['one2Six'])))\n",
    "plt.scatter(entropy_2['Entropy']/max(entropy_2['Entropy']), np.log(child_mort_2['one2Six'])/min(np.log(child_mort_2['one2Six'])))\n",
    "applyPlotStyle()\n",
    "plt.xlabel('Entropy Adm_2')\n",
    "plt.ylabel('Log(Malaria Cases Per Person)')\n",
    "plt.show()\n",
    "print pearsonr(entropy_3['Entropy']/max(entropy_3['Entropy']), np.log(child_mort_3['one2Six'])/min(np.log(child_mort_3['one2Six'])))\n",
    "plt.scatter(entropy_3['Entropy']/max(entropy_3['Entropy']), np.log(child_mort_3['one2Six'])/min(np.log(child_mort_3['one2Six'])))\n",
    "applyPlotStyle()\n",
    "plt.xlabel('Entropy Adm_3')\n",
    "plt.ylabel('Log(Malaria Cases Per Person)')\n",
    "plt.show()\n",
    "# print pearsonr(entropy_4['Entropy']/max(entropy_4['Entropy']), np.log(child_mort_4['one2Six'])/min(np.log(child_mort_4['one2Six'])))\n",
    "# plt.scatter(entropy_4['Entropy']/max(entropy_4['Entropy']), np.log(child_mort_4['one2Six'])/min(np.log(child_mort_4['one2Six'])))\n",
    "# applyPlotStyle()\n",
    "# plt.xlabel('Entropy Adm_4')\n",
    "# plt.ylabel('Log(Malaria Cases Per Person)')\n",
    "# plt.show()"
   ]
  },
  {
   "cell_type": "code",
   "execution_count": 15,
   "metadata": {},
   "outputs": [
    {
     "name": "stdout",
     "output_type": "stream",
     "text": [
      "Degree PMCC:\n(0.63639972297278069, 0.014406949539669357)\n"
     ]
    },
    {
     "name": "stdout",
     "output_type": "stream",
     "text": [
      "(nan, 1.0)\n"
     ]
    },
    {
     "name": "stdout",
     "output_type": "stream",
     "text": [
      "(nan, 1.0)\n"
     ]
    },
    {
     "name": "stdout",
     "output_type": "stream",
     "text": [
      "(nan, 1.0)\n"
     ]
    }
   ],
   "source": [
    "print 'Degree PMCC:'\n",
    "print pearsonr(degree_1['Degree']/max(degree_1['Degree']), np.log(hiv_1['HIV_rate'])/min(np.log(hiv_1['HIV_rate'])))\n",
    "plt.scatter(degree_1['Degree']/max(degree_1['Degree']), np.log(hiv_1['HIV_rate'])/min(np.log(hiv_1['HIV_rate'])))\n",
    "applyPlotStyle()\n",
    "plt.xlabel('Degree Adm_1')\n",
    "plt.ylabel('Log(Malaria Cases Per Person)')\n",
    "plt.show()\n",
    "print pearsonr(degree_2['Degree']/max(degree_2['Degree']), np.log(hiv_2['HIV_rate'])/min(np.log(hiv_2['HIV_rate'])))\n",
    "plt.scatter(degree_2['Degree']/max(degree_2['Degree']), np.log(hiv_2['HIV_rate'])/min(np.log(hiv_2['HIV_rate'])))\n",
    "applyPlotStyle()\n",
    "plt.xlabel('Degree Adm_2')\n",
    "plt.ylabel('Log(Malaria Cases Per Person)')\n",
    "plt.show()\n",
    "print pearsonr(degree_3['Degree']/max(degree_3['Degree']), np.log(hiv_3['HIV_rate'])/min(np.log(hiv_3['HIV_rate'])))\n",
    "plt.scatter(degree_3['Degree']/max(degree_3['Degree']), np.log(hiv_3['HIV_rate'])/min(np.log(hiv_3['HIV_rate'])))\n",
    "applyPlotStyle()\n",
    "plt.xlabel('Degree Adm_3')\n",
    "plt.ylabel('Log(Malaria Cases Per Person)')\n",
    "plt.show()\n",
    "print pearsonr(degree_4['Degree']/max(degree_4['Degree']), np.log(hiv_4['HIV_rate'])/min(np.log(hiv_4['HIV_rate'])))\n",
    "plt.scatter(degree_4['Degree']/max(degree_4['Degree']), np.log(hiv_4['HIV_rate'])/min(np.log(hiv_4['HIV_rate'])))\n",
    "applyPlotStyle()\n",
    "plt.xlabel('Degree Adm_4')\n",
    "plt.ylabel('Log(Malaria Cases Per Person)')\n",
    "plt.show()"
   ]
  },
  {
   "cell_type": "code",
   "execution_count": 40,
   "metadata": {},
   "outputs": [
    {
     "name": "stdout",
     "output_type": "stream",
     "text": [
      "Degree PMCC:\n(0.28216011453213585, 0.32838595119176123)\n"
     ]
    },
    {
     "name": "stdout",
     "output_type": "stream",
     "text": [
      "(nan, 1.0)\n"
     ]
    },
    {
     "name": "stdout",
     "output_type": "stream",
     "text": [
      "(nan, 1.0)\n"
     ]
    }
   ],
   "source": [
    "print 'Degree PMCC:'\n",
    "print pearsonr(degree_1['Degree']/max(degree_1['Degree']), np.log(child_mort_1['neoNatal'])/min(np.log(child_mort_1['neoNatal'])))\n",
    "plt.scatter(degree_1['Degree']/max(degree_1['Degree']), np.log(child_mort_1['neoNatal'])/min(np.log(child_mort_1['neoNatal'])))\n",
    "applyPlotStyle()\n",
    "plt.xlabel('Degree Adm_1')\n",
    "plt.ylabel('Log(Malaria Cases Per Person)')\n",
    "plt.show()\n",
    "print pearsonr(degree_2['Degree']/max(degree_2['Degree']), np.log(child_mort_2['neoNatal'])/min(np.log(child_mort_2['neoNatal'])))\n",
    "plt.scatter(degree_2['Degree']/max(degree_2['Degree']), np.log(child_mort_2['neoNatal'])/min(np.log(child_mort_2['neoNatal'])))\n",
    "applyPlotStyle()\n",
    "plt.xlabel('Degree Adm_2')\n",
    "plt.ylabel('Log(Malaria Cases Per Person)')\n",
    "plt.show()\n",
    "print pearsonr(degree_3['Degree']/max(degree_3['Degree']), np.log(child_mort_3['neoNatal'])/min(np.log(child_mort_3['neoNatal'])))\n",
    "plt.scatter(degree_3['Degree']/max(degree_3['Degree']), np.log(child_mort_3['neoNatal'])/min(np.log(child_mort_3['neoNatal'])))\n",
    "applyPlotStyle()\n",
    "plt.xlabel('Degree Adm_3')\n",
    "plt.ylabel('Log(Malaria Cases Per Person)')\n",
    "plt.show()\n",
    "# print pearsonr(degree_4['Degree']/max(degree_4['Degree']), np.log(child_mort_4['neoNatal'])/min(np.log(child_mort_4['neoNatal'])))\n",
    "# plt.scatter(degree_4['Degree']/max(degree_4['Degree']), np.log(child_mort_4['neoNatal'])/min(np.log(child_mort_4['neoNatal'])))\n",
    "# applyPlotStyle()\n",
    "# plt.xlabel('Degree Adm_4')\n",
    "# plt.ylabel('Log(Malaria Cases Per Person)')\n",
    "# plt.show()"
   ]
  },
  {
   "cell_type": "code",
   "execution_count": 16,
   "metadata": {},
   "outputs": [
    {
     "name": "stdout",
     "output_type": "stream",
     "text": [
      "Introversion PMCC:\n(0.033003497964916355, 0.91082047702217817)\n"
     ]
    },
    {
     "name": "stdout",
     "output_type": "stream",
     "text": [
      "(nan, 1.0)\n"
     ]
    },
    {
     "name": "stdout",
     "output_type": "stream",
     "text": [
      "(nan, 1.0)\n"
     ]
    },
    {
     "name": "stdout",
     "output_type": "stream",
     "text": [
      "(nan, 1.0)\n"
     ]
    }
   ],
   "source": [
    "print 'Introversion PMCC:'\n",
    "print pearsonr(introversion_1['Introversion']/max(introversion_1['Introversion']), np.log(hiv_1['HIV_rate'])/min(np.log(hiv_1['HIV_rate'])))\n",
    "plt.scatter(introversion_1['Introversion']/max(introversion_1['Introversion']), np.log(hiv_1['HIV_rate'])/min(np.log(hiv_1['HIV_rate'])))\n",
    "applyPlotStyle()\n",
    "plt.xlabel('Introversion Adm_1')\n",
    "plt.ylabel('Log(Malaria Cases Per Person)')\n",
    "plt.show()\n",
    "print pearsonr(introversion_2['Introversion']/max(introversion_2['Introversion']), np.log(hiv_2['HIV_rate'])/min(np.log(hiv_2['HIV_rate'])))\n",
    "plt.scatter(introversion_2['Introversion']/max(introversion_2['Introversion']), np.log(hiv_2['HIV_rate'])/min(np.log(hiv_2['HIV_rate'])))\n",
    "applyPlotStyle()\n",
    "plt.xlabel('Introversion Adm_2')\n",
    "plt.ylabel('Log(Malaria Cases Per Person)')\n",
    "plt.show()\n",
    "print pearsonr(introversion_3['Introversion']/max(introversion_3['Introversion']), np.log(hiv_3['HIV_rate'])/min(np.log(hiv_3['HIV_rate'])))\n",
    "plt.scatter(introversion_3['Introversion']/max(introversion_3['Introversion']), np.log(hiv_3['HIV_rate'])/min(np.log(hiv_3['HIV_rate'])))\n",
    "applyPlotStyle()\n",
    "plt.xlabel('Introversion Adm_3')\n",
    "plt.ylabel('Log(Malaria Cases Per Person)')\n",
    "plt.show()\n",
    "print pearsonr(introversion_4['Introversion']/max(introversion_4['Introversion']), np.log(hiv_4['HIV_rate'])/min(np.log(hiv_4['HIV_rate'])))\n",
    "plt.scatter(introversion_4['Introversion']/max(introversion_4['Introversion']), np.log(hiv_4['HIV_rate'])/min(np.log(hiv_4['HIV_rate'])))\n",
    "applyPlotStyle()\n",
    "plt.xlabel('Introversion Adm_4')\n",
    "plt.ylabel('Log(Malaria Cases Per Person)')\n",
    "plt.show()"
   ]
  },
  {
   "cell_type": "code",
   "execution_count": 41,
   "metadata": {},
   "outputs": [
    {
     "name": "stdout",
     "output_type": "stream",
     "text": [
      "Introversion PMCC:\n(0.39683487868733902, 0.16005989673780449)\n"
     ]
    },
    {
     "name": "stdout",
     "output_type": "stream",
     "text": [
      "(nan, 1.0)\n"
     ]
    },
    {
     "name": "stdout",
     "output_type": "stream",
     "text": [
      "(nan, 1.0)\n"
     ]
    }
   ],
   "source": [
    "print 'Introversion PMCC:'\n",
    "print pearsonr(introversion_1['Introversion']/max(introversion_1['Introversion']), np.log(child_mort_1['neoNatal'])/min(np.log(child_mort_1['neoNatal'])))\n",
    "plt.scatter(introversion_1['Introversion']/max(introversion_1['Introversion']), np.log(child_mort_1['neoNatal'])/min(np.log(child_mort_1['neoNatal'])))\n",
    "applyPlotStyle()\n",
    "plt.xlabel('Introversion Adm_1')\n",
    "plt.ylabel('Log(Malaria Cases Per Person)')\n",
    "plt.show()\n",
    "print pearsonr(introversion_2['Introversion']/max(introversion_2['Introversion']), np.log(child_mort_2['neoNatal'])/min(np.log(child_mort_2['neoNatal'])))\n",
    "plt.scatter(introversion_2['Introversion']/max(introversion_2['Introversion']), np.log(child_mort_2['neoNatal'])/min(np.log(child_mort_2['neoNatal'])))\n",
    "applyPlotStyle()\n",
    "plt.xlabel('Introversion Adm_2')\n",
    "plt.ylabel('Log(Malaria Cases Per Person)')\n",
    "plt.show()\n",
    "print pearsonr(introversion_3['Introversion']/max(introversion_3['Introversion']), np.log(child_mort_3['neoNatal'])/min(np.log(child_mort_3['neoNatal'])))\n",
    "plt.scatter(introversion_3['Introversion']/max(introversion_3['Introversion']), np.log(child_mort_3['neoNatal'])/min(np.log(child_mort_3['neoNatal'])))\n",
    "applyPlotStyle()\n",
    "plt.xlabel('Introversion Adm_3')\n",
    "plt.ylabel('Log(Malaria Cases Per Person)')\n",
    "plt.show()\n",
    "# print pearsonr(introversion_4['Introversion']/max(introversion_4['Introversion']), np.log(child_mort_4['neoNatal'])/min(np.log(child_mort_4['neoNatal'])))\n",
    "# plt.scatter(introversion_4['Introversion']/max(introversion_4['Introversion']), np.log(child_mort_4['neoNatal'])/min(np.log(child_mort_4['neoNatal'])))\n",
    "# applyPlotStyle()\n",
    "# plt.xlabel('Introversion Adm_4')\n",
    "# plt.ylabel('Log(Malaria Cases Per Person)')\n",
    "# plt.show()"
   ]
  },
  {
   "cell_type": "code",
   "execution_count": 17,
   "metadata": {},
   "outputs": [
    {
     "name": "stdout",
     "output_type": "stream",
     "text": [
      "Activity PMCC:\n(0.43226992896929656, 0.12267961238819422)\n"
     ]
    },
    {
     "name": "stdout",
     "output_type": "stream",
     "text": [
      "(nan, 1.0)\n"
     ]
    },
    {
     "name": "stdout",
     "output_type": "stream",
     "text": [
      "(nan, 1.0)\n"
     ]
    },
    {
     "name": "stdout",
     "output_type": "stream",
     "text": [
      "(nan, 1.0)\n"
     ]
    }
   ],
   "source": [
    "# LOG LOG\n",
    "print 'Activity PMCC:'\n",
    "print pearsonr(np.log(activity_1['Vol'])/max(np.log(activity_1['Vol'])), np.log(hiv_1['HIV_rate'])/min(np.log(hiv_1['HIV_rate'])))\n",
    "plt.scatter(np.log(activity_1['Vol'])/max(np.log(activity_1['Vol'])), np.log(hiv_1['HIV_rate'])/min(np.log(hiv_1['HIV_rate'])))\n",
    "applyPlotStyle()\n",
    "plt.xlabel('Activity Adm_1')\n",
    "plt.ylabel('Log(HIV Cases Per Person)')\n",
    "plt.show()\n",
    "print pearsonr(np.log(activity_2['Vol'])/max(np.log(activity_2['Vol'])), np.log(hiv_2['HIV_rate'])/min(np.log(hiv_2['HIV_rate'])))\n",
    "plt.scatter(np.log(activity_2['Vol'])/max(np.log(activity_2['Vol'])), np.log(hiv_2['HIV_rate'])/min(np.log(hiv_2['HIV_rate'])))\n",
    "applyPlotStyle()\n",
    "plt.xlabel('Activity Adm_2')\n",
    "plt.ylabel('Log(HIV Cases Per Person)')\n",
    "plt.show()\n",
    "print pearsonr(np.log(activity_3['Vol'])/max(np.log(activity_3['Vol'])), np.log(hiv_3['HIV_rate'])/min(np.log(hiv_3['HIV_rate'])))\n",
    "plt.scatter(np.log(activity_3['Vol'])/max(np.log(activity_3['Vol'])), np.log(hiv_3['HIV_rate'])/min(np.log(hiv_3['HIV_rate'])))\n",
    "applyPlotStyle()\n",
    "plt.xlabel('Activity Adm_3')\n",
    "plt.ylabel('Log(HIV Cases Per Person)')\n",
    "plt.show()\n",
    "print pearsonr(np.log(activity_4['Vol'])/max(np.log(activity_4['Vol'])), np.log(hiv_4['HIV_rate'])/min(np.log(hiv_4['HIV_rate'])))\n",
    "plt.scatter(np.log(activity_4['Vol'])/max(np.log(activity_4['Vol'])), np.log(hiv_4['HIV_rate'])/min(np.log(hiv_4['HIV_rate'])))\n",
    "applyPlotStyle()\n",
    "plt.xlabel('Activity Adm_4')\n",
    "plt.ylabel('Log(HIV Cases Per Person)')\n",
    "plt.show()"
   ]
  },
  {
   "cell_type": "code",
   "execution_count": 42,
   "metadata": {},
   "outputs": [
    {
     "name": "stdout",
     "output_type": "stream",
     "text": [
      "Activity PMCC:\n(0.61461908847787228, 0.019342088647603159)\n"
     ]
    },
    {
     "name": "stdout",
     "output_type": "stream",
     "text": [
      "(nan, 1.0)\n"
     ]
    },
    {
     "name": "stdout",
     "output_type": "stream",
     "text": [
      "(nan, 1.0)\n"
     ]
    }
   ],
   "source": [
    "# LOG LOG\n",
    "print 'Activity PMCC:'\n",
    "print pearsonr(np.log(activity_1['Vol'])/max(np.log(activity_1['Vol'])), np.log(child_mort_1['neoNatal'])/min(np.log(child_mort_1['neoNatal'])))\n",
    "plt.scatter(np.log(activity_1['Vol'])/max(np.log(activity_1['Vol'])), np.log(child_mort_1['neoNatal'])/min(np.log(child_mort_1['neoNatal'])))\n",
    "applyPlotStyle()\n",
    "plt.xlabel('Activity Adm_1')\n",
    "plt.ylabel('Log(HIV Cases Per Person)')\n",
    "plt.show()\n",
    "print pearsonr(np.log(activity_2['Vol'])/max(np.log(activity_2['Vol'])), np.log(child_mort_2['neoNatal'])/min(np.log(child_mort_2['neoNatal'])))\n",
    "plt.scatter(np.log(activity_2['Vol'])/max(np.log(activity_2['Vol'])), np.log(child_mort_2['neoNatal'])/min(np.log(child_mort_2['neoNatal'])))\n",
    "applyPlotStyle()\n",
    "plt.xlabel('Activity Adm_2')\n",
    "plt.ylabel('Log(HIV Cases Per Person)')\n",
    "plt.show()\n",
    "print pearsonr(np.log(activity_3['Vol'])/max(np.log(activity_3['Vol'])), np.log(child_mort_3['neoNatal'])/min(np.log(child_mort_3['neoNatal'])))\n",
    "plt.scatter(np.log(activity_3['Vol'])/max(np.log(activity_3['Vol'])), np.log(child_mort_3['neoNatal'])/min(np.log(child_mort_3['neoNatal'])))\n",
    "applyPlotStyle()\n",
    "plt.xlabel('Activity Adm_3')\n",
    "plt.ylabel('Log(HIV Cases Per Person)')\n",
    "plt.show()\n",
    "# print pearsonr(np.log(activity_4['Vol'])/max(np.log(activity_4['Vol'])), np.log(child_mort_4['neoNatal'])/min(np.log(child_mort_4['neoNatal'])))\n",
    "# plt.scatter(np.log(activity_4['Vol'])/max(np.log(activity_4['Vol'])), np.log(child_mort_4['neoNatal'])/min(np.log(child_mort_4['neoNatal'])))\n",
    "# applyPlotStyle()\n",
    "# plt.xlabel('Activity Adm_4')\n",
    "# plt.ylabel('Log(HIV Cases Per Person)')\n",
    "# plt.show()"
   ]
  },
  {
   "cell_type": "code",
   "execution_count": 18,
   "metadata": {},
   "outputs": [
    {
     "name": "stdout",
     "output_type": "stream",
     "text": [
      "Entropy PMCC:\n(0.50321717619279738, 0.066610411893875329)\n"
     ]
    },
    {
     "name": "stdout",
     "output_type": "stream",
     "text": [
      "(nan, 1.0)\n"
     ]
    },
    {
     "name": "stdout",
     "output_type": "stream",
     "text": [
      "(nan, 1.0)\n(nan, 1.0)\n"
     ]
    }
   ],
   "source": [
    "# LOG LOG\n",
    "print 'Entropy PMCC:'\n",
    "print pearsonr(np.log(entropy_1['Entropy'])/max(np.log(entropy_1['Entropy'])), np.log(hiv_1['HIV_rate'])/min(np.log(hiv_1['HIV_rate'])))\n",
    "plt.scatter(np.log(entropy_1['Entropy'])/max(np.log(entropy_1['Entropy'])), np.log(hiv_1['HIV_rate'])/min(np.log(hiv_1['HIV_rate'])))\n",
    "applyPlotStyle()\n",
    "plt.xlabel('Entropy Adm_1')\n",
    "plt.ylabel('Log(HIV Cases Per Person)')\n",
    "plt.show()\n",
    "print pearsonr(np.log(entropy_2['Entropy'])/max(np.log(entropy_2['Entropy'])), np.log(hiv_2['HIV_rate'])/min(np.log(hiv_2['HIV_rate'])))\n",
    "plt.scatter(np.log(entropy_2['Entropy'])/max(np.log(entropy_2['Entropy'])), np.log(hiv_2['HIV_rate'])/min(np.log(hiv_2['HIV_rate'])))\n",
    "applyPlotStyle()\n",
    "plt.xlabel('Entropy Adm_2')\n",
    "plt.ylabel('Log(HIV Cases Per Person)')\n",
    "plt.show()\n",
    "print pearsonr(np.log(entropy_3['Entropy'])/max(np.log(entropy_3['Entropy'])), np.log(hiv_3['HIV_rate'])/min(np.log(hiv_3['HIV_rate'])))\n",
    "plt.scatter(np.log(entropy_3['Entropy'])/max(np.log(entropy_3['Entropy'])), np.log(hiv_3['HIV_rate'])/min(np.log(hiv_3['HIV_rate'])))\n",
    "applyPlotStyle()\n",
    "plt.xlabel('Entropy Adm_3')\n",
    "plt.ylabel('Log(HIV Cases Per Person)')\n",
    "plt.show()\n",
    "print pearsonr(np.log(entropy_4['Entropy'])/max(np.log(entropy_4['Entropy'])), np.log(hiv_4['HIV_rate'])/min(np.log(hiv_4['HIV_rate'])))\n",
    "plt.scatter(np.log(entropy_4['Entropy'])/max(np.log(entropy_4['Entropy'])), np.log(hiv_4['HIV_rate'])/min(np.log(hiv_4['HIV_rate'])))\n",
    "applyPlotStyle()\n",
    "plt.xlabel('Entropy Adm_4')\n",
    "plt.ylabel('Log(HIV Cases Per Person)')\n",
    "plt.show()"
   ]
  },
  {
   "cell_type": "code",
   "execution_count": 43,
   "metadata": {},
   "outputs": [
    {
     "name": "stdout",
     "output_type": "stream",
     "text": [
      "Entropy PMCC:\n(0.52308841944851114, 0.054934900071922838)\n"
     ]
    },
    {
     "name": "stdout",
     "output_type": "stream",
     "text": [
      "(nan, 1.0)\n"
     ]
    },
    {
     "name": "stdout",
     "output_type": "stream",
     "text": [
      "(nan, 1.0)\n"
     ]
    }
   ],
   "source": [
    "# LOG LOG\n",
    "print 'Entropy PMCC:'\n",
    "print pearsonr(np.log(entropy_1['Entropy'])/max(np.log(entropy_1['Entropy'])), np.log(child_mort_1['neoNatal'])/min(np.log(child_mort_1['neoNatal'])))\n",
    "plt.scatter(np.log(entropy_1['Entropy'])/max(np.log(entropy_1['Entropy'])), np.log(child_mort_1['neoNatal'])/min(np.log(child_mort_1['neoNatal'])))\n",
    "applyPlotStyle()\n",
    "plt.xlabel('Entropy Adm_1')\n",
    "plt.ylabel('Log(HIV Cases Per Person)')\n",
    "plt.show()\n",
    "print pearsonr(np.log(entropy_2['Entropy'])/max(np.log(entropy_2['Entropy'])), np.log(child_mort_2['neoNatal'])/min(np.log(child_mort_2['neoNatal'])))\n",
    "plt.scatter(np.log(entropy_2['Entropy'])/max(np.log(entropy_2['Entropy'])), np.log(child_mort_2['neoNatal'])/min(np.log(child_mort_2['neoNatal'])))\n",
    "applyPlotStyle()\n",
    "plt.xlabel('Entropy Adm_2')\n",
    "plt.ylabel('Log(HIV Cases Per Person)')\n",
    "plt.show()\n",
    "print pearsonr(np.log(entropy_3['Entropy'])/max(np.log(entropy_3['Entropy'])), np.log(child_mort_3['neoNatal'])/min(np.log(child_mort_3['neoNatal'])))\n",
    "plt.scatter(np.log(entropy_3['Entropy'])/max(np.log(entropy_3['Entropy'])), np.log(child_mort_3['neoNatal'])/min(np.log(child_mort_3['neoNatal'])))\n",
    "applyPlotStyle()\n",
    "plt.xlabel('Entropy Adm_3')\n",
    "plt.ylabel('Log(HIV Cases Per Person)')\n",
    "plt.show()\n",
    "# print pearsonr(np.log(entropy_4['Entropy'])/max(np.log(entropy_4['Entropy'])), np.log(child_mort_4['neoNatal'])/min(np.log(child_mort_4['neoNatal'])))\n",
    "# plt.scatter(np.log(entropy_4['Entropy'])/max(np.log(entropy_4['Entropy'])), np.log(child_mort_4['neoNatal'])/min(np.log(child_mort_4['neoNatal'])))\n",
    "# applyPlotStyle()\n",
    "# plt.xlabel('Entropy Adm_4')\n",
    "# plt.ylabel('Log(HIV Cases Per Person)')\n",
    "# plt.show()"
   ]
  },
  {
   "cell_type": "code",
   "execution_count": 19,
   "metadata": {},
   "outputs": [
    {
     "name": "stdout",
     "output_type": "stream",
     "text": [
      "Degree PMCC:\n(0.52055572271097694, 0.056333993335322963)\n"
     ]
    },
    {
     "name": "stdout",
     "output_type": "stream",
     "text": [
      "(nan, 1.0)\n"
     ]
    },
    {
     "name": "stdout",
     "output_type": "stream",
     "text": [
      "(nan, 1.0)\n"
     ]
    },
    {
     "name": "stdout",
     "output_type": "stream",
     "text": [
      "(nan, 1.0)\n"
     ]
    }
   ],
   "source": [
    "# LOG LOG\n",
    "print 'Degree PMCC:'\n",
    "print pearsonr(np.log(degree_1['Degree'])/max(np.log(degree_1['Degree'])), np.log(hiv_1['HIV_rate'])/min(np.log(hiv_1['HIV_rate'])))\n",
    "plt.scatter(np.log(degree_1['Degree'])/max(np.log(degree_1['Degree'])), np.log(hiv_1['HIV_rate'])/min(np.log(hiv_1['HIV_rate'])))\n",
    "applyPlotStyle()\n",
    "plt.xlabel('Degree Adm_1')\n",
    "plt.ylabel('Log(HIV Cases Per Person)')\n",
    "plt.show()\n",
    "print pearsonr(np.log(degree_2['Degree'])/max(np.log(degree_2['Degree'])), np.log(hiv_2['HIV_rate'])/min(np.log(hiv_2['HIV_rate'])))\n",
    "plt.scatter(np.log(degree_2['Degree'])/max(np.log(degree_2['Degree'])), np.log(hiv_2['HIV_rate'])/min(np.log(hiv_2['HIV_rate'])))\n",
    "applyPlotStyle()\n",
    "plt.xlabel('Degree Adm_2')\n",
    "plt.ylabel('Log(HIV Cases Per Person)')\n",
    "plt.show()\n",
    "print pearsonr(np.log(degree_3['Degree'])/max(np.log(degree_3['Degree'])), np.log(hiv_3['HIV_rate'])/min(np.log(hiv_3['HIV_rate'])))\n",
    "plt.scatter(np.log(degree_3['Degree'])/max(np.log(degree_3['Degree'])), np.log(hiv_3['HIV_rate'])/min(np.log(hiv_3['HIV_rate'])))\n",
    "applyPlotStyle()\n",
    "plt.xlabel('Degree Adm_3')\n",
    "plt.ylabel('Log(HIV Cases Per Person)')\n",
    "plt.show()\n",
    "print pearsonr(np.log(degree_4['Degree'])/max(np.log(degree_4['Degree'])), np.log(hiv_4['HIV_rate'])/min(np.log(hiv_4['HIV_rate'])))\n",
    "plt.scatter(np.log(degree_4['Degree'])/max(np.log(degree_4['Degree'])), np.log(hiv_4['HIV_rate'])/min(np.log(hiv_4['HIV_rate'])))\n",
    "applyPlotStyle()\n",
    "plt.xlabel('Degree Adm_4')\n",
    "plt.ylabel('Log(HIV Cases Per Person)')\n",
    "plt.show()"
   ]
  },
  {
   "cell_type": "code",
   "execution_count": 44,
   "metadata": {},
   "outputs": [
    {
     "name": "stdout",
     "output_type": "stream",
     "text": [
      "Degree PMCC:\n(0.58438705056924223, 0.028188790349226233)\n"
     ]
    },
    {
     "name": "stdout",
     "output_type": "stream",
     "text": [
      "(nan, 1.0)\n"
     ]
    },
    {
     "name": "stdout",
     "output_type": "stream",
     "text": [
      "(nan, 1.0)\n"
     ]
    }
   ],
   "source": [
    "# LOG LOG\n",
    "print 'Degree PMCC:'\n",
    "print pearsonr(np.log(degree_1['Degree'])/max(np.log(degree_1['Degree'])), np.log(child_mort_1['neoNatal'])/min(np.log(child_mort_1['neoNatal'])))\n",
    "plt.scatter(np.log(degree_1['Degree'])/max(np.log(degree_1['Degree'])), np.log(child_mort_1['neoNatal'])/min(np.log(child_mort_1['neoNatal'])))\n",
    "applyPlotStyle()\n",
    "plt.xlabel('Degree Adm_1')\n",
    "plt.ylabel('Log(HIV Cases Per Person)')\n",
    "plt.show()\n",
    "print pearsonr(np.log(degree_2['Degree'])/max(np.log(degree_2['Degree'])), np.log(child_mort_2['neoNatal'])/min(np.log(child_mort_2['neoNatal'])))\n",
    "plt.scatter(np.log(degree_2['Degree'])/max(np.log(degree_2['Degree'])), np.log(child_mort_2['neoNatal'])/min(np.log(child_mort_2['neoNatal'])))\n",
    "applyPlotStyle()\n",
    "plt.xlabel('Degree Adm_2')\n",
    "plt.ylabel('Log(HIV Cases Per Person)')\n",
    "plt.show()\n",
    "print pearsonr(np.log(degree_3['Degree'])/max(np.log(degree_3['Degree'])), np.log(child_mort_3['neoNatal'])/min(np.log(child_mort_3['neoNatal'])))\n",
    "plt.scatter(np.log(degree_3['Degree'])/max(np.log(degree_3['Degree'])), np.log(child_mort_3['neoNatal'])/min(np.log(child_mort_3['neoNatal'])))\n",
    "applyPlotStyle()\n",
    "plt.xlabel('Degree Adm_3')\n",
    "plt.ylabel('Log(HIV Cases Per Person)')\n",
    "plt.show()\n",
    "# print pearsonr(np.log(degree_4['Degree'])/max(np.log(degree_4['Degree'])), np.log(child_mort_4['neoNatal'])/min(np.log(child_mort_4['neoNatal'])))\n",
    "# plt.scatter(np.log(degree_4['Degree'])/max(np.log(degree_4['Degree'])), np.log(child_mort_4['neoNatal'])/min(np.log(child_mort_4['neoNatal'])))\n",
    "# applyPlotStyle()\n",
    "# plt.xlabel('Degree Adm_4')\n",
    "# plt.ylabel('Log(HIV Cases Per Person)')\n",
    "# plt.show()"
   ]
  },
  {
   "cell_type": "code",
   "execution_count": 20,
   "metadata": {},
   "outputs": [
    {
     "name": "stdout",
     "output_type": "stream",
     "text": [
      "Introversion PMCC:\n(-0.08150103029479952, 0.78179726912057768)\n"
     ]
    },
    {
     "name": "stdout",
     "output_type": "stream",
     "text": [
      "(nan, 1.0)\n"
     ]
    },
    {
     "name": "stdout",
     "output_type": "stream",
     "text": [
      "(nan, 1.0)\n(nan, 1.0)\n"
     ]
    }
   ],
   "source": [
    "# LOG LOG\n",
    "print 'Introversion PMCC:'\n",
    "print pearsonr(np.log(introversion_1['Introversion'])/max(np.log(introversion_1['Introversion'])), np.log(hiv_1['HIV_rate'])/min(np.log(hiv_1['HIV_rate'])))\n",
    "plt.scatter(np.log(introversion_1['Introversion'])/max(np.log(introversion_1['Introversion'])), np.log(hiv_1['HIV_rate'])/min(np.log(hiv_1['HIV_rate'])))\n",
    "applyPlotStyle()\n",
    "plt.xlabel('Introversion Adm_1')\n",
    "plt.ylabel('Log(HIV Cases Per Person)')\n",
    "plt.show()\n",
    "print pearsonr(np.log(introversion_2['Introversion'])/max(np.log(introversion_2['Introversion'])), np.log(hiv_2['HIV_rate'])/min(np.log(hiv_2['HIV_rate'])))\n",
    "plt.scatter(np.log(introversion_2['Introversion'])/max(np.log(introversion_2['Introversion'])), np.log(hiv_2['HIV_rate'])/min(np.log(hiv_2['HIV_rate'])))\n",
    "applyPlotStyle()\n",
    "plt.xlabel('Introversion Adm_2')\n",
    "plt.ylabel('Log(HIV Cases Per Person)')\n",
    "plt.show()\n",
    "print pearsonr(np.log(introversion_3['Introversion'])/max(np.log(introversion_3['Introversion'])), np.log(hiv_3['HIV_rate'])/min(np.log(hiv_3['HIV_rate'])))\n",
    "plt.scatter(np.log(introversion_3['Introversion'])/max(np.log(introversion_3['Introversion'])), np.log(hiv_3['HIV_rate'])/min(np.log(hiv_3['HIV_rate'])))\n",
    "applyPlotStyle()\n",
    "plt.xlabel('Introversion Adm_3')\n",
    "plt.ylabel('Log(HIV Cases Per Person)')\n",
    "plt.show()\n",
    "print pearsonr(np.log(introversion_4['Introversion'])/max(np.log(introversion_4['Introversion'])), np.log(hiv_4['HIV_rate'])/min(np.log(hiv_4['HIV_rate'])))\n",
    "plt.scatter(np.log(introversion_4['Introversion'])/max(np.log(introversion_4['Introversion'])), np.log(hiv_4['HIV_rate'])/min(np.log(hiv_4['HIV_rate'])))\n",
    "applyPlotStyle()\n",
    "plt.xlabel('Introversion Adm_4')\n",
    "plt.ylabel('Log(HIV Cases Per Person)')\n",
    "plt.show()"
   ]
  },
  {
   "cell_type": "code",
   "execution_count": 45,
   "metadata": {},
   "outputs": [
    {
     "name": "stdout",
     "output_type": "stream",
     "text": [
      "Introversion PMCC:\n(0.42353953668862188, 0.13127723460860738)\n"
     ]
    },
    {
     "name": "stdout",
     "output_type": "stream",
     "text": [
      "(nan, 1.0)\n"
     ]
    },
    {
     "name": "stdout",
     "output_type": "stream",
     "text": [
      "(nan, 1.0)\n"
     ]
    }
   ],
   "source": [
    "# LOG LOG\n",
    "print 'Introversion PMCC:'\n",
    "print pearsonr(np.log(introversion_1['Introversion'])/max(np.log(introversion_1['Introversion'])), np.log(child_mort_1['neoNatal'])/min(np.log(child_mort_1['neoNatal'])))\n",
    "plt.scatter(np.log(introversion_1['Introversion'])/max(np.log(introversion_1['Introversion'])), np.log(child_mort_1['neoNatal'])/min(np.log(child_mort_1['neoNatal'])))\n",
    "applyPlotStyle()\n",
    "plt.xlabel('Introversion Adm_1')\n",
    "plt.ylabel('Log(HIV Cases Per Person)')\n",
    "plt.show()\n",
    "print pearsonr(np.log(introversion_2['Introversion'])/max(np.log(introversion_2['Introversion'])), np.log(child_mort_2['neoNatal'])/min(np.log(child_mort_2['neoNatal'])))\n",
    "plt.scatter(np.log(introversion_2['Introversion'])/max(np.log(introversion_2['Introversion'])), np.log(child_mort_2['neoNatal'])/min(np.log(child_mort_2['neoNatal'])))\n",
    "applyPlotStyle()\n",
    "plt.xlabel('Introversion Adm_2')\n",
    "plt.ylabel('Log(HIV Cases Per Person)')\n",
    "plt.show()\n",
    "print pearsonr(np.log(introversion_3['Introversion'])/max(np.log(introversion_3['Introversion'])), np.log(child_mort_3['neoNatal'])/min(np.log(child_mort_3['neoNatal'])))\n",
    "plt.scatter(np.log(introversion_3['Introversion'])/max(np.log(introversion_3['Introversion'])), np.log(child_mort_3['neoNatal'])/min(np.log(child_mort_3['neoNatal'])))\n",
    "applyPlotStyle()\n",
    "plt.xlabel('Introversion Adm_3')\n",
    "plt.ylabel('Log(HIV Cases Per Person)')\n",
    "plt.show()\n",
    "# print pearsonr(np.log(introversion_4['Introversion'])/max(np.log(introversion_4['Introversion'])), np.log(child_mort_4['neoNatal'])/min(np.log(child_mort_4['neoNatal'])))\n",
    "# plt.scatter(np.log(introversion_4['Introversion'])/max(np.log(introversion_4['Introversion'])), np.log(child_mort_4['neoNatal'])/min(np.log(child_mort_4['neoNatal'])))\n",
    "# applyPlotStyle()\n",
    "# plt.xlabel('Introversion Adm_4')\n",
    "# plt.ylabel('Log(HIV Cases Per Person)')\n",
    "# plt.show()"
   ]
  },
  {
   "cell_type": "code",
   "execution_count": null,
   "metadata": {},
   "outputs": [],
   "source": [
    ""
   ]
  }
 ],
 "metadata": {
  "kernelspec": {
   "display_name": "Python 2",
   "language": "python",
   "name": "python2"
  },
  "language_info": {
   "codemirror_mode": {
    "name": "ipython",
    "version": 2.0
   },
   "file_extension": ".py",
   "mimetype": "text/x-python",
   "name": "python",
   "nbconvert_exporter": "python",
   "pygments_lexer": "ipython2",
   "version": "2.7.6"
  }
 },
 "nbformat": 4,
 "nbformat_minor": 0
}